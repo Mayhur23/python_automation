{
 "cells": [
  {
   "cell_type": "markdown",
   "id": "6035c914-2427-4e6a-a60d-f84c64ca8ab9",
   "metadata": {},
   "source": [
    "# 05.3 워드 파일 읽기\n",
    "## 단락 읽기"
   ]
  },
  {
   "cell_type": "code",
   "execution_count": null,
   "id": "61c6f354-39b6-4664-9d92-ec75e6965146",
   "metadata": {},
   "outputs": [],
   "source": [
    "from docx import Document\n",
    "\n",
    "# 워드 파일 열기\n",
    "doc = Document('read_doc.docx')\n",
    "\n",
    "# 단락 읽기\n",
    "for para in doc.paragraphs:\n",
    "    print(para.text)\n"
   ]
  },
  {
   "cell_type": "markdown",
   "id": "9d95cb09-1699-4c8f-b455-b3ce661d4114",
   "metadata": {},
   "source": [
    "## 단락과 텍스트의 서식 확인"
   ]
  },
  {
   "cell_type": "code",
   "execution_count": null,
   "id": "d0500c8a-f738-4092-89ee-b81ea09420df",
   "metadata": {},
   "outputs": [],
   "source": [
    "from docx import Document\n",
    "from docx.enum.text import WD_ALIGN_PARAGRAPH\n",
    "\n",
    "# 문서를 열어서 객체로 가져옵니다.\n",
    "doc = Document('read_doc.docx')\n",
    "\n",
    "# 각 단락의 서식을 확인합니다.\n",
    "for index, paragraph in enumerate(doc.paragraphs):\n",
    "    print(f\"단락 번호 {index}:\")\n",
    "    print(f\"  정렬: {paragraph.alignment}\")\n",
    "\n",
    "    # 각 단락 내에서 개별 텍스트 런의 서식을 확인합니다.\n",
    "    for run in paragraph.runs:\n",
    "        print(f\"    텍스트 내용: {run.text}\")\n",
    "        print(f\"      굵게: {run.bold}\")\n",
    "        print(f\"      기울임: {run.italic}\")\n",
    "        print(f\"      밑줄: {run.underline}\")\n",
    "        print(f\"      글꼴: {run.font.name}\")\n",
    "        print(f\"      글자 크기: {run.font.size}\")\n",
    "        print(f\"      글자색: {run.font.color.rgb}\")\n",
    "\n",
    "    print('-' * 20)  # 단락 간 구분선\n",
    "\n"
   ]
  },
  {
   "cell_type": "markdown",
   "id": "9f7fbb36-2deb-44aa-b224-59a5124f0fd7",
   "metadata": {},
   "source": [
    "## 표 읽기"
   ]
  },
  {
   "cell_type": "code",
   "execution_count": null,
   "id": "e02cbab4-adb3-44ea-ad39-b3d6f30dc812",
   "metadata": {},
   "outputs": [],
   "source": [
    "from docx import Document\n",
    "\n",
    "doc = Document('example5.docx')\n",
    "\n",
    "# 표 읽기\n",
    "for table in doc.tables:\n",
    "    for row in table.rows:\n",
    "        for cell in row.cells:\n",
    "            print(cell.text)\n"
   ]
  },
  {
   "cell_type": "markdown",
   "id": "cfb9ec9c-2061-4850-b365-9d1127141503",
   "metadata": {},
   "source": [
    "## 머리글과 꼬리글 읽기"
   ]
  },
  {
   "cell_type": "code",
   "execution_count": null,
   "id": "f7fd39a9-dc7a-460e-ad1b-562c33551ac7",
   "metadata": {},
   "outputs": [],
   "source": [
    "from docx import Document\n",
    "\n",
    "doc = Document('example.docx')\n",
    "\n",
    "# 머리글 읽기\n",
    "for section in doc.sections:\n",
    "    header = section.header\n",
    "    for paragraph in header.paragraphs:\n",
    "        print(paragraph.text)\n",
    "\n",
    "# 꼬리글 읽기\n",
    "for section in doc.sections:\n",
    "    footer = section.footer\n",
    "    for paragraph in footer.paragraphs:\n",
    "        print(paragraph.text)\n"
   ]
  },
  {
   "cell_type": "markdown",
   "id": "d0d45283-445f-49a7-bf84-9c26171f246f",
   "metadata": {},
   "source": [
    "## 이미지 추출하기"
   ]
  },
  {
   "cell_type": "code",
   "execution_count": null,
   "id": "6898da96-ae62-4ae2-8530-7ca978aac147",
   "metadata": {},
   "outputs": [],
   "source": [
    "# docx2txt라이브러리 설치\n",
    "!pip install docx2txt"
   ]
  },
  {
   "cell_type": "code",
   "execution_count": null,
   "id": "8ce47fd3-2889-4540-9c51-0ab5bf0244e5",
   "metadata": {},
   "outputs": [],
   "source": [
    "import docx2txt\n",
    "\n",
    "# docx2txt를 사용하여 이미지 추출\n",
    "docx2txt.process('example.docx', './추출한 이미지 폴더/')"
   ]
  }
 ],
 "metadata": {
  "kernelspec": {
   "display_name": "Python 3 (ipykernel)",
   "language": "python",
   "name": "python3"
  },
  "language_info": {
   "codemirror_mode": {
    "name": "ipython",
    "version": 3
   },
   "file_extension": ".py",
   "mimetype": "text/x-python",
   "name": "python",
   "nbconvert_exporter": "python",
   "pygments_lexer": "ipython3",
   "version": "3.11.7"
  }
 },
 "nbformat": 4,
 "nbformat_minor": 5
}
