{
 "cells": [
  {
   "cell_type": "markdown",
   "id": "6035c914-2427-4e6a-a60d-f84c64ca8ab9",
   "metadata": {},
   "source": [
    "# 05.2 워드 파일 서식 설정하기\n",
    "## 텍스트 서식 설정하기"
   ]
  },
  {
   "cell_type": "code",
   "execution_count": null,
   "id": "61c6f354-39b6-4664-9d92-ec75e6965146",
   "metadata": {},
   "outputs": [],
   "source": [
    "from docx import Document\n",
    "from docx.shared import Pt, RGBColor #글자 크기와 글자색 서식 지정을 위해 docx.shared를 import\n",
    "from docx.oxml.ns import qn # 한글 글꼴 설정을 위해 docx.oxml.ns를 import\n",
    "\n",
    "doc = Document()\n",
    "\n",
    "para = doc.add_paragraph()\n",
    "run = para.add_run('텍스트에 서식을 설정합니다.')\n",
    "\n",
    "# 글자 서식 지정(굵게, 기울임, 밑줄)\n",
    "run.bold = True\n",
    "run.italic = True\n",
    "run.underline = True\n",
    "\n",
    "# 글꼴 설정\n",
    "run.font.name = '맑은 고딕'\n",
    "run._r.rPr.rFonts.set(qn('w:eastAsia'), '맑은 고딕')\n",
    "\n",
    "#글자 크기 조정\n",
    "run.font.size = Pt(12)\n",
    "\n",
    "# 글자 색상 설정\n",
    "run.font.color.rgb = RGBColor(0x42, 0x24, 0xE9) \n",
    "\n",
    "doc.save('example.docx')\n"
   ]
  },
  {
   "cell_type": "markdown",
   "id": "9d95cb09-1699-4c8f-b455-b3ce661d4114",
   "metadata": {},
   "source": [
    "## 단락 서식 설정하기"
   ]
  },
  {
   "cell_type": "code",
   "execution_count": null,
   "id": "d0500c8a-f738-4092-89ee-b81ea09420df",
   "metadata": {},
   "outputs": [],
   "source": [
    "from docx import Document\n",
    "from docx.shared import Pt\n",
    "from docx.enum.text import WD_ALIGN_PARAGRAPH\n",
    "\n",
    "doc = Document()\n",
    "\n",
    "para1 = doc.add_paragraph('첫 번째 단락입니다.\\n 첫 번째 단락의 두번째 줄입니다.')\n",
    "para2 = doc.add_paragraph('두 번째 단락입니다.\\n 두 번째 단락의 두번째 줄입니다.')\n",
    "\n",
    "#단락의 텍스트를 중앙으로 정렬\n",
    "para2.alignment = WD_ALIGN_PARAGRAPH.CENTER\n",
    "\n",
    "# 단락1의 줄 간격을 12포인트로 설정합니다.\n",
    "para1.paragraph_format.line_spacing = Pt(12) # 줄 간격 설정\n",
    "\n",
    "# 단락2의 줄 간격을 20포인트로 설정합니다.\n",
    "para2.paragraph_format.line_spacing = Pt(20) # 줄 간격 설정\n",
    "\n",
    "# '볼드체'라는 텍스트를 단락에 추가하고, 이 텍스트를 볼드체로 설정합니다.\n",
    "para2.add_run('볼드체').bold = True\n",
    "\n",
    "# ' 및 이탤릭체'라는 텍스트를 단락에 추가하고, 이 텍스트를 이탤릭체로 설정합니다.\n",
    "para2.add_run(' 및 이탤릭체').italic = True\n",
    "\n",
    "doc.save('example.docx')\n"
   ]
  },
  {
   "cell_type": "markdown",
   "id": "9f7fbb36-2deb-44aa-b224-59a5124f0fd7",
   "metadata": {},
   "source": [
    "## 머리글과 꼬리글 입력하기"
   ]
  },
  {
   "cell_type": "code",
   "execution_count": null,
   "id": "e02cbab4-adb3-44ea-ad39-b3d6f30dc812",
   "metadata": {},
   "outputs": [],
   "source": [
    "from docx import Document\n",
    "\n",
    "doc = Document()\n",
    "para1 = doc.add_paragraph('첫 번째 단락입니다.')\n",
    "\n",
    "# 머리글 추가\n",
    "# 문서의 첫 번째 섹션을 지정한 후 header(머리글)를 가져와 'header' 변수에 할당\n",
    "section = doc.sections[0]\n",
    "header = section.header\n",
    "\n",
    "# 머리글의 첫 번째 단락을 가져와 'p' 변수에 할당 후 텍스트 설정\n",
    "p = header.paragraphs[0]\n",
    "p.text = \"머리글을 추가합니다.\"\n",
    "\n",
    "# 꼬리글 추가\n",
    "# footer(꼬리글)를 가져와 'footer' 변수에 할당\n",
    "footer = section.footer\n",
    "\n",
    "# 꼬리의 첫 번째 단락을 가져와 'p2' 변수에 할당 후 텍스트 설정\n",
    "p2 = footer.paragraphs[0]\n",
    "p2.text = \"꼬리글을 추가합니다.\"\n",
    "\n",
    "doc.save('example.docx')\n"
   ]
  }
 ],
 "metadata": {
  "kernelspec": {
   "display_name": "Python 3 (ipykernel)",
   "language": "python",
   "name": "python3"
  },
  "language_info": {
   "codemirror_mode": {
    "name": "ipython",
    "version": 3
   },
   "file_extension": ".py",
   "mimetype": "text/x-python",
   "name": "python",
   "nbconvert_exporter": "python",
   "pygments_lexer": "ipython3",
   "version": "3.11.7"
  }
 },
 "nbformat": 4,
 "nbformat_minor": 5
}
