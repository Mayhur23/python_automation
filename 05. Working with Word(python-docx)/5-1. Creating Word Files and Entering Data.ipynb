{
 "cells": [
  {
   "cell_type": "markdown",
   "id": "6035c914-2427-4e6a-a60d-f84c64ca8ab9",
   "metadata": {},
   "source": [
    "# 05.1 워드 파일 생성 및 데이터 입력"
   ]
  },
  {
   "cell_type": "code",
   "execution_count": null,
   "id": "61c6f354-39b6-4664-9d92-ec75e6965146",
   "metadata": {},
   "outputs": [],
   "source": [
    "# python-docx라이브러리 설치하기\n",
    "!pip install python-docx"
   ]
  },
  {
   "cell_type": "markdown",
   "id": "9d95cb09-1699-4c8f-b455-b3ce661d4114",
   "metadata": {},
   "source": [
    "## 워드 문서 생성하기"
   ]
  },
  {
   "cell_type": "code",
   "execution_count": null,
   "id": "d0500c8a-f738-4092-89ee-b81ea09420df",
   "metadata": {},
   "outputs": [],
   "source": [
    "# 새로운 워드 파일 만들기\n",
    "from docx import Document\n",
    "\n",
    "# 새로운 워드 문서 생성\n",
    "doc = Document()\n",
    "\n",
    "# 파일 저장\n",
    "doc.save('example.docx')"
   ]
  },
  {
   "cell_type": "code",
   "execution_count": null,
   "id": "971d4093-432c-4004-867f-7b5b5ca5b4dc",
   "metadata": {},
   "outputs": [],
   "source": [
    "# 기존 워드 파일 불러오기\n",
    "from docx import Document\n",
    "\n",
    "# 워드 문서 읽어오기\n",
    "doc = Document('회의록_템플릿.docx')\n",
    "\n",
    "# 새로운 파일로 저장\n",
    "doc.save('회의록_230630.docx')"
   ]
  },
  {
   "cell_type": "markdown",
   "id": "9f7fbb36-2deb-44aa-b224-59a5124f0fd7",
   "metadata": {},
   "source": [
    "## 텍스트 추가하기"
   ]
  },
  {
   "cell_type": "code",
   "execution_count": null,
   "id": "e02cbab4-adb3-44ea-ad39-b3d6f30dc812",
   "metadata": {},
   "outputs": [],
   "source": [
    "# 제목 추가하기\n",
    "from docx import Document\n",
    "from docx.enum.text import WD_ALIGN_PARAGRAPH\n",
    "\n",
    "# 워드 문서 생성\n",
    "doc = Document()\n",
    "\n",
    "# 제목 추가\n",
    "title = doc.add_heading('제목을 이곳에 작성합니다', level=0)\n",
    "title.alignment = WD_ALIGN_PARAGRAPH.CENTER\n",
    "\n",
    "doc.save('example.docx')"
   ]
  },
  {
   "cell_type": "code",
   "execution_count": null,
   "id": "a866dc2c-f2f7-4fe6-9677-974d8d0eddbc",
   "metadata": {},
   "outputs": [],
   "source": [
    "# 단락 추가하기\n",
    "from docx import Document\n",
    "from docx.enum.text import WD_ALIGN_PARAGRAPH\n",
    "\n",
    "doc = Document()\n",
    "title = doc.add_heading('제목을 이곳에 작성합니다', level=0)\n",
    "title.alignment = WD_ALIGN_PARAGRAPH.CENTER\n",
    "\n",
    "# 단락 추가\n",
    "p = doc.add_paragraph('첫번째 단락입니다')\n",
    "\n",
    "doc.save('example.docx')"
   ]
  },
  {
   "cell_type": "code",
   "execution_count": null,
   "id": "3f9d03df-7188-4c08-8f8a-96d7503d2785",
   "metadata": {},
   "outputs": [],
   "source": [
    "# 단락 끼워넣기\n",
    "from docx import Document\n",
    "from docx.enum.text import WD_ALIGN_PARAGRAPH\n",
    "\n",
    "doc = Document()\n",
    "title = doc.add_heading('제목을 이곳에 작성합니다', level=0)\n",
    "title.alignment = WD_ALIGN_PARAGRAPH.CENTER\n",
    "\n",
    "p = doc.add_paragraph('첫번째 단락입니다')\n",
    "\n",
    "# 두 번째, 세 번째 단락을 추가\n",
    "p2 = doc.add_paragraph('이것은 두 번째 단락입니다.')\n",
    "p3 = doc.add_paragraph('이것은 세 번째 단락입니다.')\n",
    "\n",
    "# 첫 번째 단락 앞에 새 단락 끼워넣기\n",
    "p.insert_paragraph_before('이것은 첫 번째 단락 앞에 새로 끼워넣은 단락입니다.')\n",
    "\n",
    "doc.save('example.docx')"
   ]
  },
  {
   "cell_type": "code",
   "execution_count": null,
   "id": "a96a0aad-0afa-4231-bf39-32a694334f4a",
   "metadata": {},
   "outputs": [],
   "source": [
    "# 단락 수정하기\n",
    "from docx import Document\n",
    "from docx.enum.text import WD_ALIGN_PARAGRAPH\n",
    "\n",
    "doc = Document()\n",
    "title = doc.add_heading('제목을 이곳에 작성합니다', level=0)\n",
    "title.alignment = WD_ALIGN_PARAGRAPH.CENTER\n",
    "\n",
    "p = doc.add_paragraph('첫번째 단락입니다')\n",
    "p2 = doc.add_paragraph('이것은 두 번째 단락입니다.')\n",
    "p3 = doc.add_paragraph('이것은 세 번째 단락입니다.')\n",
    "p.insert_paragraph_before('이것은 첫 번째 단락 앞에 새로 끼워넣은 단락입니다.')\n",
    "\n",
    "# 두 번째 단락 텍스트 변경\n",
    "p2.clear()\n",
    "p2.add_run('두 번째 단락의 텍스트가 변경되었습니다.')\n",
    "\n",
    "doc.save('example.docx')"
   ]
  },
  {
   "cell_type": "markdown",
   "id": "511a9606-f3fa-409e-be30-a730a4718c6b",
   "metadata": {},
   "source": [
    "## 표와 리스트, 이미지 추가하기"
   ]
  },
  {
   "cell_type": "code",
   "execution_count": null,
   "id": "f6861efb-5e24-4eb5-8b76-a12612f6adfd",
   "metadata": {},
   "outputs": [],
   "source": [
    "# 표 추가하기\n",
    "from docx import Document\n",
    "\n",
    "doc = Document()\n",
    "p = doc.add_paragraph('첫번째 단락입니다')\n",
    "\n",
    "# 3x3 크기의 표 추가\n",
    "table = doc.add_table(rows=3, cols=3)\n",
    "table.style = 'Table Grid' # 표의 각 셀에 격자선 추가\n",
    "\n",
    "# 첫 번째 행의 셀들을 hdr_cells 변수에 할당하고 각 셀에 헤더 데이터 추가\n",
    "hdr_cells = table.rows[0].cells \n",
    "hdr_cells[0].text = '헤더 1' \n",
    "hdr_cells[1].text = '헤더 2'\n",
    "hdr_cells[2].text = '헤더 3'\n",
    "\n",
    "# for문으로 각 행의 셀에 접근하여 두 번째와 세 번째 행에 데이터 추가\n",
    "for i in range(1, 3):\n",
    "    row_cells = table.rows[i].cells\n",
    "    row_cells[0].text = f'행 {i}, 열 1'\n",
    "    row_cells[1].text = f'행 {i}, 열 2'\n",
    "    row_cells[2].text = f'행 {i}, 열 3'\n",
    "\n",
    "doc.save('example.docx')"
   ]
  },
  {
   "cell_type": "code",
   "execution_count": null,
   "id": "9bf4fd19-c860-46ff-ae51-f640ce407951",
   "metadata": {},
   "outputs": [],
   "source": [
    "# 리스트 추가하기\n",
    "from docx import Document\n",
    "\n",
    "doc = Document()\n",
    "p = doc.add_paragraph('첫번째 단락입니다')\n",
    "\n",
    "# 리스트 추가\n",
    "doc.add_paragraph(\n",
    "    '첫 번째 항목', style='List Number'\n",
    ")\n",
    "doc.add_paragraph(\n",
    "    '두 번째 항목', style='List Number'\n",
    ")\n",
    "\n",
    "doc.save('example.docx')\n"
   ]
  },
  {
   "cell_type": "code",
   "execution_count": null,
   "id": "54dc3b5e-61f9-4f0c-b509-e09aea4bc609",
   "metadata": {},
   "outputs": [],
   "source": [
    "# 이미지 추가하기\n",
    "from docx import Document\n",
    "from docx.shared import Inches\n",
    "\n",
    "doc = Document()\n",
    "p = doc.add_paragraph('첫번째 단락입니다\\n')\n",
    "\n",
    "# 이미지 추가\n",
    "p.add_run().add_picture('image1.png', width=Inches(1.5))\n",
    "\n",
    "doc.save('example.docx')\n"
   ]
  }
 ],
 "metadata": {
  "kernelspec": {
   "display_name": "Python 3 (ipykernel)",
   "language": "python",
   "name": "python3"
  },
  "language_info": {
   "codemirror_mode": {
    "name": "ipython",
    "version": 3
   },
   "file_extension": ".py",
   "mimetype": "text/x-python",
   "name": "python",
   "nbconvert_exporter": "python",
   "pygments_lexer": "ipython3",
   "version": "3.11.7"
  }
 },
 "nbformat": 4,
 "nbformat_minor": 5
}
