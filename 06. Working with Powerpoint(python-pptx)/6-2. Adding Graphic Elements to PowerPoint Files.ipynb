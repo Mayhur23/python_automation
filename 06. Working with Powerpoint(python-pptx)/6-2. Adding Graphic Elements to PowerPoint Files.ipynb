{
 "cells": [
  {
   "cell_type": "markdown",
   "id": "6035c914-2427-4e6a-a60d-f84c64ca8ab9",
   "metadata": {},
   "source": [
    "# 06.2 파워포인트 파일 그래픽 요소 추가 \n",
    "## 도형 추가하기"
   ]
  },
  {
   "cell_type": "code",
   "execution_count": null,
   "id": "61c6f354-39b6-4664-9d92-ec75e6965146",
   "metadata": {},
   "outputs": [],
   "source": [
    "from pptx import Presentation\n",
    "from pptx.util import Inches\n",
    "from pptx.dml.color import RGBColor\n",
    "from pptx.enum.shapes import MSO_SHAPE\n",
    "\n",
    "prs = Presentation()\n",
    "slide_layout = prs.slide_layouts[5]\n",
    "slide = prs.slides.add_slide(slide_layout)\n",
    "slide.shapes.title.text = \"도형 추가하기\"\n",
    "\n",
    "# 둥근 직사각형을 추가\n",
    "left = Inches(2)\n",
    "top = Inches(2)\n",
    "width = Inches(6)\n",
    "height = Inches(4.5)\n",
    "shape = slide.shapes.add_shape(MSO_SHAPE.ROUNDED_RECTANGLE, left, top, width, height)\n",
    "\n",
    "# 도형의 속성 설정\n",
    "shape.fill.solid()  # 단색 채우기\n",
    "shape.fill.fore_color.rgb = RGBColor(91, 155, 213)  # 채우기 색상 설정(파란색)\n",
    "shape.line.color.rgb = RGBColor(0, 0, 0)  # 테두리 색상 설정(검은색)\n",
    "\n",
    "# 텍스트를 추가 후 서식 설정\n",
    "shape.text = \"둥근 직사각형\"\n",
    "shape.text_frame.paragraphs[0].font.bold = True\n",
    "shape.text_frame.paragraphs[0].font.size = Inches(0.5)\n",
    "\n",
    "prs.save('presentation_with_graphics.pptx')\n"
   ]
  },
  {
   "cell_type": "markdown",
   "id": "9d95cb09-1699-4c8f-b455-b3ce661d4114",
   "metadata": {},
   "source": [
    "## 이미지 추가하기"
   ]
  },
  {
   "cell_type": "code",
   "execution_count": null,
   "id": "d0500c8a-f738-4092-89ee-b81ea09420df",
   "metadata": {},
   "outputs": [],
   "source": [
    "from pptx import Presentation\n",
    "from pptx.util import Inches\n",
    "\n",
    "prs = Presentation()\n",
    "slide_layout = prs.slide_layouts[5]\n",
    "slide = prs.slides.add_slide(slide_layout)\n",
    "slide.shapes.title.text = \"이미지 추가하기\"\n",
    "\n",
    "# 이미지 경로를 지정 (여기서는 동일한 폴더에 있는 'image1.png' 파일을 사용)\n",
    "img_path = 'image1.png'\n",
    "\n",
    "# 이미지의 위치와 크기를 지정\n",
    "left = top = Inches(1)\n",
    "width = height = Inches(5)\n",
    "\n",
    "# 이미지를 슬라이드에 추가\n",
    "slide.shapes.add_picture(img_path, left, top, width, height)\n",
    "\n",
    "prs.save('presentation_with_image.pptx')"
   ]
  },
  {
   "cell_type": "markdown",
   "id": "9f7fbb36-2deb-44aa-b224-59a5124f0fd7",
   "metadata": {},
   "source": [
    "## 차트 추가하기"
   ]
  },
  {
   "cell_type": "code",
   "execution_count": null,
   "id": "d902b13e-e449-48a5-bf2c-5b5d84b13c87",
   "metadata": {},
   "outputs": [],
   "source": [
    "from pptx import Presentation\n",
    "from pptx.chart.data import CategoryChartData\n",
    "from pptx.enum.chart import XL_CHART_TYPE\n",
    "from pptx.util import Inches\n",
    "\n",
    "prs = Presentation()\n",
    "slide_layout = prs.slide_layouts[5]\n",
    "slide = prs.slides.add_slide(slide_layout)\n",
    "slide.shapes.title.text = \"차트 추가하기\"\n",
    "\n",
    "# 차트 데이터를 정의합니다\n",
    "chart_data = CategoryChartData()\n",
    "chart_data.categories = ['A제품', 'B제품', 'C제품']\n",
    "chart_data.add_series('잔류오염도', (9.2, 11.4, 16.7))\n",
    "\n",
    "# 차트를 추가할 위치와 크기를 지정합니다\n",
    "x, y, cx, cy = Inches(2), Inches(2), Inches(6), Inches(4.5)\n",
    "\n",
    "# 슬라이드에 차트를 추가합니다\n",
    "chart = slide.shapes.add_chart(\n",
    "    XL_CHART_TYPE.COLUMN_CLUSTERED, x, y, cx, cy, chart_data\n",
    ").chart\n",
    "\n",
    "# 차트 제목을 설정합니다\n",
    "chart.has_title = True\n",
    "chart.chart_title.text_frame.text = \"제품별 세정력 측정\"\n",
    "\n",
    "# X와 Y축의 제목을 설정합니다\n",
    "chart.category_axis.axis_title.text_frame.text = \"제품\"\n",
    "chart.value_axis.axis_title.text_frame.text = \"제품 사용 후 잔류 오염도\"\n",
    "\n",
    "prs.save('presentation_with_chart.pptx')\n"
   ]
  }
 ],
 "metadata": {
  "kernelspec": {
   "display_name": "Python 3 (ipykernel)",
   "language": "python",
   "name": "python3"
  },
  "language_info": {
   "codemirror_mode": {
    "name": "ipython",
    "version": 3
   },
   "file_extension": ".py",
   "mimetype": "text/x-python",
   "name": "python",
   "nbconvert_exporter": "python",
   "pygments_lexer": "ipython3",
   "version": "3.11.7"
  }
 },
 "nbformat": 4,
 "nbformat_minor": 5
}
