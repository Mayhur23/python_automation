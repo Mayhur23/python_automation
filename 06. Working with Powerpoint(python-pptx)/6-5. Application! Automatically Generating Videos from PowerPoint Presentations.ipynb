{
 "cells": [
  {
   "cell_type": "markdown",
   "id": "6035c914-2427-4e6a-a60d-f84c64ca8ab9",
   "metadata": {},
   "source": [
    "# 06.5 응용! 파워포인트 프레젠테이션으로 동영상 자동 생성하기\n",
    "## 파워포인트로 동영상 만들기(win32)"
   ]
  },
  {
   "cell_type": "code",
   "execution_count": null,
   "id": "56e61230-d2a2-4333-9ebe-4c1a5104c8bb",
   "metadata": {},
   "outputs": [],
   "source": [
    "# pywin32패키지 설치하기\n",
    "!pip install pywin32"
   ]
  },
  {
   "cell_type": "code",
   "execution_count": null,
   "id": "18fd15d6-09ca-47e8-9db4-974eaa22b54d",
   "metadata": {},
   "outputs": [],
   "source": [
    "import win32com.client\n",
    "\n",
    "# 파워포인트 열기\n",
    "powerpoint = win32com.client.Dispatch(\"PowerPoint.Application\")\n",
    "\n",
    "# 파워포인트 프레젠테이션 불러오기\n",
    "presentation_path = 'makevideo.pptx'\n",
    "presentation = powerpoint.Presentations.Open(presentation_path, WithWindow=False)\n",
    "\n",
    "# 프레젠테이션을 동영상으로 내보내기\n",
    "powerpoint.Presentations(1).CreateVideo(\n",
    "    FileName='makevideo.mp4', \n",
    "    UseTimingsAndNarrations=True, \n",
    "    DefaultSlideDuration=2, \n",
    "    Quality=85, \n",
    "    VertResolution=1080,     \n",
    "    FramesPerSecond=30,    \n",
    ")\n",
    "\n",
    "# 파워포인트 닫기\n",
    "powerpoint.Quit()\n"
   ]
  },
  {
   "cell_type": "markdown",
   "id": "3a9122cd-0bbe-4000-a68c-df64d1f749cf",
   "metadata": {},
   "source": [
    "## 동영상 여러개 합치기"
   ]
  },
  {
   "cell_type": "code",
   "execution_count": null,
   "id": "07bc0c5e-082f-4e7d-96ba-827ff20fe553",
   "metadata": {},
   "outputs": [],
   "source": [
    "# moviepy라이브러리 설치하기\n",
    "!pip install moviepy"
   ]
  },
  {
   "cell_type": "code",
   "execution_count": null,
   "id": "a0648b7b-d537-4cfe-8e3d-eba15636894f",
   "metadata": {},
   "outputs": [],
   "source": [
    "from moviepy.editor import *\n",
    "\n",
    "# 동영상 불러오기\n",
    "video1 = VideoFileClip(\"concatvideo.mp4\").without_audio()\n",
    "video2 = VideoFileClip(\"makevideo.mp4\")\n",
    "\n",
    "# 동영상 합치기\n",
    "final_video = concatenate_videoclips([video1, video2], method=\"compose\")\n",
    "\n",
    "# 합친 동영상 저장하기\n",
    "final_video.write_videofile(\"combined_video.mp4\", codec='libx264')\n"
   ]
  },
  {
   "cell_type": "markdown",
   "id": "3fbda35e-e196-4618-8080-947181da523c",
   "metadata": {},
   "source": [
    "## 동영상에 배경음악 추가하기"
   ]
  },
  {
   "cell_type": "code",
   "execution_count": null,
   "id": "dc63617e-4b69-4463-877a-4ef0aec8265e",
   "metadata": {},
   "outputs": [],
   "source": [
    "from moviepy.editor import *\n",
    "\n",
    "# 동영상 파일 불러오기\n",
    "video = VideoFileClip(\"combined_video.mp4\") \n",
    "\n",
    "# 배경 음악 불러오기\n",
    "background_music = AudioFileClip('Societys Dream - Mini Vandals.mp3')  \n",
    "\n",
    "# 동영상의 길이에 맞게 배경음악을 자르거나 반복\n",
    "if background_music.duration > video.duration:\n",
    "    background_music = background_music.subclip(0, video.duration)\n",
    "else:\n",
    "    background_music = background_music.fx(vfx.audio_loop, duration=video.duration)\n",
    "\n",
    "# 동영상에 배경 음악 추가\n",
    "final_video = video.set_audio(background_music)\n",
    "\n",
    "# 결과 동영상 저장\n",
    "final_video.write_videofile('output_video.mp4', codec='libx264')\n"
   ]
  }
 ],
 "metadata": {
  "kernelspec": {
   "display_name": "Python 3 (ipykernel)",
   "language": "python",
   "name": "python3"
  },
  "language_info": {
   "codemirror_mode": {
    "name": "ipython",
    "version": 3
   },
   "file_extension": ".py",
   "mimetype": "text/x-python",
   "name": "python",
   "nbconvert_exporter": "python",
   "pygments_lexer": "ipython3",
   "version": "3.11.7"
  }
 },
 "nbformat": 4,
 "nbformat_minor": 5
}
