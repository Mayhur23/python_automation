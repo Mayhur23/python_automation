{
 "cells": [
  {
   "cell_type": "markdown",
   "id": "6035c914-2427-4e6a-a60d-f84c64ca8ab9",
   "metadata": {},
   "source": [
    "# 06.1 파워포인트 파일 생성 및 텍스트 추가"
   ]
  },
  {
   "cell_type": "code",
   "execution_count": null,
   "id": "61c6f354-39b6-4664-9d92-ec75e6965146",
   "metadata": {},
   "outputs": [],
   "source": [
    "# python-pptx 라이브러리 설치\n",
    "!pip install python-pptx"
   ]
  },
  {
   "cell_type": "markdown",
   "id": "9d95cb09-1699-4c8f-b455-b3ce661d4114",
   "metadata": {},
   "source": [
    "## 파워포인트 파일과 객체 생성하기"
   ]
  },
  {
   "cell_type": "code",
   "execution_count": null,
   "id": "d0500c8a-f738-4092-89ee-b81ea09420df",
   "metadata": {},
   "outputs": [],
   "source": [
    "from pptx import Presentation\n",
    "\n",
    "# Presentation 객체를 생성하여 프레젠테이션을 초기화\n",
    "prs = Presentation() \n",
    "\n",
    "# 첫 번째 슬라이드 레이아웃 선택\n",
    "slide_layout = prs.slide_layouts[0]  \n",
    "\n",
    "# 선택한 레이아웃을 사용하여 새 슬라이드 추가\n",
    "slide = prs.slides.add_slide(slide_layout)\n",
    "\n",
    "# 파일 저장\n",
    "prs.save('presentation.pptx')"
   ]
  },
  {
   "cell_type": "markdown",
   "id": "9f7fbb36-2deb-44aa-b224-59a5124f0fd7",
   "metadata": {},
   "source": [
    "## 텍스트 추가하기"
   ]
  },
  {
   "cell_type": "code",
   "execution_count": null,
   "id": "e02cbab4-adb3-44ea-ad39-b3d6f30dc812",
   "metadata": {},
   "outputs": [],
   "source": [
    "from pptx import Presentation\n",
    "\n",
    "prs = Presentation() \n",
    "\n",
    "slide_layout = prs.slide_layouts[0]  \n",
    "slide = prs.slides.add_slide(slide_layout)\n",
    "\n",
    "# 슬라이드에 제목과 부제목 추가\n",
    "title = slide.shapes.title\n",
    "subtitle = slide.placeholders[1]\n",
    "\n",
    "# 제목과 부제목 텍스트 박스에 각각 텍스트를 추가\n",
    "title.text = \"Hello, World!\"\n",
    "subtitle.text = \"파이썬 파워포인트 자동화\"\n",
    "\n",
    "prs.save('presentation.pptx')"
   ]
  },
  {
   "cell_type": "code",
   "execution_count": null,
   "id": "a866dc2c-f2f7-4fe6-9677-974d8d0eddbc",
   "metadata": {},
   "outputs": [],
   "source": [
    "# 개체틀(placeholder) 확인하기\n",
    "from pptx import Presentation\n",
    "\n",
    "prs = Presentation() \n",
    "slide_layout = prs.slide_layouts[0]  \n",
    "slide = prs.slides.add_slide(slide_layout)\n",
    "\n",
    "# 선택된 슬라이드의 모든 placeholder의 인덱스와 이름을 반환\n",
    "for i, placeholder in enumerate(slide.placeholders):\n",
    "    print(f\"Placeholder {i}: {placeholder.name}\")\n"
   ]
  },
  {
   "cell_type": "code",
   "execution_count": null,
   "id": "3f9d03df-7188-4c08-8f8a-96d7503d2785",
   "metadata": {},
   "outputs": [],
   "source": [
    "# 개체틀(placeholder) 추가하기\n",
    "from pptx import Presentation\n",
    "from pptx.util import Inches\n",
    "\n",
    "prs = Presentation()\n",
    "\n",
    "slide_layout = prs.slide_layouts[1] \n",
    "slide = prs.slides.add_slide(slide_layout)\n",
    "\n",
    "title = slide.shapes.title\n",
    "subtitle = slide.placeholders[1]\n",
    "title.text = \"제목\"\n",
    "subtitle.text = \"부제목\"\n",
    "\n",
    "# 새로운 텍스트 박스를 슬라이드에 추가\n",
    "left = Inches(1) # 텍스트 박스의 가로 위치(슬라이드 왼쪽 끝으로부터 떨어진 거리)\n",
    "top = Inches(2) # 텍스트 박스의 세로 위치(슬라이드 위쪽 끝으로부터 떨어진 거리)\n",
    "width = Inches(5) # 텍스트 박스의 가로 길이\n",
    "height = Inches(1.5) #텍스트 박스의 세로 길이\n",
    "textbox = slide.shapes.add_textbox(left, top, width, height)\n",
    "\n",
    "# 새로 생성한 텍스트 박스에 텍스트 추가\n",
    "frame = textbox.text_frame\n",
    "p = frame.add_paragraph()\n",
    "p.text = \"새로운 텍스트 박스에 추가된 텍스트\"\n",
    "\n",
    "# 결과를 파워포인트 파일로 저장\n",
    "prs.save('powerpoint_ex.pptx')"
   ]
  },
  {
   "cell_type": "markdown",
   "id": "511a9606-f3fa-409e-be30-a730a4718c6b",
   "metadata": {},
   "source": [
    "## 리스트 추가하기"
   ]
  },
  {
   "cell_type": "code",
   "execution_count": null,
   "id": "f6861efb-5e24-4eb5-8b76-a12612f6adfd",
   "metadata": {},
   "outputs": [],
   "source": [
    "from pptx import Presentation\n",
    "\n",
    "prs = Presentation()\n",
    "slide_layout = prs.slide_layouts[1]  \n",
    "\n",
    "slide = prs.slides.add_slide(slide_layout)\n",
    "slide.shapes.title.text = \"파이썬의 장점\"\n",
    "tf = slide.placeholders[1].text_frame \n",
    "\n",
    "# 텍스트 박스에 리스트의 첫번째 항목 추가\n",
    "tf.text = \"쉬운 사용법\"\n",
    "\n",
    "# 첫 번째 항목에 대한 하위 항목 추가\n",
    "p = tf.add_paragraph()\n",
    "p.text = \"직관적인 문법\"\n",
    "p.level = 1\n",
    "\n",
    "# 리스트의 두 번째 항목 추가\n",
    "p = tf.add_paragraph()\n",
    "p.text = \"높은 생산성\"\n",
    "p.level = 0\n",
    "\n",
    "# 두 번째 항목에 대한 하위 항목 추가\n",
    "p = tf.add_paragraph()\n",
    "p.text = \"빠른 개발 속도\"\n",
    "p.level = 1\n",
    "\n",
    "# 리스트의 세 번째 항목 추가\n",
    "p = tf.add_paragraph()\n",
    "p.text = \"다양한 라이브러리와 프레임워크\"\n",
    "p.level = 0\n",
    "\n",
    "# 세 번째 항목에 대한 하위 항목 추가\n",
    "p = tf.add_paragraph()\n",
    "p.text = \"머신 러닝, 웹 개발 등에 유용\"\n",
    "p.level = 1\n",
    "\n",
    "# 파일 저장\n",
    "prs.save('presentation_with_list.pptx')\n"
   ]
  },
  {
   "cell_type": "markdown",
   "id": "f99dc75b-fa46-4b36-84d5-138680e72df9",
   "metadata": {},
   "source": [
    "## 텍스트 서식 설정하기"
   ]
  },
  {
   "cell_type": "code",
   "execution_count": null,
   "id": "54dc3b5e-61f9-4f0c-b509-e09aea4bc609",
   "metadata": {},
   "outputs": [],
   "source": [
    "from pptx import Presentation\n",
    "from pptx.util import Inches, Pt\n",
    "from pptx.enum.text import PP_PARAGRAPH_ALIGNMENT\n",
    "from pptx.dml.color import RGBColor  \n",
    "\n",
    "prs = Presentation()\n",
    "slide_layout = prs.slide_layouts[5]\n",
    "slide = prs.slides.add_slide(slide_layout)\n",
    "slide.shapes.title.text = \"서식 설정하기\"\n",
    "\n",
    "# 슬라이드에 텍스트 박스 추가\n",
    "left = top = Inches(1)\n",
    "width = height = Inches(5)\n",
    "txBox = slide.shapes.add_textbox(left, top, width, height)\n",
    "tf = txBox.text_frame\n",
    "\n",
    "# 첫 번째 단락 추가 및 글꼴 스타일 설정\n",
    "p = tf.add_paragraph()\n",
    "p.text = \"서식을 설정한 텍스트\"\n",
    "p.font.name = '나눔바른고딕'  # 글꼴 설정\n",
    "p.font.bold = True\n",
    "p.font.size = Pt(30)\n",
    "p.font.color.rgb = RGBColor(0x42, 0x24, 0xE9)  # RGBColor 클래스를 사용하여 글꼴 색상 설정\n",
    "p.alignment = PP_PARAGRAPH_ALIGNMENT.CENTER  # 텍스트 정렬 설정\n",
    "\n",
    "prs.save('presentation_kor.pptx')\n"
   ]
  },
  {
   "cell_type": "markdown",
   "id": "03d1f9c5-b53e-4867-a0ce-92e1024b2f9d",
   "metadata": {},
   "source": [
    "## 표 추가하기"
   ]
  },
  {
   "cell_type": "code",
   "execution_count": null,
   "id": "a9af6b1f-8bc7-442f-bdbe-41f3f113c890",
   "metadata": {},
   "outputs": [],
   "source": [
    "from pptx import Presentation\n",
    "from pptx.util import Inches\n",
    "\n",
    "prs = Presentation()\n",
    "slide_layout = prs.slide_layouts[5]\n",
    "slide = prs.slides.add_slide(slide_layout)\n",
    "slide.shapes.title.text = \"표 추가하기\"\n",
    "\n",
    "# 표 추가 위치 및 크기 설정\n",
    "left = Inches(2)\n",
    "top = Inches(2)\n",
    "width = Inches(6)\n",
    "height = Inches(4.5)\n",
    "\n",
    "# 표 추가 (3행 2열)\n",
    "rows, cols = 3, 2\n",
    "table = slide.shapes.add_table(rows, cols, left, top, width, height).table\n",
    "\n",
    "# 표에 텍스트 추가\n",
    "table.cell(0, 0).text = \"열이름 1\"\n",
    "table.cell(0, 1).text = \"열이름 2\"\n",
    "\n",
    "table.cell(1, 0).text = \"1 행, 1 열\"\n",
    "table.cell(1, 1).text = \"1 행, 2 열\"\n",
    "\n",
    "table.cell(2, 0).text = \"2 행, 1 열\"\n",
    "table.cell(2, 1).text = \"2 행, 2 열\"\n",
    "\n",
    "prs.save('presentation_with_table.pptx')\n"
   ]
  },
  {
   "cell_type": "markdown",
   "id": "7a3a53b5-64f3-40ae-bb99-a6e15ab34988",
   "metadata": {},
   "source": [
    "## 표의 서식 설정"
   ]
  },
  {
   "cell_type": "code",
   "execution_count": null,
   "id": "fcebade2-3980-4fdd-9f31-4c57a8352ba0",
   "metadata": {},
   "outputs": [],
   "source": [
    "# 행 높이 설정\n",
    "for row in table.rows:\n",
    "    row.height = Inches(1)\n",
    "\n",
    "# 열 너비 설정\n",
    "for col in table.columns:\n",
    "    col.width = Inches(3)"
   ]
  },
  {
   "cell_type": "code",
   "execution_count": null,
   "id": "eeec81c5-81ec-4c5b-b5f3-5e2e7e9e1919",
   "metadata": {},
   "outputs": [],
   "source": [
    "from pptx.enum.text import PP_PARAGRAPH_ALIGNMENT\n",
    "\n",
    "from pptx.dml.color import RGBColor\n",
    "from pptx import Presentation\n",
    "from pptx.util import Inches\n",
    "\n",
    "prs = Presentation()\n",
    "slide_layout = prs.slide_layouts[5]\n",
    "slide = prs.slides.add_slide(slide_layout)\n",
    "slide.shapes.title.text = \"표 추가하기\"\n",
    "\n",
    "# 표 추가 위치 및 크기 설정\n",
    "left = Inches(2)\n",
    "top = Inches(2)\n",
    "width = Inches(6)\n",
    "height = Inches(4.5)\n",
    "\n",
    "# 표 추가 (3행 2열)\n",
    "rows, cols = 3, 2\n",
    "table = slide.shapes.add_table(rows, cols, left, top, width, height).table\n",
    "\n",
    "# 행 높이 설정\n",
    "for row in table.rows:\n",
    "    row.height = Inches(1)\n",
    "\n",
    "# 열 너비 설정\n",
    "for col in table.columns:\n",
    "    col.width = Inches(3)\n",
    "\n",
    "# 표에 텍스트 추가\n",
    "table.cell(0, 0).text = \"열이름 1\"\n",
    "table.cell(0, 1).text = \"열이름 2\"\n",
    "\n",
    "table.cell(1, 0).text = \"1 행, 1 열\"\n",
    "table.cell(1, 1).text = \"1 행, 2 열\"\n",
    "\n",
    "table.cell(2, 0).text = \"2 행, 1 열\"\n",
    "table.cell(2, 1).text = \"2 행, 2 열\"\n",
    "\n",
    "# 특정 셀의 글꼴 설정\n",
    "table.cell(0, 0).text_frame.paragraphs[0].runs[0].font.size = Pt(40)\n",
    "table.cell(0, 0).text_frame.paragraphs[0].runs[0].font.color.rgb = RGBColor(255, 255, 0)\n",
    "\n",
    "# 특정 셀의 배경색 설정\n",
    "table.cell(0, 0).fill.solid()\n",
    "table.cell(0, 0).fill.fore_color.rgb = RGBColor(91, 155, 213)\n",
    "\n",
    "prs.save('presentation_with_table2.pptx')\n"
   ]
  }
 ],
 "metadata": {
  "kernelspec": {
   "display_name": "Python 3 (ipykernel)",
   "language": "python",
   "name": "python3"
  },
  "language_info": {
   "codemirror_mode": {
    "name": "ipython",
    "version": 3
   },
   "file_extension": ".py",
   "mimetype": "text/x-python",
   "name": "python",
   "nbconvert_exporter": "python",
   "pygments_lexer": "ipython3",
   "version": "3.11.7"
  }
 },
 "nbformat": 4,
 "nbformat_minor": 5
}
