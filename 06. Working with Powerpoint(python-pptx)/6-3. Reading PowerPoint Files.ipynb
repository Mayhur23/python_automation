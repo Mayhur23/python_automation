{
 "cells": [
  {
   "cell_type": "markdown",
   "id": "6035c914-2427-4e6a-a60d-f84c64ca8ab9",
   "metadata": {},
   "source": [
    "# 06.3 파워포인트 파일 읽기\n",
    "## 파워포인트 파일 열기"
   ]
  },
  {
   "cell_type": "code",
   "execution_count": null,
   "id": "61c6f354-39b6-4664-9d92-ec75e6965146",
   "metadata": {},
   "outputs": [],
   "source": [
    "from pptx import Presentation\n",
    "\n",
    "# 기존의 파워포인트 파일 열기\n",
    "prs = Presentation('presentation_with_list.pptx')"
   ]
  },
  {
   "cell_type": "markdown",
   "id": "9d95cb09-1699-4c8f-b455-b3ce661d4114",
   "metadata": {},
   "source": [
    "## 슬라이드 제목과 본문 텍스트 추출"
   ]
  },
  {
   "cell_type": "code",
   "execution_count": null,
   "id": "d0500c8a-f738-4092-89ee-b81ea09420df",
   "metadata": {},
   "outputs": [],
   "source": [
    "from pptx import Presentation\n",
    "\n",
    "prs = Presentation('presentation_with_list.pptx')\n",
    "\n",
    "# 각 슬라이드의 제목과 본문 텍스트를 출력\n",
    "for slide_number, slide in enumerate(prs.slides): #전체 슬라이드를 순회\n",
    "    print(f\"Slide {slide_number+1}\")\n",
    "\n",
    "    # 슬라이드의 제목 출력 (제목이 있는 경우)\n",
    "    if slide.shapes.title:\n",
    "        print(f\"Title: {slide.shapes.title.text}\")\n",
    "\n",
    "    # 슬라이드의 본문 텍스트 출력\n",
    "    #각 슬라이드에 포함된 모든 개체(도형, 텍스트 상자, 표 등)를 순회\n",
    "    for shape in slide.shapes: \n",
    "\n",
    "        # 현재 개체의 형태가 텍스트 상자인지 확인, 텍스트 상자일 경우 아래 코드를 실행\n",
    "        if hasattr(shape, \"text_frame\") and shape.text_frame:\n",
    "\n",
    "            for paragraph in shape.text_frame.paragraphs: # 텍스트 상자의 모든 단락을 순회\n",
    "                for run in paragraph.runs: # 현재 단락의 텍스트 런에 접근\n",
    "                    print(run.text) #현재 텍스트 런을 출력\n"
   ]
  },
  {
   "cell_type": "markdown",
   "id": "9f7fbb36-2deb-44aa-b224-59a5124f0fd7",
   "metadata": {},
   "source": [
    "## 추출한 텍스트를 파일에 저장"
   ]
  },
  {
   "cell_type": "code",
   "execution_count": null,
   "id": "d902b13e-e449-48a5-bf2c-5b5d84b13c87",
   "metadata": {},
   "outputs": [],
   "source": [
    "from pptx import Presentation\n",
    "\n",
    "prs = Presentation('presentation_with_list.pptx')\n",
    "\n",
    "extracted_text = \"\" # 빈 문자열 변수 'extracted_text'를 생성\n",
    "\n",
    "for slide_number, slide in enumerate(prs.slides):\n",
    "    for shape in slide.shapes:\n",
    "\n",
    "        #  텍스트일 경우, extracted_text에 슬라이드 번호와 텍스트 내용을 추가\n",
    "        if hasattr(shape, \"text\"): \n",
    "            extracted_text += f\"Slide {slide_number+1}: {shape.text}\\n\" \n",
    "\n",
    "with open('extracted_text.txt', 'w') as file:\n",
    "    file.write(extracted_text)\n"
   ]
  },
  {
   "cell_type": "markdown",
   "id": "7ac111b8-b41d-4f05-8e4f-bcf3df14dbaf",
   "metadata": {},
   "source": [
    "## 표 데이터 추출하기"
   ]
  },
  {
   "cell_type": "code",
   "execution_count": null,
   "id": "14099772-94ed-4120-a9f8-34ea9f49751d",
   "metadata": {},
   "outputs": [],
   "source": [
    "from pptx import Presentation\n",
    "\n",
    "prs = Presentation(\"presentation_with_table.pptx\")\n",
    "\n",
    "# 전체 슬라이드를 순회하며 표를 찾아 데이터를 추출\n",
    "for slide_number, slide in enumerate(prs.slides):\n",
    "    #각 슬라이드에 포함된 모든 개체(도형, 텍스트 상자, 표 등)를 순회\n",
    "    for shape in slide.shapes:  \n",
    "\n",
    "        if hasattr(shape, \"table\"): # 현재 개체의 형태가 표인지 확인\n",
    "            table = shape.table # 현재 표를 table 변수에 할당\n",
    "\n",
    "            for row in table.rows: # 테이블의 모든 행을 순회\n",
    "                for cell in row.cells: # 현재 행의 모든 셀을 순회\n",
    "                    print(cell.text) #현재 셀의 텍스트를 출력\n"
   ]
  },
  {
   "cell_type": "markdown",
   "id": "d1ff0bb4-5bbc-46fc-bfb5-4286d72fd034",
   "metadata": {},
   "source": [
    "## 이미지 파일 추출하기"
   ]
  },
  {
   "cell_type": "code",
   "execution_count": null,
   "id": "b6be93df-d40b-4beb-8661-0a308cbe58df",
   "metadata": {},
   "outputs": [],
   "source": [
    "from pptx import Presentation\n",
    "\n",
    "prs = Presentation(\"presentation_with_image.pptx\")\n",
    "\n",
    "# 전체 슬라이드를 순회\n",
    "for slide_number, slide in enumerate(prs.slides):\n",
    "\n",
    "    # 각 슬라이드에서 모든 개체(shape)를 순회\n",
    "    for shape in slide.shapes:\n",
    "\n",
    "        # 현재 개체가 이미지의 속성을 가지고 있는지 확인하고, 이미지일 경우 아래 코드를 실행\n",
    "        if hasattr(shape, \"image\"):\n",
    "\n",
    "            # 이미지의 바이트 데이터와 확장자를 가져와 변수에 할당\n",
    "            image_stream = shape.image.blob\n",
    "            image_format = shape.image.ext\n",
    "\n",
    "            # 바이트 데이터를 사용하여 이미지 파일을 생성\n",
    "            with open(f\"slide_{slide_number}_image.{image_format}\", \"wb\") as img_file:\n",
    "                img_file.write(image_stream)\n",
    "                print('저장된 파일명: ', f'slide_{slide_number}_image.{image_format}')"
   ]
  },
  {
   "cell_type": "markdown",
   "id": "c6c1e74f-ebfa-476f-a29a-eb02104bf320",
   "metadata": {},
   "source": [
    "## 차트 데이터 추출하기"
   ]
  },
  {
   "cell_type": "code",
   "execution_count": null,
   "id": "0eb709cf-bca1-4fed-950f-0c20545170d9",
   "metadata": {},
   "outputs": [],
   "source": [
    "from pptx import Presentation\n",
    "\n",
    "prs = Presentation(\"presentation_with_chart.pptx\")\n",
    "\n",
    "# 전체 슬라이드를 순회\n",
    "for slide_number, slide in enumerate(prs.slides):\n",
    "\n",
    "    # 각 슬라이드 내의 모든 개체를 순회\n",
    "    for shape in slide.shapes:\n",
    "\n",
    "        # if문과 hasattr 함수를 사용하여 현재 개체가 차트인지 확인하고 차트일 경우 chart에 할당\n",
    "        if hasattr(shape, \"chart\"):\n",
    "            chart = shape.chart\n",
    "\n",
    "            # 차트 내의 모든 시리즈를 순회\n",
    "            for series in chart.series:\n",
    "                print(f\"Series title: {series.name}\") # 시리즈 이름을 출력\n",
    "\n",
    "                # 첫 번째 플롯(plot)의 카테고리와 값(즉, x값과 y값)의 쌍을 순회\n",
    "                for x_val, y_val in zip(chart.plots[0].categories, series.values):\n",
    "                    print(f\"Data point: x={x_val}, y={y_val}\")\n"
   ]
  }
 ],
 "metadata": {
  "kernelspec": {
   "display_name": "Python 3 (ipykernel)",
   "language": "python",
   "name": "python3"
  },
  "language_info": {
   "codemirror_mode": {
    "name": "ipython",
    "version": 3
   },
   "file_extension": ".py",
   "mimetype": "text/x-python",
   "name": "python",
   "nbconvert_exporter": "python",
   "pygments_lexer": "ipython3",
   "version": "3.11.7"
  }
 },
 "nbformat": 4,
 "nbformat_minor": 5
}
