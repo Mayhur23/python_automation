{
 "cells": [
  {
   "cell_type": "markdown",
   "id": "6035c914-2427-4e6a-a60d-f84c64ca8ab9",
   "metadata": {},
   "source": [
    "# 06.4 실전! 판매량 데이터를 활용하여 프레젠테이션 자료 자동 생성하기\n",
    "## 엑셀 데이터로 파워포인트 만들기"
   ]
  },
  {
   "cell_type": "code",
   "execution_count": null,
   "id": "61c6f354-39b6-4664-9d92-ec75e6965146",
   "metadata": {},
   "outputs": [],
   "source": [
    "# 전체 코드\n",
    "from openpyxl import load_workbook\n",
    "from pptx import Presentation\n",
    "from pptx.util import Inches\n",
    "from pptx.enum.chart import XL_CHART_TYPE\n",
    "from pptx.chart.data import CategoryChartData\n",
    "\n",
    "# 엑셀 파일에서 데이터 불러오기\n",
    "wb = load_workbook('제품별 판매내역.xlsx')\n",
    "sheet_names = wb.sheetnames\n",
    "\n",
    "# 파워포인트 객체 생성\n",
    "prs = Presentation()\n",
    "\n",
    "# 표지 슬라이드 추가\n",
    "slide_layout = prs.slide_layouts[0]\n",
    "slide = prs.slides.add_slide(slide_layout)\n",
    "slide.shapes.title.text = \"상반기 제품별 판매현황 분석\"\n",
    "\n",
    "# 제품별 판매량 데이터를 저장하기 위한 딕셔너리\n",
    "sales_data = {}\n",
    "\n",
    "# 각 제품별 슬라이드 생성\n",
    "for sheet_name in sheet_names:\n",
    "    sheet = wb[sheet_name]\n",
    "    # 제품 전체 판매 데이터 저장 (판매월, 판매량, 판매금액)\n",
    "    data = [list(map(str, row)) for row in sheet.iter_rows(values_only=True)]\n",
    "\n",
    "    # 제품의 판매량 데이터 저장\n",
    "    sales_data[sheet_name] = [list(map(int, row[1:2])) for row in data[1:]]\n",
    "\n",
    "    # 슬라이드 추가\n",
    "    slide_layout = prs.slide_layouts[5]\n",
    "    slide = prs.slides.add_slide(slide_layout)\n",
    "    slide.shapes.title.text = f\"{sheet_name}\"\n",
    "\n",
    "    # 표 추가\n",
    "    rows, cols = len(data), len(data[0])\n",
    "    table = slide.shapes.add_table(rows+1, cols, Inches(0.3), Inches(2), Inches(4.3), Inches(3.8)).table\n",
    "\n",
    "    # \"월별 판매 현황\" 추가\n",
    "    table.cell(0, 0).text = \"월별 판매 현황\"\n",
    "    table.cell(0, 0).merge(table.cell(0, cols - 1))\n",
    "\n",
    "    # 데이터를 표에 추가\n",
    "    for row_idx, row_val in enumerate(data):\n",
    "        for col_idx, val in enumerate(row_val):\n",
    "            table.cell(row_idx+1, col_idx).text = str(val)\n",
    "\n",
    "\n",
    "    # 차트 데이터 설정\n",
    "    chart_data = CategoryChartData()\n",
    "    chart_data.categories = [row[0] for row in data[1:]]\n",
    "    chart_data.add_series('상반기 판매량 변화', (row[1] for row in data[1:]))\n",
    "\n",
    "    # 차트 추가\n",
    "    x, y, cx, cy = Inches(5), Inches(1.8), Inches(4.5), Inches(4.2)\n",
    "    chart = slide.shapes.add_chart(XL_CHART_TYPE.COLUMN_CLUSTERED, x, y, cx, cy, chart_data).chart\n",
    "\n",
    "    # 차트 설정\n",
    "    chart.has_legend = False\n",
    "    chart.plots[0].has_data_labels = True\n",
    "\n",
    "# 전체 판매 추이 슬라이드 생성\n",
    "slide_layout = prs.slide_layouts[5]\n",
    "slide = prs.slides.add_slide(slide_layout)\n",
    "slide.shapes.title.text = \"제품별 판매 추이\"\n",
    "\n",
    "# 전체 판매 추이 차트 데이터 설정\n",
    "chart_data = CategoryChartData()\n",
    "chart_data.categories = [row[0] for row in data[1:]]\n",
    "for sheet_name, sales in sales_data.items():\n",
    "    chart_data.add_series(sheet_name, (sale[0] for sale in sales))\n",
    "\n",
    "# 전체 판매 추이 차트 추가\n",
    "x, y, cx, cy = Inches(1), Inches(2), Inches(8), Inches(4.5)\n",
    "chart = slide.shapes.add_chart(XL_CHART_TYPE.LINE, x, y, cx, cy, chart_data).chart\n",
    "\n",
    "# 차트 설정\n",
    "chart.has_legend = True\n",
    "chart.legend.include_in_layout = False\n",
    "chart.category_axis.has_major_gridlines = False\n",
    "\n",
    "# 마지막 슬라이드 추가\n",
    "slide_layout = prs.slide_layouts[0]\n",
    "slide = prs.slides.add_slide(slide_layout)\n",
    "slide.shapes.title.text = \"감사합니다.\"\n",
    "\n",
    "# 결과 저장\n",
    "prs.save('상반기_제품별_판매현황_분석.pptx')"
   ]
  },
  {
   "cell_type": "markdown",
   "id": "dd73b62b-4b19-42f2-8904-b86a86925361",
   "metadata": {},
   "source": [
    "1) 필요한 모듈과 클래스 불러오기"
   ]
  },
  {
   "cell_type": "code",
   "execution_count": null,
   "id": "18fd15d6-09ca-47e8-9db4-974eaa22b54d",
   "metadata": {},
   "outputs": [],
   "source": [
    "from openpyxl import load_workbook\n",
    "from pptx import Presentation\n",
    "from pptx.util import Inches\n",
    "from pptx.enum.chart import XL_CHART_TYPE\n",
    "from pptx.chart.data import CategoryChartData\n"
   ]
  },
  {
   "cell_type": "markdown",
   "id": "3a9122cd-0bbe-4000-a68c-df64d1f749cf",
   "metadata": {},
   "source": [
    "2) 엑셀 데이터 불러오기 & 파워포인트 객체 생성하기"
   ]
  },
  {
   "cell_type": "code",
   "execution_count": null,
   "id": "07bc0c5e-082f-4e7d-96ba-827ff20fe553",
   "metadata": {},
   "outputs": [],
   "source": [
    "# 엑셀 파일에서 데이터 불러오기\n",
    "wb = load_workbook('제품별 판매내역.xlsx')\n",
    "sheet_names = wb.sheetnames\n",
    "\n",
    "# 파워포인트 객체 생성\n",
    "prs = Presentation()\n",
    "\n",
    "# 표지 슬라이드 추가\n",
    "slide_layout = prs.slide_layouts[0]\n",
    "slide = prs.slides.add_slide(slide_layout)\n",
    "slide.shapes.title.text = \"상반기 제품별 판매현황 분석\"\n"
   ]
  },
  {
   "cell_type": "markdown",
   "id": "99590c82-8a43-4278-90b9-7d3bcd22b457",
   "metadata": {},
   "source": [
    "3) 판매량 데이터 가져오기 - 1 (빈 딕셔너리 생성과 엑셀 전체 시트 순회하기)"
   ]
  },
  {
   "cell_type": "code",
   "execution_count": null,
   "id": "a0648b7b-d537-4cfe-8e3d-eba15636894f",
   "metadata": {},
   "outputs": [],
   "source": [
    "# 제품별 판매량 데이터를 저장하기 위한 딕셔너리\n",
    "sales_data = {}\n",
    "\n",
    "# 엑셀 전체 시트를 순회\n",
    "for sheet_name in sheet_names:\n",
    "    sheet = wb[sheet_name]\n"
   ]
  },
  {
   "cell_type": "markdown",
   "id": "3fbda35e-e196-4618-8080-947181da523c",
   "metadata": {},
   "source": [
    "4) 판매량 데이터 가져오기 - 2 (엑셀 시트별 전체 데이터 이중리스트로 저장하기)"
   ]
  },
  {
   "cell_type": "code",
   "execution_count": null,
   "id": "dc63617e-4b69-4463-877a-4ef0aec8265e",
   "metadata": {},
   "outputs": [],
   "source": [
    "    # 제품 전체 판매 데이터 저장 (판매월, 판매량, 판매금액)\n",
    "    data = [list(map(str, row)) for row in sheet.iter_rows(values_only=True)]\n"
   ]
  },
  {
   "cell_type": "markdown",
   "id": "0e88e257-5d8a-4442-94b7-73168218a94e",
   "metadata": {},
   "source": [
    "5) 판매량 데이터 가져오기 - 3 (엑셀 시트별 판매량 데이터만 딕셔너리에 저장하기)"
   ]
  },
  {
   "cell_type": "code",
   "execution_count": null,
   "id": "ba0db678-c36d-4201-b559-c29ecbf36d02",
   "metadata": {},
   "outputs": [],
   "source": [
    "    # 제품의 판매량 데이터 저장\n",
    "    sales_data[sheet_name] = [list(map(int, row[1:2])) for row in data[1:]]\n"
   ]
  },
  {
   "cell_type": "markdown",
   "id": "e27f824c-5692-475f-89d2-6e05869c3a8e",
   "metadata": {},
   "source": [
    "6) 제품별 슬라이드 추가하고 표 생성하기"
   ]
  },
  {
   "cell_type": "code",
   "execution_count": null,
   "id": "99f797ad-f88c-4e30-912d-c9bb7747bbcb",
   "metadata": {},
   "outputs": [],
   "source": [
    "    # 슬라이드 추가\n",
    "    slide_layout = prs.slide_layouts[5]\n",
    "    slide = prs.slides.add_slide(slide_layout)\n",
    "    slide.shapes.title.text = f\"{sheet_name}\"\n",
    "\n",
    "    # 표 추가\n",
    "    rows, cols = len(data), len(data[0])\n",
    "    table = slide.shapes.add_table(rows+1, cols, Inches(0.3), Inches(2), Inches(4.3), Inches(3.8)).table\n"
   ]
  },
  {
   "cell_type": "markdown",
   "id": "1608e132-5842-4ca2-b6c8-21918eda0490",
   "metadata": {},
   "source": [
    "7) 생성된 표에 데이터 추가하기"
   ]
  },
  {
   "cell_type": "code",
   "execution_count": null,
   "id": "b70df1e6-0fbf-424f-baba-0153944b0c89",
   "metadata": {},
   "outputs": [],
   "source": [
    "    # \"월별 판매 현황\" 추가\n",
    "    table.cell(0, 0).text = \"월별 판매 현황\"\n",
    "    table.cell(0, 0).merge(table.cell(0, cols - 1))\n",
    "\n",
    "    # 데이터를 표에 추가\n",
    "    for row_idx, row_val in enumerate(data):\n",
    "        for col_idx, val in enumerate(row_val):\n",
    "            table.cell(row_idx+1, col_idx).text = str(val)\n"
   ]
  },
  {
   "cell_type": "markdown",
   "id": "b3f3165e-e752-47f3-845d-5afb77df8c4d",
   "metadata": {},
   "source": [
    "8) 차트 데이터 설정하기"
   ]
  },
  {
   "cell_type": "code",
   "execution_count": null,
   "id": "ceffad4e-6832-4b6e-86a2-7104cfe28e02",
   "metadata": {},
   "outputs": [],
   "source": [
    "    # 차트 데이터 설정\n",
    "    chart_data = CategoryChartData()\n",
    "    chart_data.categories = [row[0] for row in data[1:]]\n",
    "    chart_data.add_series('상반기 판매량 변화', (row[1] for row in data[1:]))\n"
   ]
  },
  {
   "cell_type": "markdown",
   "id": "0b1702db-23ac-465a-b57e-15d20c4e2131",
   "metadata": {},
   "source": [
    "9) 막대 차트 추가하고 차트 설정하기"
   ]
  },
  {
   "cell_type": "code",
   "execution_count": null,
   "id": "712628e8-e260-4c42-bb3e-96694261df76",
   "metadata": {},
   "outputs": [],
   "source": [
    "    # 차트 추가\n",
    "    x, y, cx, cy = Inches(5), Inches(1.8), Inches(4.5), Inches(4.2)\n",
    "    chart = slide.shapes.add_chart(XL_CHART_TYPE.COLUMN_CLUSTERED, x, y, cx, cy, chart_data).chart\n",
    "\n",
    "    # 차트 설정\n",
    "    chart.has_legend = False\n",
    "    chart.plots[0].has_data_labels = True\n"
   ]
  },
  {
   "cell_type": "markdown",
   "id": "afdc8c60-9900-4e3b-a5c8-1beb65162935",
   "metadata": {},
   "source": [
    "10) 슬라이드 추가하기 & 라인 차트 추가를 위한 데이터 설정하기"
   ]
  },
  {
   "cell_type": "code",
   "execution_count": null,
   "id": "38bcb0b7-1deb-4914-8597-943e283bf108",
   "metadata": {},
   "outputs": [],
   "source": [
    "# 전체 판매 추이 슬라이드 생성\n",
    "slide_layout = prs.slide_layouts[5]\n",
    "slide = prs.slides.add_slide(slide_layout)\n",
    "slide.shapes.title.text = \"제품별 판매 추이\"\n",
    "\n",
    "# 전체 판매 추이 차트 데이터 설정\n",
    "chart_data = CategoryChartData()\n",
    "chart_data.categories = [row[0] for row in data[1:]]\n",
    "for sheet_name, sales in sales_data.items():\n",
    "    chart_data.add_series(sheet_name, (sale[0] for sale in sales))\n"
   ]
  },
  {
   "cell_type": "markdown",
   "id": "298fe029-13ea-429e-acd9-d03fe845aa88",
   "metadata": {},
   "source": [
    "11) 라인 차트 추가하기 & 차트 설정하기"
   ]
  },
  {
   "cell_type": "code",
   "execution_count": null,
   "id": "911334d5-787b-4943-bb4d-787cda36a32d",
   "metadata": {},
   "outputs": [],
   "source": [
    "# 전체 판매 추이 차트 추가\n",
    "x, y, cx, cy = Inches(1), Inches(2), Inches(8), Inches(4.5)\n",
    "chart = slide.shapes.add_chart(XL_CHART_TYPE.LINE, x, y, cx, cy, chart_data).chart\n",
    "\n",
    "# 차트 설정\n",
    "chart.has_legend = True\n",
    "chart.legend.include_in_layout = False\n",
    "chart.category_axis.has_major_gridlines = False\n"
   ]
  },
  {
   "cell_type": "markdown",
   "id": "e5797979-68d0-43b4-abe2-a6df805e4af6",
   "metadata": {},
   "source": [
    "12) 마지막 슬라이드 추가하기 & 파일로 저장하기"
   ]
  },
  {
   "cell_type": "code",
   "execution_count": null,
   "id": "01636ab1-5db0-4c65-b0cb-7f97322eedf1",
   "metadata": {},
   "outputs": [],
   "source": [
    "# 마지막 슬라이드 추가\n",
    "slide_layout = prs.slide_layouts[0]\n",
    "slide = prs.slides.add_slide(slide_layout)\n",
    "slide.shapes.title.text = \"감사합니다.\"\n",
    "\n",
    "# 결과 저장\n",
    "prs.save('상반기_제품별_판매현황_분석.pptx')\n"
   ]
  }
 ],
 "metadata": {
  "kernelspec": {
   "display_name": "Python 3 (ipykernel)",
   "language": "python",
   "name": "python3"
  },
  "language_info": {
   "codemirror_mode": {
    "name": "ipython",
    "version": 3
   },
   "file_extension": ".py",
   "mimetype": "text/x-python",
   "name": "python",
   "nbconvert_exporter": "python",
   "pygments_lexer": "ipython3",
   "version": "3.11.7"
  }
 },
 "nbformat": 4,
 "nbformat_minor": 5
}
