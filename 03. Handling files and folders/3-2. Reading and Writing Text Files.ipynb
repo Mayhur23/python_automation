{
 "cells": [
  {
   "cell_type": "markdown",
   "id": "6035c914-2427-4e6a-a60d-f84c64ca8ab9",
   "metadata": {},
   "source": [
    "# 03.2 텍스트 파일 읽고 쓰기\n",
    "## 텍스트 파일 읽기"
   ]
  },
  {
   "cell_type": "code",
   "execution_count": null,
   "id": "d0500c8a-f738-4092-89ee-b81ea09420df",
   "metadata": {},
   "outputs": [],
   "source": [
    "# 'example.txt' 파일 열기 ( 읽기 모드 'r', 인코딩 방식 ' utf-8')\n",
    "file = open('example.txt', 'r', encoding = 'utf-8')\n",
    "\n",
    "# 파일 읽기\n",
    "content = file.read()\n",
    "\n",
    "# 파일 닫기\n",
    "file.close()\n",
    "\n",
    "# 읽어온 파일 내용 출력\n",
    "print(content)"
   ]
  },
  {
   "cell_type": "code",
   "execution_count": null,
   "id": "f9819c41-9813-47fa-9b76-b920b5b19881",
   "metadata": {},
   "outputs": [],
   "source": [
    "# with문으로 파일 읽기\n",
    "# 'example.txt' 파일 열기 ( 읽기 모드 'r', 인코딩 방식 ' utf-8')\n",
    "with open('example.txt', 'r', encoding = 'utf-8') as file:\n",
    "    content = file.read()  # 파일 읽기\n",
    "    print(content) # 읽어온 파일 내용 출력"
   ]
  },
  {
   "cell_type": "markdown",
   "id": "8259aa19-cb1a-4ee4-b22d-7d8e3fab004c",
   "metadata": {},
   "source": [
    "## 텍스트파일 쓰기"
   ]
  },
  {
   "cell_type": "code",
   "execution_count": null,
   "id": "2d42780b-dd1f-4abe-a5d3-ab0aab8f6848",
   "metadata": {},
   "outputs": [],
   "source": [
    "# 파일 열기 ( 쓰기 모드 'w', 인코딩 방식 ' utf-8')\n",
    "file = open('example_w.txt', 'w', encoding = 'utf-8')\n",
    "\n",
    "# 문자열 쓰기\n",
    "file.write('Hello, \\n world!')\n",
    "\n",
    "# 파일 닫기\n",
    "file.close()"
   ]
  },
  {
   "cell_type": "code",
   "execution_count": null,
   "id": "e1eb1520-4940-4b85-8891-92af1eb622f6",
   "metadata": {},
   "outputs": [],
   "source": [
    "# with문으로 파일 쓰기\n",
    "# 파일 열기 ( 쓰기 모드 'w', 인코딩 방식 ' utf-8')\n",
    "with open('example_w.txt', 'w') as file:\n",
    "    file.write('Hello, \\n world!')  # 문자열 쓰기"
   ]
  },
  {
   "cell_type": "code",
   "execution_count": null,
   "id": "c9a342f2-eb47-401c-ad7e-d43f73d0455c",
   "metadata": {},
   "outputs": [],
   "source": [
    "!type example_w.txt"
   ]
  },
  {
   "cell_type": "markdown",
   "id": "743ff508-1fce-4d07-bd1b-8481fca09622",
   "metadata": {},
   "source": [
    "### 텍스트 파일을 한 줄씩 읽고 쓰기\n",
    "#### 한 줄씩 읽기\n",
    "##### readline()"
   ]
  },
  {
   "cell_type": "code",
   "execution_count": null,
   "id": "734f87ed-8e64-4f63-85e8-b99711c11957",
   "metadata": {},
   "outputs": [],
   "source": [
    "with open('example_w.txt', 'r') as file:\n",
    "    line1 = file.readline() # 파일의 첫 줄 읽기\n",
    "    line2 = file.readline() # 파일의 그 다음 줄 읽기\n",
    "\n",
    "print(line1, line2)"
   ]
  },
  {
   "cell_type": "code",
   "execution_count": null,
   "id": "eb45512e-6e93-4e26-83b4-2e00c3518d11",
   "metadata": {},
   "outputs": [],
   "source": [
    "# readline()으로 파일 전체 읽기(공백 제외)\n",
    "with open('example_w.txt', 'r') as file:\n",
    "    line = file.readline() # 파일의 첫 줄 읽기\n",
    "    \n",
    "    while line: # 파일 끝에 도달하기 전까지 아래의 코드를 수행\n",
    "        print(line.strip())  # 줄바꿈 문자를 제거하고 읽어온 줄을 출력\n",
    "        line = file.readline() # 다음 줄을 읽기"
   ]
  },
  {
   "cell_type": "markdown",
   "id": "20f5daed-1c16-41fd-977f-d5f8cfd37139",
   "metadata": {},
   "source": [
    "##### readlines()"
   ]
  },
  {
   "cell_type": "code",
   "execution_count": null,
   "id": "201f61ab-8ea5-490e-8fb6-b682c803cb38",
   "metadata": {},
   "outputs": [],
   "source": [
    "with open('example_w.txt', 'r') as file:\n",
    "    lines = file.readlines() # 파일의 전체의 내용 읽기\n",
    "    print(lines) # 리스트형으로 저장된 전체 내용 출력"
   ]
  },
  {
   "cell_type": "code",
   "execution_count": null,
   "id": "10f24187-508a-4bf0-ab12-e3d0601aab86",
   "metadata": {},
   "outputs": [],
   "source": [
    "# 개행 문자 제외하고 데이터 가져오기\n",
    "with open('example_w.txt', 'r') as file:\n",
    "    lines = file.readlines() # 파일의 전체의 내용 읽기\n",
    "    \n",
    "    for line in lines: # 리스트의 요소를 하나씩 순회하며 아래의 코드를 실행\n",
    "        print(line.strip())  # 줄바꿈 문자를 제거하고 읽어온 줄을 출력e_to)"
   ]
  },
  {
   "cell_type": "markdown",
   "id": "c7ba74bb-93c7-4a8b-8a9f-9088e54e0ea2",
   "metadata": {},
   "source": [
    "#### 한 줄씩 쓰기\n",
    "##### write()"
   ]
  },
  {
   "cell_type": "code",
   "execution_count": null,
   "id": "85cacdb7-1858-4a29-b443-60e9befdf153",
   "metadata": {},
   "outputs": [],
   "source": [
    "# 각 줄마다 입력할 내용을 리스트로 저장\n",
    "lines = ['Hello, world!', 'Hello, again!']\n",
    "\n",
    "with open('example_lines.txt', 'w') as file: \n",
    "    for line in lines: # 저장된 리스트의 각 요소에 접근하여 아래 작업을 실행\n",
    "        file.write(f\"{line}\\n\") # 내용을 파일에 쓰고 줄 바꿈t')"
   ]
  },
  {
   "cell_type": "code",
   "execution_count": null,
   "id": "7cf18e15-874a-4c47-a2e3-5196673738f9",
   "metadata": {},
   "outputs": [],
   "source": [
    "!type example_lines.txt"
   ]
  },
  {
   "cell_type": "markdown",
   "id": "66f06ca9-d805-4a81-960f-a81f0fdee38c",
   "metadata": {},
   "source": [
    "##### writelines()"
   ]
  },
  {
   "cell_type": "code",
   "execution_count": null,
   "id": "3c21af98-8384-4dce-a84b-b705f86d0281",
   "metadata": {},
   "outputs": [],
   "source": [
    "# 각 줄마다 입력할 내용을 리스트로 저장\n",
    "lines = ['Hello, world!\\n', 'Hello, again!']\n",
    "\n",
    "with open('example_lines.txt', 'w') as file: \n",
    "    file.writelines(lines) # 리스트로 저장된 lines 전체를 파일에 쓰기"
   ]
  },
  {
   "cell_type": "code",
   "execution_count": null,
   "id": "6ddd7b27-d337-4fea-b347-441248fd48bf",
   "metadata": {},
   "outputs": [],
   "source": [
    "### 'r+'모드와 seek함수"
   ]
  },
  {
   "cell_type": "code",
   "execution_count": null,
   "id": "f2916a6b-59e1-4bd3-9da2-949507932a77",
   "metadata": {},
   "outputs": [],
   "source": [
    "with open('example_lines.txt', 'r+') as f:\n",
    "    content = f.read()  # 파일의 모든 내용을 읽기 ( 읽기 ① )\n",
    "    print('Before:', content) \n",
    "    \n",
    "    f.seek(0)  # 파일 포인터를 파일 시작 부분으로 이동\n",
    "    f.write('We can change it.\\n')  # 파일 내용 덮어쓰기 ( 쓰기 )\n",
    "    content = f.read() # 현재 위치에서 파일 읽기 ( 읽기 ② )\n",
    "    print('After:', content) \n",
    "    \n",
    "    f.seek(0) # 파일 포인터를 파일 시작 부분으로 이동\n",
    "    content = f.read()  # 현재 위치에서 다시 파일 읽기 ( 읽기 ③ )\n",
    "    print('Final:', content)  "
   ]
  }
 ],
 "metadata": {
  "kernelspec": {
   "display_name": "Python 3 (ipykernel)",
   "language": "python",
   "name": "python3"
  },
  "language_info": {
   "codemirror_mode": {
    "name": "ipython",
    "version": 3
   },
   "file_extension": ".py",
   "mimetype": "text/x-python",
   "name": "python",
   "nbconvert_exporter": "python",
   "pygments_lexer": "ipython3",
   "version": "3.11.7"
  }
 },
 "nbformat": 4,
 "nbformat_minor": 5
}
