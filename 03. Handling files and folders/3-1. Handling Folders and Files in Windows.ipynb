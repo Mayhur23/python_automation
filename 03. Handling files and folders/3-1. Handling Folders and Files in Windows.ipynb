{
 "cells": [
  {
   "cell_type": "markdown",
   "id": "6035c914-2427-4e6a-a60d-f84c64ca8ab9",
   "metadata": {},
   "source": [
    "# 03.1 윈도우 폴더 및 파일 다루기\n",
    "## 파일(폴더) 존재유무 확인"
   ]
  },
  {
   "cell_type": "code",
   "execution_count": 9,
   "id": "d0500c8a-f738-4092-89ee-b81ea09420df",
   "metadata": {},
   "outputs": [
    {
     "name": "stdout",
     "output_type": "stream",
     "text": [
      "폴더 있음\n"
     ]
    }
   ],
   "source": [
    "import os\n",
    "\n",
    "if not os.path.exists('C:\\\\users\\\\mayhur\\\\Book'): # C드라이브 users에 'Book' 폴더가 있는지 확인\n",
    "    print('폴더 없음')\n",
    "else:\n",
    "    print('폴더 있음')"
   ]
  },
  {
   "cell_type": "markdown",
   "id": "7b178440-68c6-400e-9ffb-77a21f849afe",
   "metadata": {},
   "source": [
    "## 특정 폴더 내 목록 확인"
   ]
  },
  {
   "cell_type": "code",
   "execution_count": 10,
   "id": "fa1d1f1d-adc9-4cfc-8144-121e073a6e70",
   "metadata": {},
   "outputs": [
    {
     "name": "stdout",
     "output_type": "stream",
     "text": [
      "['.ipynb_checkpoints', '10월 팩스 수신 내역.xlsx', '11.16 이메일 자동 발송하기.ipynb', '11.17 일정 알림.ipynb', '11.18 yfinance 주식 데이터.ipynb', '11.18 텔레그램.ipynb', '11.19 구글 스프레드시트.ipynb', '11.20 스트림릿.ipynb', '2-1.how_to_write_codes.ipynb', '2-2. Variables and Data Types.ipynb', '2-3. Conditional Statements and Loops.ipynb', '2-3. Data TypesⅡ.ipynb', '2-4. Functions and Classes.ipynb', '2-5. Modules, Packages, Libraries.ipynb', '2-6. Path Configuration.ipynb', '2-7. Regular Expressions.ipynb', '2-8. Other Syntax.ipynb', '2-9. String Handling.ipynb', '2023', '2023-10-02 1100.xlsx', '2023-10-04 0814.xlsx', '2023-10-06 0715.xlsx', '2023-10-07 0427.xlsx', '2023-10-07 0712.xlsx', '2023-10-09 0443.xlsx', '2023-10-09 0938.xlsx', '2023-10-10 0557.xlsx', '2023-10-12 0344.xlsx', '2023-10-13 0731.xlsx', '2023-10-14 0418.xlsx', '2023-10-14 0749.xlsx', '2023-10-14 1218.xlsx', '2023-10-15 1921.xlsx', '2023-10-15 2007.xlsx', '2023-10-16 1242.xlsx', '2023-10-16 2128.xlsx', '2023-10-18 0258.xlsx', '2023-10-20 0215.xlsx', '2023-10-20 1123.xlsx', '2023-10-22 0538.xlsx', '2023-10-22 2203.xlsx', '2023-10-25 1119.xlsx', '2023-10-26 0722.xlsx', '2023-10-26 1502.xlsx', '2023-10-28 1003.xlsx', '2023-10-28 1700.xlsx', '2023-10-29 1652.xlsx', '2023-10-31 1114.xlsx', '2023-10-31 1639.xlsx', '3-1. Handling Folders and Files in Windows.ipynb', 'calculator.py', 'config.py', 'Currency', 'Documents', 'element_screenshot.png', 'ev.xlsx', 'evfinal.csv', 'evfinal.xlsx', 'example.csv', 'example.docx', 'example.tsv', 'example.txt', 'example2.csv', 'example2.docx', 'example2.tsv', 'example3.docx', 'example4.docx', 'example5.docx', 'Example_for_rename', 'exchangelist.html', 'exchangelist_finance.html', 'exchangelist_usd.html', 'file_naver.html', 'full_page_screenshot.png', 'image1.png', 'Images', 'Invoice_Template.docx', 'Merged Fax Data.xlsx', 'None_송장.docx', 'PDF', 'Powerpoint', 'powerpoint_ex2.pptx', 'presentation.pptx', 'presentation_with_chart.pptx', 'presentation_with_graphics.pptx', 'presentation_with_image.pptx', 'presentation_with_list.pptx', 'presentation_with_table.pptx', 'presentation_with_table2.pptx', 'presentation_with_table222.pptx', 'py_data', 'qr', 'ResizedImages', 'sales_data.xlsx', 'sample', 'Schedules', 'school_records.csv', 'selenium 실습.ipynb', 'slide_0_image.png', 'Spreadsheets', 'station.csv', 'station.xlsx', 'streamlit_app.py', 'styled_text_korean.pptx', 'thumbnail.jpeg', 'title_example.docx', 'TTS', 'Untitled.ipynb', 'untitled.txt', 'Untitled1.ipynb', 'Untitled2.ipynb', 'Untitled3.ipynb', 'Untitled4.ipynb', 'Youtube_download', '__pycache__', '구매고객리스트.xlsx', '따라하기용 코드', '미니 프로젝트.ipynb', '상반기_제품별_판매현황_분석.pptx', '상반기_제품별_판매현황_분석2.pptx', '새 파워포인트.pptx', '송장.docx', '송장폴더', '수강생_리스트.xlsx', '엑셀 서식.xlsx', '월별구매고객리스트.xlsx', '월별구매고객리스트_잠김.xlsx', '이호연_송장.docx', '제품별 신규 고객 리스트.xlsx', '제품별 신규 고객 리스트2.xlsx', '참고자료', '책 캡쳐.pptx', '추출한 이미지 폴더', '테스트.ipynb', '표시형식설정.xlsx', '한국전력공사_지역별 전기차 충전소 현황정보_20230718.csv', '한국전력공사_지역별 전기차 충전소 현황정보_20230718.xlsx', '한국전력공사_지역별 전기차 현황정보.csv', '한국전력공사_지역별 전기차 현황정보_20230331.csv', '한국전력공사_지역별 전기차 현황정보_20230331.xlsx', '회의록_템플릿.docx']\n"
     ]
    }
   ],
   "source": [
    "import os\n",
    "\n",
    "lists = os.listdir('C:\\\\users\\\\mayhur\\\\Book') # C드라이브 users 내 Book폴더에 있는 파일과 폴더 목록 반환\n",
    "print(lists)   "
   ]
  },
  {
   "cell_type": "markdown",
   "id": "6fe7ed11-efe3-4f6d-a260-ce7dd15dd36e",
   "metadata": {},
   "source": [
    "## 폴더 생성"
   ]
  },
  {
   "cell_type": "code",
   "execution_count": null,
   "id": "e1eb1520-4940-4b85-8891-92af1eb622f6",
   "metadata": {},
   "outputs": [],
   "source": [
    "import os\n",
    "\n",
    "if not os.path.exists('C:/users/mayhur/Test'): # mayhur 폴더 하위에 'Book' 폴더가 없으면 아래 명령어 수행\n",
    "    os.makedirs('C:/users/mayhur/Test')  # 경로에 'Book'폴더 생성"
   ]
  },
  {
   "cell_type": "markdown",
   "id": "91d37475-47ee-418c-ab90-4baec6172b39",
   "metadata": {},
   "source": [
    "## 폴더 이름 변경"
   ]
  },
  {
   "cell_type": "code",
   "execution_count": 14,
   "id": "c9a342f2-eb47-401c-ad7e-d43f73d0455c",
   "metadata": {},
   "outputs": [],
   "source": [
    "import os\n",
    "\n",
    "if os.path.exists('C:/users/mayhur/Book/Test'): # 'Book' 폴더가 있으면 아래 명령어 수행\n",
    "    os.rename('C:/users/mayhur/Book/Test', 'C:/users/mayhur/Book/Test_2024') # 폴더명을 'Test'에서 'Test_2024'으로 변경"
   ]
  },
  {
   "cell_type": "markdown",
   "id": "743ff508-1fce-4d07-bd1b-8481fca09622",
   "metadata": {},
   "source": [
    "## 폴더 복사"
   ]
  },
  {
   "cell_type": "code",
   "execution_count": 4,
   "id": "734f87ed-8e64-4f63-85e8-b99711c11957",
   "metadata": {},
   "outputs": [],
   "source": [
    "import os\n",
    "import shutil\n",
    "\n",
    "path_from = 'C:/users/mayhur/Book' # 복사할 원본 폴더 경로\n",
    "path_to = 'C:/users/mayhur/Book/Test_2024' # 복사 완료 후의 최종 폴더 경로\n",
    "\n",
    "if not os.path.exists(path_to): \n",
    "  shutil.copytree(path_from, path_to) "
   ]
  },
  {
   "cell_type": "markdown",
   "id": "a725ef3a-b46c-48eb-8f30-f7846a7112fc",
   "metadata": {},
   "source": [
    "## 폴더 삭제"
   ]
  },
  {
   "cell_type": "code",
   "execution_count": 6,
   "id": "eb45512e-6e93-4e26-83b4-2e00c3518d11",
   "metadata": {},
   "outputs": [],
   "source": [
    "import shutil\n",
    "\n",
    "path = 'C:/users/mayhur/Book/Test_2024' # 삭제할 폴더 경로\n",
    "\n",
    "if os.path.exists(path):\n",
    "    shutil.rmtree(path)"
   ]
  },
  {
   "cell_type": "markdown",
   "id": "20f5daed-1c16-41fd-977f-d5f8cfd37139",
   "metadata": {},
   "source": [
    "## 파일 복사"
   ]
  },
  {
   "cell_type": "code",
   "execution_count": null,
   "id": "201f61ab-8ea5-490e-8fb6-b682c803cb38",
   "metadata": {},
   "outputs": [],
   "source": [
    "import shutil\n",
    "\n",
    "shutil.copy('example.txt', 'example_copied.txt')"
   ]
  },
  {
   "cell_type": "markdown",
   "id": "c6a70dc5-c5db-4861-87ee-169a203721b9",
   "metadata": {},
   "source": [
    "## 파일 이동"
   ]
  },
  {
   "cell_type": "code",
   "execution_count": null,
   "id": "10f24187-508a-4bf0-ab12-e3d0601aab86",
   "metadata": {},
   "outputs": [],
   "source": [
    "import shutil\r\n",
    "\r\n",
    "file_from = 'example_copied.txt'\r\n",
    "file_to = './2/3\\\\example_copied.txt'\r\n",
    "\r\n",
    "shutil.move(file_from, file_to)"
   ]
  },
  {
   "cell_type": "markdown",
   "id": "c7ba74bb-93c7-4a8b-8a9f-9088e54e0ea2",
   "metadata": {},
   "source": [
    "## 파일 삭제"
   ]
  },
  {
   "cell_type": "code",
   "execution_count": null,
   "id": "85cacdb7-1858-4a29-b443-60e9befdf153",
   "metadata": {},
   "outputs": [],
   "source": [
    "import os\r\n",
    "\r\n",
    "if os.path.exists('example.txt'):\r\n",
    "    os.remove('example.txt')"
   ]
  }
 ],
 "metadata": {
  "kernelspec": {
   "display_name": "Python 3 (ipykernel)",
   "language": "python",
   "name": "python3"
  },
  "language_info": {
   "codemirror_mode": {
    "name": "ipython",
    "version": 3
   },
   "file_extension": ".py",
   "mimetype": "text/x-python",
   "name": "python",
   "nbconvert_exporter": "python",
   "pygments_lexer": "ipython3",
   "version": "3.11.7"
  }
 },
 "nbformat": 4,
 "nbformat_minor": 5
}
