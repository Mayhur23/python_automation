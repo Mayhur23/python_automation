{
 "cells": [
  {
   "cell_type": "markdown",
   "id": "6035c914-2427-4e6a-a60d-f84c64ca8ab9",
   "metadata": {},
   "source": [
    "# 03.3 CSV파일 다루기\n",
    "## CSV 파일 쓰기"
   ]
  },
  {
   "cell_type": "code",
   "execution_count": null,
   "id": "d0500c8a-f738-4092-89ee-b81ea09420df",
   "metadata": {},
   "outputs": [],
   "source": [
    "import csv\n",
    "\n",
    "# csv파일을 쓰기모드 'w'로 열기(인코딩 'cp949', 라인 종료 문자 설정 'newline = '')\n",
    "with open('example.csv', 'w', encoding='cp949', newline='') as file:\n",
    "    csv_writer = csv.writer(file) # 파일 객체를 csv.writer 객체로 변환\n",
    "    \n",
    "    csv_writer.writerow(['이름', '나이', '직업']) # 헤더 작성\n",
    "    csv_writer.writerow(['박은영', 30, '엔지니어']) # 데이터 행 추가\n",
    "    csv_writer.writerow(['김세빛', 25, '디자이너']) \n",
    "    csv_writer.writerow(['안희수', 35, '의사'])\n",
    "    csv_writer.writerow(['정현욱', 40, '선생님'])\n",
    "    csv_writer.writerow(['강찬영', 22, '학생'])"
   ]
  },
  {
   "cell_type": "code",
   "execution_count": null,
   "id": "c3c43c60-d930-445c-8bae-3f29e3763207",
   "metadata": {},
   "outputs": [],
   "source": [
    "!type example.csv"
   ]
  },
  {
   "cell_type": "markdown",
   "id": "bc0920a5-6fcd-4cd5-a53f-ea464a29a898",
   "metadata": {},
   "source": [
    "## CSV 파일 읽기"
   ]
  },
  {
   "cell_type": "code",
   "execution_count": null,
   "id": "2d42780b-dd1f-4abe-a5d3-ab0aab8f6848",
   "metadata": {},
   "outputs": [],
   "source": [
    "import csv\n",
    "\n",
    "# csv파일을 읽기모드 'r'로 열기(인코딩 'cp949')\n",
    "with open('example.csv', 'r', encoding='cp949') as file:\n",
    "    csv_reader = csv.reader(file) # 파일 객체를 csv.reader 객체로 변환\n",
    "    for row in csv_reader: # 파일 행별로 읽기\n",
    "        print(row)"
   ]
  },
  {
   "cell_type": "markdown",
   "id": "bd772847-6c38-43dc-98c9-22ddd253d3f3",
   "metadata": {},
   "source": [
    "### 헤더 건너뛰기"
   ]
  },
  {
   "cell_type": "code",
   "execution_count": null,
   "id": "c9a342f2-eb47-401c-ad7e-d43f73d0455c",
   "metadata": {},
   "outputs": [],
   "source": [
    "import csv\n",
    "\n",
    "with open('example.csv', 'r', encoding='cp949') as file:\n",
    "    csv_reader = csv.reader(file) \n",
    "    next(csv_reader) # 첫 행 건너뛰기 \n",
    "    for row in csv_reader: # 두번째 행부터 행별로 읽기\n",
    "        print(row)"
   ]
  },
  {
   "cell_type": "markdown",
   "id": "743ff508-1fce-4d07-bd1b-8481fca09622",
   "metadata": {},
   "source": [
    "### 딕셔너리 형태로 읽기"
   ]
  },
  {
   "cell_type": "code",
   "execution_count": null,
   "id": "734f87ed-8e64-4f63-85e8-b99711c11957",
   "metadata": {},
   "outputs": [],
   "source": [
    "with open('example.csv', 'r', encoding='cp949') as file:\n",
    "    # csv.DictReader 객체 생성: 파일의 첫 번째 행을 헤더로 사용하여 나머지 행을 사전 형태로 읽기\n",
    "    csv_dict_reader = csv.DictReader(file)\n",
    "    \n",
    "    # csv_dict_reader 객체를 순회하면서 각 행을 출력\n",
    "    for row in csv_dict_reader:\n",
    "        # 헤더인 '이름', '나이', '직업'을 키로 사용하여 각 행의 해당 열 값을 출력\n",
    "        print(row['이름'], row['나이'], row['직업'])"
   ]
  },
  {
   "cell_type": "code",
   "execution_count": null,
   "id": "eb45512e-6e93-4e26-83b4-2e00c3518d11",
   "metadata": {},
   "outputs": [],
   "source": [
    "with open('example.csv', 'r', encoding='cp949') as file:\n",
    "    csv_dict_reader = csv.DictReader(file)\n",
    "    \n",
    "    for row in csv_dict_reader:\n",
    "        print(row) # 각 행 전체를 출력"
   ]
  },
  {
   "cell_type": "markdown",
   "id": "20f5daed-1c16-41fd-977f-d5f8cfd37139",
   "metadata": {},
   "source": [
    "### 다른 구분자로 읽기/쓰기"
   ]
  },
  {
   "cell_type": "code",
   "execution_count": null,
   "id": "201f61ab-8ea5-490e-8fb6-b682c803cb38",
   "metadata": {},
   "outputs": [],
   "source": [
    "# 'example.tsv' 파일을 읽기 모드('r')와 UTF-8 인코딩으로 열기\n",
    "with open('example.tsv', 'r', encoding='UTF-8') as file:\n",
    "\n",
    "    # csv.reader 객체 생성, 구분자를 탭('\\t')으로 지정\n",
    "    csv_reader = csv.reader(file, delimiter='\\t')\n",
    "    \n",
    "    # csv_reader 객체를 순회하면서 각 행을 출력    \n",
    "    for row in csv_reader:\n",
    "        print(row)"
   ]
  },
  {
   "cell_type": "markdown",
   "id": "dc7747dd-7391-47a6-a538-3d59e791c956",
   "metadata": {},
   "source": [
    "### 다른 따옴표 문자로 읽기/쓰기"
   ]
  },
  {
   "cell_type": "code",
   "execution_count": null,
   "id": "85cacdb7-1858-4a29-b443-60e9befdf153",
   "metadata": {},
   "outputs": [],
   "source": [
    "# 각 줄마다 입력할 내용을 리스트로 저장\n",
    "lines = ['Hello, world!', 'Hello, again!']\n",
    "\n",
    "with open('example_lines.txt', 'w') as file: \n",
    "    for line in lines: # 저장된 리스트의 각 요소에 접근하여 아래 작업을 실행\n",
    "        file.write(f\"{line}\\n\") # 내용을 파일에 쓰고 줄 바꿈t')"
   ]
  },
  {
   "cell_type": "code",
   "execution_count": null,
   "id": "7b349540-a7ff-4b80-8826-e2c633720ca9",
   "metadata": {},
   "outputs": [],
   "source": [
    "with open('example2.csv', 'r', encoding='cp949') as file:\n",
    "\n",
    "    # csv.reader 객체 생성\n",
    "    csv_reader = csv.reader(file)\n",
    "    for row in csv_reader:\n",
    "        print(row)"
   ]
  },
  {
   "cell_type": "code",
   "execution_count": null,
   "id": "f8625973-e8f0-4b76-aede-80e1ccb02989",
   "metadata": {},
   "outputs": [],
   "source": [
    "with open('example2.csv', 'r', encoding='cp949') as file:\n",
    "\n",
    "    # csv.reader 객체 생성( 따옴표 문자를 작은따옴표(')로 설정)\n",
    "    csv_reader = csv.reader(file, quotechar=\"'\")\n",
    "    for row in csv_reader:\n",
    "        print(row)"
   ]
  },
  {
   "cell_type": "code",
   "execution_count": null,
   "id": "7cf18e15-874a-4c47-a2e3-5196673738f9",
   "metadata": {},
   "outputs": [],
   "source": [
    "!type example_lines.txt"
   ]
  },
  {
   "cell_type": "markdown",
   "id": "66f06ca9-d805-4a81-960f-a81f0fdee38c",
   "metadata": {},
   "source": [
    "##### writelines()"
   ]
  },
  {
   "cell_type": "code",
   "execution_count": null,
   "id": "3c21af98-8384-4dce-a84b-b705f86d0281",
   "metadata": {},
   "outputs": [],
   "source": [
    "# 각 줄마다 입력할 내용을 리스트로 저장\n",
    "lines = ['Hello, world!\\n', 'Hello, again!']\n",
    "\n",
    "with open('example_lines.txt', 'w') as file: \n",
    "    file.writelines(lines) # 리스트로 저장된 lines 전체를 파일에 쓰기"
   ]
  },
  {
   "cell_type": "code",
   "execution_count": null,
   "id": "6ddd7b27-d337-4fea-b347-441248fd48bf",
   "metadata": {},
   "outputs": [],
   "source": [
    "### 'r+'모드와 seek함수"
   ]
  },
  {
   "cell_type": "code",
   "execution_count": null,
   "id": "f2916a6b-59e1-4bd3-9da2-949507932a77",
   "metadata": {},
   "outputs": [],
   "source": [
    "with open('example_lines.txt', 'r+') as f:\n",
    "    content = f.read()  # 파일의 모든 내용을 읽기 ( 읽기 ① )\n",
    "    print('Before:', content) \n",
    "    \n",
    "    f.seek(0)  # 파일 포인터를 파일 시작 부분으로 이동\n",
    "    f.write('We can change it.\\n')  # 파일 내용 덮어쓰기 ( 쓰기 )\n",
    "    content = f.read() # 현재 위치에서 파일 읽기 ( 읽기 ② )\n",
    "    print('After:', content) \n",
    "    \n",
    "    f.seek(0) # 파일 포인터를 파일 시작 부분으로 이동\n",
    "    content = f.read()  # 현재 위치에서 다시 파일 읽기 ( 읽기 ③ )\n",
    "    print('Final:', content)  "
   ]
  }
 ],
 "metadata": {
  "kernelspec": {
   "display_name": "Python 3 (ipykernel)",
   "language": "python",
   "name": "python3"
  },
  "language_info": {
   "codemirror_mode": {
    "name": "ipython",
    "version": 3
   },
   "file_extension": ".py",
   "mimetype": "text/x-python",
   "name": "python",
   "nbconvert_exporter": "python",
   "pygments_lexer": "ipython3",
   "version": "3.11.7"
  }
 },
 "nbformat": 4,
 "nbformat_minor": 5
}
