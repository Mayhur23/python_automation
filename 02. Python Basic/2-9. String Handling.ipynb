{
 "cells": [
  {
   "cell_type": "markdown",
   "id": "6035c914-2427-4e6a-a60d-f84c64ca8ab9",
   "metadata": {},
   "source": [
    "# 02.9 문자열 처리\n",
    "## 기본 문자열 연산"
   ]
  },
  {
   "cell_type": "code",
   "execution_count": null,
   "id": "d0500c8a-f738-4092-89ee-b81ea09420df",
   "metadata": {},
   "outputs": [],
   "source": [
    "# a+b\n",
    "a = \"Hello\" + \" \" + \"World\"\r\n",
    "print(a)"
   ]
  },
  {
   "cell_type": "code",
   "execution_count": null,
   "id": "2288897d-4b7c-4d68-ba1d-fad804958830",
   "metadata": {},
   "outputs": [],
   "source": [
    "# a*b\n",
    "a = \"Hello \" * 3\n",
    "print(a)"
   ]
  },
  {
   "cell_type": "markdown",
   "id": "b97a31e6-2cd4-4982-9195-5f5ecda95366",
   "metadata": {},
   "source": [
    "## 문자열 인덱싱 및 슬라이싱"
   ]
  },
  {
   "cell_type": "code",
   "execution_count": null,
   "id": "dc2826f4-80e7-47d4-bb0f-a768766252a5",
   "metadata": {},
   "outputs": [],
   "source": [
    "s = \"Python\"\n",
    "first_char = s[0]\n",
    "last_char = s[-1] \n",
    "\n",
    "print(first_char)\n",
    "print(last_char)"
   ]
  },
  {
   "cell_type": "code",
   "execution_count": null,
   "id": "e1eb1520-4940-4b85-8891-92af1eb622f6",
   "metadata": {},
   "outputs": [],
   "source": [
    "s = \"Python\"\n",
    "\n",
    "sub_string = s[1:4] \n",
    "print(sub_string)"
   ]
  },
  {
   "cell_type": "markdown",
   "id": "91d37475-47ee-418c-ab90-4baec6172b39",
   "metadata": {},
   "source": [
    "## 문자열 메서드"
   ]
  },
  {
   "cell_type": "code",
   "execution_count": null,
   "id": "c9a342f2-eb47-401c-ad7e-d43f73d0455c",
   "metadata": {},
   "outputs": [],
   "source": [
    "# 1) 대소문자 변환: lower(), upper()\n",
    "s = \"Python\"\n",
    "print(s.lower())  \n",
    "print(s.upper())"
   ]
  },
  {
   "cell_type": "code",
   "execution_count": null,
   "id": "e79859d0-177a-4e8c-a539-988989fcdaee",
   "metadata": {},
   "outputs": [],
   "source": [
    "# 2) 문자열 분리 및 결합: split(), join()"
   ]
  },
  {
   "cell_type": "markdown",
   "id": "cf55696a-11ec-4791-bb27-199f7a81905f",
   "metadata": {},
   "source": [
    "split() 메서드 사용법  \n",
    "str.split(sep=None, maxsplit=-1)"
   ]
  },
  {
   "cell_type": "markdown",
   "id": "a725ef3a-b46c-48eb-8f30-f7846a7112fc",
   "metadata": {},
   "source": [
    "join 메서드 사용법  \n",
    "str.join(iterable)"
   ]
  },
  {
   "cell_type": "code",
   "execution_count": null,
   "id": "eb45512e-6e93-4e26-83b4-2e00c3518d11",
   "metadata": {},
   "outputs": [],
   "source": [
    "# 3) 불필요한 문자열 제거: strip()"
   ]
  },
  {
   "cell_type": "markdown",
   "id": "20f5daed-1c16-41fd-977f-d5f8cfd37139",
   "metadata": {},
   "source": [
    "strip 메서드 사용법  \n",
    "str.strip(chars=None)"
   ]
  },
  {
   "cell_type": "code",
   "execution_count": null,
   "id": "201f61ab-8ea5-490e-8fb6-b682c803cb38",
   "metadata": {},
   "outputs": [],
   "source": [
    "s = \"  Hello  \"\n",
    "s.strip()"
   ]
  },
  {
   "cell_type": "code",
   "execution_count": null,
   "id": "7e7eab09-897c-4d6c-8510-096de454dd27",
   "metadata": {},
   "outputs": [],
   "source": [
    "# 4) 문자열 찾기: find(), count(), startswith(), endswith()"
   ]
  },
  {
   "cell_type": "markdown",
   "id": "67d01b96-ee07-43c2-9ff9-e7ecc1091508",
   "metadata": {},
   "source": [
    "find() 메서드 사용법  \n",
    "str.find(substr, start, end)"
   ]
  },
  {
   "cell_type": "code",
   "execution_count": null,
   "id": "2992349f-f98a-4fdf-a691-9c90d0b6baec",
   "metadata": {},
   "outputs": [],
   "source": [
    "s = \"Hello, World\"\n",
    "s.find(\"World\")  "
   ]
  },
  {
   "cell_type": "markdown",
   "id": "6f55bf1c-7ebe-4440-a144-cc67f8afa557",
   "metadata": {},
   "source": [
    "count() 메서드 사용법  \n",
    "str.count(substr, start, end)"
   ]
  },
  {
   "cell_type": "code",
   "execution_count": null,
   "id": "3a4fa988-96de-4ff7-833d-cbad4a7ab2a3",
   "metadata": {},
   "outputs": [],
   "source": [
    "s = \"Hello, World. Welcome to the World of Python.\"\n",
    "count_world = s.count(\"World\")\n",
    "print(count_world)"
   ]
  },
  {
   "cell_type": "markdown",
   "id": "91e9fff7-a85e-43cb-aef6-5cbd7be79f97",
   "metadata": {},
   "source": [
    "startswith()와 endswith() 사용법  \n",
    "str.startswith(prefix, start, end)\n",
    "str.endswith(suffix, start, end)"
   ]
  },
  {
   "cell_type": "code",
   "execution_count": null,
   "id": "a41ff267-3e91-4984-af4d-46984d3c979f",
   "metadata": {},
   "outputs": [],
   "source": [
    "s = \"Hello, World\"\n",
    "is_starting = s.startswith(\"Hell\")\n",
    "is_ending = s.endswith(\"orld\") \n",
    "\n",
    "print(is_starting)\n",
    "print(is_ending)"
   ]
  },
  {
   "cell_type": "code",
   "execution_count": null,
   "id": "723d1e0d-b6c0-43fa-a26f-accdba2a03bb",
   "metadata": {},
   "outputs": [],
   "source": [
    "# 5)문자열 교체: replace()"
   ]
  },
  {
   "cell_type": "markdown",
   "id": "13bcc727-9616-4e7f-b0db-abdcafd8524e",
   "metadata": {},
   "source": [
    "replace() 메서드 사용법  \n",
    "str.replace(old, new, count)"
   ]
  },
  {
   "cell_type": "code",
   "execution_count": null,
   "id": "4b2013f0-bf25-419a-a93a-08aa4eeb9dd0",
   "metadata": {},
   "outputs": [],
   "source": [
    "s = \"apple apple apple\"\n",
    "result = s.replace(\"apple\", \"orange\", 2)\n",
    "print(result) "
   ]
  },
  {
   "cell_type": "markdown",
   "id": "8546c6f8-2d14-49bc-a5e1-8d1b502a1df5",
   "metadata": {},
   "source": [
    "## 문자열 포맷팅"
   ]
  },
  {
   "cell_type": "markdown",
   "id": "b8efd0a0-fbff-4c79-9e62-7bd32f8e3950",
   "metadata": {},
   "source": [
    "1) % 포맷팅\n",
    "\"포맷 지정자가 포함된 문자열\" % (삽입할 값)"
   ]
  },
  {
   "cell_type": "code",
   "execution_count": null,
   "id": "f26fd3bd-66b0-44cf-b28b-bb40b2b662f9",
   "metadata": {},
   "outputs": [],
   "source": [
    "name = \"Alice\"\n",
    "\"Hello, %s\" % name "
   ]
  },
  {
   "cell_type": "code",
   "execution_count": null,
   "id": "1761781b-e35f-45a2-aa7a-572c34dbf22f",
   "metadata": {},
   "outputs": [],
   "source": [
    "print(\"I have %d apples and %0.2f oranges.\" % (5, 4.5678))"
   ]
  },
  {
   "cell_type": "markdown",
   "id": "01644121-e7dc-487c-a3dc-b5bc37e93854",
   "metadata": {},
   "source": [
    "2) str.format() 메서드\n",
    "\"중괄호 {}가 포함된 문자열\".format(삽입할 값)"
   ]
  },
  {
   "cell_type": "code",
   "execution_count": null,
   "id": "1ea0f325-cbdd-48f6-9eb7-abd86f2e39cd",
   "metadata": {},
   "outputs": [],
   "source": [
    "print(\"I have {} apples and {} oranges.\".format(5, 4))"
   ]
  },
  {
   "cell_type": "code",
   "execution_count": null,
   "id": "daa56037-c04e-442d-a6de-a2a2ce310397",
   "metadata": {},
   "outputs": [],
   "source": [
    "print(\"My name is {0} and I am {1} years old.\".format(\"Alice\", 30))\n",
    "print(\"My name is {name} and I am {age} years old.\".format(name=\"Alice\", age=30))"
   ]
  },
  {
   "cell_type": "code",
   "execution_count": null,
   "id": "87877223-1e62-4a8a-9bed-f6694705824e",
   "metadata": {},
   "outputs": [],
   "source": [
    "fruits = [\"apple\", \"banana\", \"cherry\"]\n",
    "print(\"I like {} and {}.\".format(fruits[0], fruits[2]))"
   ]
  },
  {
   "cell_type": "code",
   "execution_count": null,
   "id": "28374a7f-2307-41ba-b558-cd45621b5596",
   "metadata": {},
   "outputs": [],
   "source": [
    "person = {'name': 'Alice', 'age': 30}\n",
    "print(\"My name is {person[name]} and I am {person[age]} years old.\".format(person=person))"
   ]
  },
  {
   "cell_type": "code",
   "execution_count": null,
   "id": "ac876cce-39d6-4885-b608-888a33d45774",
   "metadata": {},
   "outputs": [],
   "source": [
    "print(\"My name is {name} and I am {age} years old.\".format(**person))"
   ]
  },
  {
   "cell_type": "markdown",
   "id": "fca807e7-f351-40e1-9ed7-e1f5b7ba6128",
   "metadata": {},
   "source": [
    "3) f-strings\n",
    "f\"{변수나 표현식}이 포함된 문자열\""
   ]
  },
  {
   "cell_type": "code",
   "execution_count": null,
   "id": "d44093bf-a6c5-4ef9-820e-8e0826e78d62",
   "metadata": {},
   "outputs": [],
   "source": [
    "name = \"지형\"\n",
    "age = 28\n",
    "print(f\"제 이름은 {name}이고 나이는 {age}세입니다.\")\n",
    "print(f\"5 곱하기 4는 {5 * 4}.\")"
   ]
  },
  {
   "cell_type": "code",
   "execution_count": null,
   "id": "d8f90e6b-0a9a-4a41-bda4-04b7f1ab1162",
   "metadata": {},
   "outputs": [],
   "source": [
    "ratio = 0.756\n",
    "print(f\"Conversion rate: {ratio:.2%}\")"
   ]
  },
  {
   "cell_type": "code",
   "execution_count": null,
   "id": "194f15d8-5eb5-4fa1-9388-d724cecce6d5",
   "metadata": {},
   "outputs": [],
   "source": [
    "name = \"Alice\"\n",
    "print(f\"{name:<10}\")\n",
    "print(f\"{name:>10}\")\n",
    "print(f\"{name:^10}\")"
   ]
  },
  {
   "cell_type": "code",
   "execution_count": null,
   "id": "8cbf1ee0-d26c-4461-9238-6d61799a7631",
   "metadata": {},
   "outputs": [],
   "source": [
    "fruits = [\"apple\", \"banana\", \"cherry\"]\n",
    "print(f\"I like {fruits[0]} and {fruits[2]}.\")"
   ]
  },
  {
   "cell_type": "code",
   "execution_count": null,
   "id": "f960843a-00f0-4fd2-8ce3-39d8e827853f",
   "metadata": {},
   "outputs": [],
   "source": [
    "person = {'name': 'Alice', 'age': 30}\n",
    "print(f\"My name is {person['name']} and I am {person['age']} years old.\")"
   ]
  }
 ],
 "metadata": {
  "kernelspec": {
   "display_name": "Python 3 (ipykernel)",
   "language": "python",
   "name": "python3"
  },
  "language_info": {
   "codemirror_mode": {
    "name": "ipython",
    "version": 3
   },
   "file_extension": ".py",
   "mimetype": "text/x-python",
   "name": "python",
   "nbconvert_exporter": "python",
   "pygments_lexer": "ipython3",
   "version": "3.11.7"
  }
 },
 "nbformat": 4,
 "nbformat_minor": 5
}
