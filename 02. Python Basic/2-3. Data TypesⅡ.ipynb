{
 "cells": [
  {
   "cell_type": "markdown",
   "id": "6035c914-2427-4e6a-a60d-f84c64ca8ab9",
   "metadata": {},
   "source": [
    "# 02.2 자료형Ⅱ\n",
    "### 4. 리스트(list)"
   ]
  },
  {
   "cell_type": "code",
   "execution_count": null,
   "id": "c37dba3a-f436-4bc8-bb54-8c686f640b04",
   "metadata": {},
   "outputs": [],
   "source": [
    "fruits = [\"사과\", \"바나나\", \"오렌지\"]\n",
    "print(fruits)"
   ]
  },
  {
   "cell_type": "code",
   "execution_count": null,
   "id": "783720ab-c428-4207-8377-e0ecebff1df6",
   "metadata": {},
   "outputs": [],
   "source": [
    "food = [ ['사과', '바나나', '오렌지'], ['우유', '치즈', '요거트' ], [ ] ]"
   ]
  },
  {
   "cell_type": "code",
   "execution_count": null,
   "id": "cdf984c4-3a87-46b4-8c6e-dc5cc260545d",
   "metadata": {},
   "outputs": [],
   "source": [
    "# 리스트의 길이 확인하기\n",
    "len(food)"
   ]
  },
  {
   "cell_type": "markdown",
   "id": "ecb4124b-35db-46b3-af75-a6f612f83278",
   "metadata": {},
   "source": [
    "#### 리스트 인덱싱"
   ]
  },
  {
   "cell_type": "code",
   "execution_count": null,
   "id": "824219fb-0768-49fe-a365-9e7ed3446a6e",
   "metadata": {},
   "outputs": [],
   "source": [
    "# 인덱스로 리스트의 요소 선택하기\n",
    "fruits = [\"사과\", \"바나나\", \"오렌지\"]\n",
    "fruits[0]"
   ]
  },
  {
   "cell_type": "code",
   "execution_count": null,
   "id": "b65638fc-802f-45f4-a020-cfeff5ad5d24",
   "metadata": {},
   "outputs": [],
   "source": [
    "# 음수 인덱스\n",
    "fruits[-2]"
   ]
  },
  {
   "cell_type": "code",
   "execution_count": null,
   "id": "2288897d-4b7c-4d68-ba1d-fad804958830",
   "metadata": {},
   "outputs": [],
   "source": [
    "# 이중리스트 안의 요소 선택하기\n",
    "food = [ ['사과', '바나나', '오렌지'], ['우유', '치즈', '요거트' ], [ ] ]\n",
    "food[1][-1]"
   ]
  },
  {
   "cell_type": "markdown",
   "id": "bc451ed4-a22b-4e08-aa56-ceb9e90aced8",
   "metadata": {},
   "source": [
    "#### 리스트 요소 변경하기"
   ]
  },
  {
   "cell_type": "code",
   "execution_count": null,
   "id": "618d6011-b474-4709-8628-b421e46ad506",
   "metadata": {},
   "outputs": [],
   "source": [
    "food[1] = '감자'\n",
    "print(food)"
   ]
  },
  {
   "cell_type": "markdown",
   "id": "6241193f-9f34-4437-92a6-3d88fa0cef6f",
   "metadata": {},
   "source": [
    "#### 리스트 요소 삭제하기"
   ]
  },
  {
   "cell_type": "code",
   "execution_count": null,
   "id": "b3b4594e-1c94-4555-ba33-7fa0810d9ff3",
   "metadata": {},
   "outputs": [],
   "source": [
    "del food[1]\n",
    "print(food)"
   ]
  },
  {
   "cell_type": "markdown",
   "id": "7b8bb26c-a462-4b6f-aac8-4af7e787274e",
   "metadata": {},
   "source": [
    "#### 리스트 슬라이싱"
   ]
  },
  {
   "cell_type": "code",
   "execution_count": null,
   "id": "fc633e2c-366a-4332-8471-0a5f5fc56a4c",
   "metadata": {},
   "outputs": [],
   "source": [
    "number = [ 0, 1, 2, 3, 4, 5, 6, 7, 8, 9 ]\n",
    "\n",
    "slice1 = number[2:7]\n",
    "print(slice1)"
   ]
  },
  {
   "cell_type": "code",
   "execution_count": null,
   "id": "e1eb1520-4940-4b85-8891-92af1eb622f6",
   "metadata": {},
   "outputs": [],
   "source": [
    "# 간격을 2로 지정해서 요소를 건너뛰며 가져오기\n",
    "number = [ 0, 1, 2, 3, 4, 5, 6, 7, 8, 9 ]\n",
    "\n",
    "slice2 = number[2:7:2]\n",
    "print(slice2)"
   ]
  },
  {
   "cell_type": "markdown",
   "id": "4f25ab48-db22-4775-a4b6-f35d886595c1",
   "metadata": {},
   "source": [
    "#### 리스트 메서드\n",
    "##### 1) append()"
   ]
  },
  {
   "cell_type": "code",
   "execution_count": null,
   "id": "e75efcc6-0ef9-497b-945b-72fcd07c4ec5",
   "metadata": {},
   "outputs": [],
   "source": [
    "fruits = [ '사과', '바나나' ]\n",
    "fruits.append('오렌지')\n",
    "print(fruits)"
   ]
  },
  {
   "cell_type": "markdown",
   "id": "c69fa463-9825-466b-b92f-b13aba4bee85",
   "metadata": {},
   "source": [
    "##### 2) insert()"
   ]
  },
  {
   "cell_type": "code",
   "execution_count": null,
   "id": "d3e04507-0926-4a04-85eb-57a3ba3af602",
   "metadata": {},
   "outputs": [],
   "source": [
    "fruits = [ '사과', '바나나' ]\n",
    "fruits.insert(1, '파인애플')\n",
    "print(fruits)"
   ]
  },
  {
   "cell_type": "markdown",
   "id": "aa3a5a72-92f3-47da-bd88-8b57b0effdb3",
   "metadata": {},
   "source": [
    "##### 3) extend()"
   ]
  },
  {
   "cell_type": "code",
   "execution_count": null,
   "id": "e79859d0-177a-4e8c-a539-988989fcdaee",
   "metadata": {},
   "outputs": [],
   "source": [
    "fruits = [ '사과', '바나나' ]\n",
    "fruits.extend(['딸기', '망고'])\n",
    "print(fruits)"
   ]
  },
  {
   "cell_type": "code",
   "execution_count": null,
   "id": "dc1139ea-0e31-4213-83e6-6447d8932294",
   "metadata": {},
   "outputs": [],
   "source": [
    "# append()와 비교하기\n",
    "fruits = [ '사과', '바나나' ]\n",
    "fruits.append(['딸기', '망고'])\n",
    "print(fruits)"
   ]
  },
  {
   "cell_type": "code",
   "execution_count": null,
   "id": "7221e8dd-a4d1-4948-9aca-28580a101094",
   "metadata": {},
   "outputs": [],
   "source": [
    "fruits = [ '사과', '바나나' ]\n",
    "fruits.extend('3')\n",
    "fruits.extend('100')\n",
    "fruits.extend('파인애플')\n",
    "print(fruits)"
   ]
  },
  {
   "cell_type": "markdown",
   "id": "ee217bdf-01b2-4486-94d8-04a543518fb4",
   "metadata": {},
   "source": [
    "##### 4) remove()"
   ]
  },
  {
   "cell_type": "code",
   "execution_count": null,
   "id": "508ab64c-08ea-4027-a8cf-6973d567d2a7",
   "metadata": {},
   "outputs": [],
   "source": [
    "fruits = [ '사과', '바나나' ]\n",
    "fruits.remove('사과')\n",
    "print(fruits)"
   ]
  },
  {
   "cell_type": "markdown",
   "id": "62d09e76-f824-418a-a013-844a4f3c8ac1",
   "metadata": {},
   "source": [
    "##### 5) pop()"
   ]
  },
  {
   "cell_type": "code",
   "execution_count": null,
   "id": "1bc745f9-dea7-48a4-80da-d8e925aa8d8f",
   "metadata": {},
   "outputs": [],
   "source": [
    "fruits = [ '사과', '바나나' ]\n",
    "pop1 = fruits.pop()\n",
    "print(pop1)\n",
    "print(fruits)"
   ]
  },
  {
   "cell_type": "markdown",
   "id": "6bd050ca-6417-4cbd-bc1e-3151e1ae0105",
   "metadata": {},
   "source": [
    "##### 6) index()"
   ]
  },
  {
   "cell_type": "code",
   "execution_count": null,
   "id": "6fdc0c56-410b-49e8-85e8-5c8ba8d0897d",
   "metadata": {},
   "outputs": [],
   "source": [
    "fruits = [ '사과', '바나나' ]\n",
    "idx = fruits.index('사과')\n",
    "print(idx)"
   ]
  },
  {
   "cell_type": "markdown",
   "id": "33c9e2c2-9446-40a4-8ec0-c2b1f3b6f670",
   "metadata": {},
   "source": [
    "##### 7) count()"
   ]
  },
  {
   "cell_type": "code",
   "execution_count": null,
   "id": "157215df-1123-46e2-97a3-18030a99e01c",
   "metadata": {},
   "outputs": [],
   "source": [
    "fruits = [ '사과', '바나나', '사과', '사과', '바나나' ]\n",
    "cnt = fruits.count('사과')\n",
    "print(cnt)"
   ]
  },
  {
   "cell_type": "markdown",
   "id": "692565f2-e3f1-4a22-839c-49250b05a4a1",
   "metadata": {},
   "source": [
    "##### 8) sort()"
   ]
  },
  {
   "cell_type": "code",
   "execution_count": null,
   "id": "577c0bd9-c8dc-4f49-a834-2a1cf9212fd4",
   "metadata": {},
   "outputs": [],
   "source": [
    "fruits = [ '사과', '바나나', '파인애플', '딸기' ]\n",
    "fruits.sort()\n",
    "print(fruits)"
   ]
  },
  {
   "cell_type": "code",
   "execution_count": null,
   "id": "9a1fbd93-84ea-465b-ae3b-b192b62a6ab9",
   "metadata": {},
   "outputs": [],
   "source": [
    "# 역순 정렬하기\n",
    "fruits = [ '사과', '바나나', '파인애플', '딸기' ]\n",
    "fruits.sort(key=len, reverse=True)\n",
    "print(fruits)"
   ]
  },
  {
   "cell_type": "markdown",
   "id": "ee54051f-e969-402b-8f41-0262ba685e99",
   "metadata": {},
   "source": [
    "##### 9) reverse()"
   ]
  },
  {
   "cell_type": "code",
   "execution_count": null,
   "id": "8947ceb1-919d-4c1e-bfe2-1d37336b9e23",
   "metadata": {},
   "outputs": [],
   "source": [
    "fruits = [ '사과', '바나나', '파인애플', '딸기' ]\n",
    "fruits.reverse()\n",
    "print(fruits)"
   ]
  },
  {
   "cell_type": "markdown",
   "id": "bce7933b-2a31-4cff-9c25-f1d0e51c3dd0",
   "metadata": {},
   "source": [
    "##### 10) clear()"
   ]
  },
  {
   "cell_type": "code",
   "execution_count": null,
   "id": "f036b764-a6f9-4192-9adb-e89a3348f647",
   "metadata": {},
   "outputs": [],
   "source": [
    "fruits = [ '사과', '바나나', '파인애플', '딸기' ]\n",
    "fruits.clear()\n",
    "print(fruits)"
   ]
  },
  {
   "cell_type": "markdown",
   "id": "fb099a0e-5740-48f0-aa44-3916c82de10b",
   "metadata": {},
   "source": [
    "### 5. 튜플(tuple)"
   ]
  },
  {
   "cell_type": "code",
   "execution_count": null,
   "id": "7c00e2af-375a-4fc2-bf24-6a48106b6f6b",
   "metadata": {},
   "outputs": [],
   "source": [
    "tuple1 = (1, 2, 3, 4)\n",
    "print(tuple1)\n",
    "\n",
    "tuple2 = 3, 4, 5, 6\n",
    "print(tuple2)"
   ]
  },
  {
   "cell_type": "code",
   "execution_count": null,
   "id": "df70823c-7c75-4b75-9ac1-764848e97900",
   "metadata": {},
   "outputs": [],
   "source": [
    "# 요소가 하나인 튜플 생성하\n",
    "tup1 = (1)\n",
    "print(tup1)\n",
    "\n",
    "tup2 = (1,)\n",
    "print(tup2)"
   ]
  },
  {
   "cell_type": "markdown",
   "id": "33e6323a-0181-49a1-83fe-7b7253cbc65a",
   "metadata": {},
   "source": [
    "#### 튜플 인덱싱과 슬라이싱"
   ]
  },
  {
   "cell_type": "code",
   "execution_count": null,
   "id": "b2422e72-32c6-4aef-8497-7c3f68209bfc",
   "metadata": {},
   "outputs": [],
   "source": [
    "tuple1 = (1, 2, 3, 4)\n",
    "\n",
    "print(tuple1[2]) # 튜플 인덱싱\n",
    "print(tuple1[:2]) # 튜플 슬라이싱"
   ]
  },
  {
   "cell_type": "markdown",
   "id": "7f7a4841-f566-410d-9c86-e1e2471438cc",
   "metadata": {},
   "source": [
    "#### 튜플 메서드\n",
    "##### 1) index()"
   ]
  },
  {
   "cell_type": "code",
   "execution_count": null,
   "id": "4cc8ada5-26a9-4798-b922-2908818dae54",
   "metadata": {},
   "outputs": [],
   "source": [
    "t = (1, 2, 3, 2, 4, 5)\n",
    "print(t.index(2))  "
   ]
  },
  {
   "cell_type": "markdown",
   "id": "20dada5c-f7f0-4adf-ae5c-5a65135dc94d",
   "metadata": {},
   "source": [
    "##### 2) count()"
   ]
  },
  {
   "cell_type": "code",
   "execution_count": null,
   "id": "139813f2-cafb-4285-8a9f-e41b5ead6451",
   "metadata": {},
   "outputs": [],
   "source": [
    "t = (1, 2, 3, 2, 4, 5)\n",
    "print(t.count(2))  "
   ]
  },
  {
   "cell_type": "markdown",
   "id": "20f1fcee-1b19-457b-a57d-54347e845bef",
   "metadata": {},
   "source": [
    "### 6. 세트(set)"
   ]
  },
  {
   "cell_type": "code",
   "execution_count": null,
   "id": "479c315b-ed77-46e5-b8b0-e15ae85860d2",
   "metadata": {},
   "outputs": [],
   "source": [
    "fruits = {\"사과\", \"바나나\", \"딸기\", \"사과\"}\r\n",
    "print(fruits)"
   ]
  },
  {
   "cell_type": "markdown",
   "id": "d2e95d66-7c09-4402-936a-19cbcdc8d95b",
   "metadata": {},
   "source": [
    "### 7. 딕셔너리(dictionary)"
   ]
  },
  {
   "cell_type": "code",
   "execution_count": null,
   "id": "00e1f74f-f30a-42c1-9419-a5b3bc0756a0",
   "metadata": {},
   "outputs": [],
   "source": [
    "person = { \"name\": \"한솔\", \"age\": 29,  \"city\": \"서울\" }\n",
    "type(person)"
   ]
  },
  {
   "cell_type": "code",
   "execution_count": null,
   "id": "b5af633a-2fa4-4203-a4f3-b39ec3423f00",
   "metadata": {},
   "outputs": [],
   "source": [
    "person = dict(name = \"한솔\", age = 29,  city = \"서울\" )\n",
    "print(person)"
   ]
  },
  {
   "cell_type": "code",
   "execution_count": null,
   "id": "d8c9cfb7-f655-4f07-a853-01e83a856306",
   "metadata": {},
   "outputs": [],
   "source": [
    "# 딕셔너리 키 'age'에 대응하는 값 가져오기\n",
    "print(person[\"age\"])"
   ]
  },
  {
   "cell_type": "code",
   "execution_count": null,
   "id": "2237e2b0-7ac3-4d83-ad8a-903778e40fe5",
   "metadata": {},
   "outputs": [],
   "source": [
    "# 딕셔너리의 키-값 추가하기 & 값 변경하기\n",
    "person = { \"name\": \"한솔\", \"age\": 29,  \"city\": \"서울\" }\n",
    "\n",
    "person[\"age\"] = 30\n",
    "person[\"job\"] = \"의사\"\n",
    "\n",
    "print(person)"
   ]
  },
  {
   "cell_type": "code",
   "execution_count": null,
   "id": "e33bd469-9cad-41d2-acda-112fff70acbe",
   "metadata": {},
   "outputs": [],
   "source": [
    "# 키와 값의 쌍 삭제하기\n",
    "del person[\"job\"]"
   ]
  },
  {
   "cell_type": "code",
   "execution_count": null,
   "id": "49f2bba4-bb29-42a6-b0dd-a448dc2c2948",
   "metadata": {},
   "outputs": [],
   "source": [
    "# 특정 키 포함여부 확인하기\n",
    "person = { \"name\": \"한솔\", \"age\": 29,  \"city\": \"서울\" }\n",
    "\n",
    "print(\"job\" in person)"
   ]
  }
 ],
 "metadata": {
  "kernelspec": {
   "display_name": "Python 3 (ipykernel)",
   "language": "python",
   "name": "python3"
  },
  "language_info": {
   "codemirror_mode": {
    "name": "ipython",
    "version": 3
   },
   "file_extension": ".py",
   "mimetype": "text/x-python",
   "name": "python",
   "nbconvert_exporter": "python",
   "pygments_lexer": "ipython3",
   "version": "3.11.7"
  }
 },
 "nbformat": 4,
 "nbformat_minor": 5
}
