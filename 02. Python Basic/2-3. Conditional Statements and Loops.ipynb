{
 "cells": [
  {
   "cell_type": "markdown",
   "id": "6035c914-2427-4e6a-a60d-f84c64ca8ab9",
   "metadata": {},
   "source": [
    "# 02.3 조건문과 반복문\n",
    "## 조건문\n",
    "### 1) if문"
   ]
  },
  {
   "cell_type": "markdown",
   "id": "00a9ff18-93fe-4198-be2d-5f02643adfda",
   "metadata": {},
   "source": [
    "if문의 기본 구조\n",
    "\n",
    "if 조건 :  \n",
    "　조건이 참일 경우에 수행할 코드 블록"
   ]
  },
  {
   "cell_type": "code",
   "execution_count": null,
   "id": "783720ab-c428-4207-8377-e0ecebff1df6",
   "metadata": {},
   "outputs": [],
   "source": [
    "age = 4\n",
    "\n",
    "if age < 7:\n",
    "    print(\"어린이 가격이 적용됩니다.\")"
   ]
  },
  {
   "cell_type": "markdown",
   "id": "903428cc-eb9c-4939-8173-662d6372336a",
   "metadata": {},
   "source": [
    "### 2) elif와 else"
   ]
  },
  {
   "cell_type": "markdown",
   "id": "23d646ee-fbec-4280-aaf4-9f0b8c58b447",
   "metadata": {},
   "source": [
    "if 조건:  \n",
    "　조건이 참일 경우에 수행할 코드 블록\n",
    "\n",
    "\n",
    "else:  \n",
    "　조건이 거짓일 경우에 수행할 코드 블록"
   ]
  },
  {
   "cell_type": "markdown",
   "id": "85c8752c-578e-4765-97b2-035c77e832c0",
   "metadata": {},
   "source": [
    "#### 조건을 여러개 설정하기"
   ]
  },
  {
   "cell_type": "markdown",
   "id": "a472e5ff-fdb0-4d3b-9583-1a05f1efe2ce",
   "metadata": {},
   "source": [
    "if 조건1:  \n",
    "　조건1이 참일 경우에 수행할 코드 블록\n",
    "\n",
    "\n",
    "elif 조건2:  \n",
    "　조건1은 거짓이지만 조건2가 참일 경우 수행할 코드 블록\n",
    "\n",
    "\n",
    "elif 조건3:  \n",
    "　조건1과 조건2는 거짓이지만 조건3이 참일 경우 수행할 코드 블룩\n",
    "\n",
    "\n",
    "else:  \n",
    "　조건1과 조건2, 조건3 모두 거짓일 경우에 수행할 코드 블록"
   ]
  },
  {
   "cell_type": "code",
   "execution_count": null,
   "id": "b65638fc-802f-45f4-a020-cfeff5ad5d24",
   "metadata": {},
   "outputs": [],
   "source": [
    "age = 18\n",
    "\n",
    "if age < 7:\n",
    "    print(\"어린이 가격이 적용됩니다.\")\n",
    "elif 7 <= age < 20:\n",
    "    print(\"청소년 가격이 적용됩니다.\")\n",
    "else:\n",
    "    print(\"성인 가격이 적용됩니다.\")"
   ]
  },
  {
   "cell_type": "markdown",
   "id": "b6ce0396-84a3-4aba-8837-bd506c966727",
   "metadata": {},
   "source": [
    "#### 3) 중첩조건문"
   ]
  },
  {
   "cell_type": "code",
   "execution_count": null,
   "id": "618d6011-b474-4709-8628-b421e46ad506",
   "metadata": {},
   "outputs": [],
   "source": [
    "age = 1\n",
    "\n",
    "if age < 7:\n",
    "    if age < 3:\n",
    "      print(\"3세 미만은 무료입니다.\")\n",
    "    else:\n",
    "      print(\"어린이 가격이 적용됩니다.\")\n",
    "elif 7 <= age < 20:\n",
    "    print(\"청소년 가격이 적용됩니다.\")\n",
    "else:\n",
    "    print(\"성인 가격이 적용됩니다.\")"
   ]
  },
  {
   "cell_type": "markdown",
   "id": "6241193f-9f34-4437-92a6-3d88fa0cef6f",
   "metadata": {},
   "source": [
    "## 반복문\n",
    "### 1. for문"
   ]
  },
  {
   "cell_type": "markdown",
   "id": "45d9acea-fe7e-4505-a9cd-52f267c0c06f",
   "metadata": {},
   "source": [
    "for 변수 in 반복할 범위:  \n",
    "　반복해서 수행할 코드 블록"
   ]
  },
  {
   "cell_type": "code",
   "execution_count": null,
   "id": "fc633e2c-366a-4332-8471-0a5f5fc56a4c",
   "metadata": {},
   "outputs": [],
   "source": [
    "for i in range(5):\n",
    "  print(i)"
   ]
  },
  {
   "cell_type": "code",
   "execution_count": null,
   "id": "e1eb1520-4940-4b85-8891-92af1eb622f6",
   "metadata": {},
   "outputs": [],
   "source": [
    "fruits = ['사과', '바나나', '딸기']\n",
    "for fruit in fruits:\n",
    "  print(fruit)"
   ]
  },
  {
   "cell_type": "markdown",
   "id": "4f25ab48-db22-4775-a4b6-f35d886595c1",
   "metadata": {},
   "source": [
    "#### enumerate"
   ]
  },
  {
   "cell_type": "markdown",
   "id": "94f07c49-f054-434f-a9e1-33ffde65b4e1",
   "metadata": {},
   "source": [
    "for 인덱스 변수, 값 변수 in enumerate(리스트):  \n",
    "　반복해서 수행할 코드 블록"
   ]
  },
  {
   "cell_type": "code",
   "execution_count": null,
   "id": "d3e04507-0926-4a04-85eb-57a3ba3af602",
   "metadata": {},
   "outputs": [],
   "source": [
    "fruits = ['사과', '바나나', '딸기']\n",
    "for idx, fruit in enumerate(fruits):\n",
    "    print(idx, fruit)"
   ]
  },
  {
   "cell_type": "markdown",
   "id": "aa3a5a72-92f3-47da-bd88-8b57b0effdb3",
   "metadata": {},
   "source": [
    "#### zip"
   ]
  },
  {
   "cell_type": "markdown",
   "id": "8bc02e08-d886-42a4-921a-fb6f69b0b6aa",
   "metadata": {},
   "source": [
    "for 변수1, 변수2 zip(리스트1, 리스트2):  \n",
    "　반복해서 수행할 코드 블록  "
   ]
  },
  {
   "cell_type": "code",
   "execution_count": null,
   "id": "dc1139ea-0e31-4213-83e6-6447d8932294",
   "metadata": {},
   "outputs": [],
   "source": [
    "fruits = [\"사과\", \"바나나\", \"메론\"]\n",
    "colors = [\"빨강\", \"노랑\"]\n",
    "for fruit, color in zip(fruits, colors):\n",
    "    print(fruit, color)"
   ]
  },
  {
   "cell_type": "markdown",
   "id": "da4a7d42-e292-41a3-bca7-1fe4c80a8d80",
   "metadata": {},
   "source": [
    "### 인덱스 이용하기"
   ]
  },
  {
   "cell_type": "markdown",
   "id": "c012d954-eec8-4553-a4db-90394b240684",
   "metadata": {},
   "source": [
    "for 인덱스를 저장할 변수 in range(len(리스트1)):  \n",
    "　반복해서 수행할 코드 블록"
   ]
  },
  {
   "cell_type": "code",
   "execution_count": null,
   "id": "508ab64c-08ea-4027-a8cf-6973d567d2a7",
   "metadata": {},
   "outputs": [],
   "source": [
    "fruits = [\"사과\", \"바나나\", \"메론\"]\n",
    "colors = [\"빨강\", \"노랑\", \"초록\"]\n",
    "for i in range(len(fruits)):\n",
    "    print(fruits[i], colors[i])"
   ]
  },
  {
   "cell_type": "markdown",
   "id": "62d09e76-f824-418a-a013-844a4f3c8ac1",
   "metadata": {},
   "source": [
    "#### 이중 for문"
   ]
  },
  {
   "cell_type": "markdown",
   "id": "d56e7bdc-4b66-490a-a87a-3611fe6c995f",
   "metadata": {},
   "source": [
    "for 변수1 in 반복할 범위1:  \n",
    "　for 변수2 in 반복할 범위2:  \n",
    "　　반복해서 수행할 코드 블록"
   ]
  },
  {
   "cell_type": "code",
   "execution_count": null,
   "id": "6fdc0c56-410b-49e8-85e8-5c8ba8d0897d",
   "metadata": {},
   "outputs": [],
   "source": [
    "for i in range(2, 10):\n",
    "    for j in range(1, 10):\n",
    "        print(f\"{i} x {j} = {i*j}\")\n",
    "    print(\"----------\")"
   ]
  },
  {
   "cell_type": "markdown",
   "id": "33c9e2c2-9446-40a4-8ec0-c2b1f3b6f670",
   "metadata": {},
   "source": [
    "##### 컴프리헨션(Comprehension)"
   ]
  },
  {
   "cell_type": "markdown",
   "id": "3c75a6db-f2e9-40f7-bc9b-568702d19db8",
   "metadata": {},
   "source": [
    "[표현식 for 변수 in 반복가능한 객체(범위) if 조건]"
   ]
  },
  {
   "cell_type": "code",
   "execution_count": null,
   "id": "577c0bd9-c8dc-4f49-a834-2a1cf9212fd4",
   "metadata": {},
   "outputs": [],
   "source": [
    "numbers = [x for x in range(10)]\n",
    "print(numbers) "
   ]
  },
  {
   "cell_type": "code",
   "execution_count": null,
   "id": "9a1fbd93-84ea-465b-ae3b-b192b62a6ab9",
   "metadata": {},
   "outputs": [],
   "source": [
    "even_numbers = [x for x in range(10) if x % 2 == 0]\n",
    "print(even_numbers) "
   ]
  },
  {
   "cell_type": "code",
   "execution_count": null,
   "id": "8947ceb1-919d-4c1e-bfe2-1d37336b9e23",
   "metadata": {},
   "outputs": [],
   "source": [
    "squared_numbers = [x**2 for x in range(10)]\n",
    "print(squared_numbers)  "
   ]
  },
  {
   "cell_type": "markdown",
   "id": "bce7933b-2a31-4cff-9c25-f1d0e51c3dd0",
   "metadata": {},
   "source": [
    "### 2. while문"
   ]
  },
  {
   "cell_type": "markdown",
   "id": "ec0ef9f3-1058-43a4-88b5-d9a8f6831b5b",
   "metadata": {},
   "source": [
    "while 조건:  \n",
    "　반복을 수행할 코드 블록"
   ]
  },
  {
   "cell_type": "code",
   "execution_count": null,
   "id": "7c00e2af-375a-4fc2-bf24-6a48106b6f6b",
   "metadata": {},
   "outputs": [],
   "source": [
    "count = 0\n",
    "while count < 5:\n",
    "    print(count)\n",
    "    count = count + 1"
   ]
  },
  {
   "cell_type": "markdown",
   "id": "33e6323a-0181-49a1-83fe-7b7253cbc65a",
   "metadata": {},
   "source": [
    "#### 무한 반복"
   ]
  },
  {
   "cell_type": "markdown",
   "id": "7f7a4841-f566-410d-9c86-e1e2471438cc",
   "metadata": {},
   "source": [
    "while True:  \n",
    "　　 print(\"무한 반복\")"
   ]
  },
  {
   "cell_type": "markdown",
   "id": "20dada5c-f7f0-4adf-ae5c-5a65135dc94d",
   "metadata": {},
   "source": [
    "##### break와 continue"
   ]
  },
  {
   "cell_type": "code",
   "execution_count": null,
   "id": "139813f2-cafb-4285-8a9f-e41b5ead6451",
   "metadata": {},
   "outputs": [],
   "source": [
    "for i in range(10):\n",
    "    if i == 3:\n",
    "        continue \n",
    "    if i == 7:\n",
    "        break \n",
    "    print(i)"
   ]
  }
 ],
 "metadata": {
  "kernelspec": {
   "display_name": "Python 3 (ipykernel)",
   "language": "python",
   "name": "python3"
  },
  "language_info": {
   "codemirror_mode": {
    "name": "ipython",
    "version": 3
   },
   "file_extension": ".py",
   "mimetype": "text/x-python",
   "name": "python",
   "nbconvert_exporter": "python",
   "pygments_lexer": "ipython3",
   "version": "3.11.7"
  }
 },
 "nbformat": 4,
 "nbformat_minor": 5
}
