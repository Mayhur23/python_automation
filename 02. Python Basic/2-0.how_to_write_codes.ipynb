{
 "cells": [
  {
   "cell_type": "markdown",
   "id": "6035c914-2427-4e6a-a60d-f84c64ca8ab9",
   "metadata": {},
   "source": [
    "# 02.1 기본 작성법\n",
    "## 주석"
   ]
  },
  {
   "cell_type": "code",
   "execution_count": 1,
   "id": "c37dba3a-f436-4bc8-bb54-8c686f640b04",
   "metadata": {},
   "outputs": [
    {
     "name": "stdout",
     "output_type": "stream",
     "text": [
      "결과: 15\n"
     ]
    }
   ],
   "source": [
    "# 이것은 주석입니다. 프로그램 실행에 영향을 주지 않습니다.\n",
    "# 아래 코드는 두 정수를 더하는 예시입니다.\n",
    "\n",
    "x = 5  # 변수 x에 정수 값 5를 할당합니다.\n",
    "y = 10  # 변수 y에 정수 값 10을 할당합니다.\n",
    "result = x + y  # x와 y를 더한 값을 result 변수에 할당합니다.\n",
    "\n",
    "print(\"결과:\", result)  # 결과를 출력합니다."
   ]
  },
  {
   "cell_type": "code",
   "execution_count": 2,
   "id": "783720ab-c428-4207-8377-e0ecebff1df6",
   "metadata": {},
   "outputs": [
    {
     "name": "stdout",
     "output_type": "stream",
     "text": [
      "주석 이후의 코드\n"
     ]
    }
   ],
   "source": [
    "'''\n",
    "이 부분은 \n",
    "여러 줄 주석입니다.\n",
    "print(\"주석 내의 코드\")  # 이 코드는 주석 처리됩니다.\n",
    "'''\n",
    "print(\"주석 이후의 코드\")  # 주석이 끝난 이후의 코드입니다."
   ]
  },
  {
   "cell_type": "markdown",
   "id": "fb099a0e-5740-48f0-aa44-3916c82de10b",
   "metadata": {},
   "source": [
    "## 한 행에 여러 문장 작성하기"
   ]
  },
  {
   "cell_type": "code",
   "execution_count": 3,
   "id": "df70823c-7c75-4b75-9ac1-764848e97900",
   "metadata": {},
   "outputs": [],
   "source": [
    "x = 1; y = 2; z = x + y"
   ]
  },
  {
   "cell_type": "markdown",
   "id": "db0c9b7a-c51c-4c16-a62c-8ac677d5d93a",
   "metadata": {},
   "source": [
    "변수 = 값1 + \\\n",
    "       값2 + \\\n",
    "       값3"
   ]
  },
  {
   "cell_type": "markdown",
   "id": "7f7a4841-f566-410d-9c86-e1e2471438cc",
   "metadata": {},
   "source": [
    "변수 = (값1 +\n",
    "       값2 +\n",
    "       값3)"
   ]
  },
  {
   "cell_type": "markdown",
   "id": "7cc9417a-bf7e-4486-9aaa-3c78c58a30a6",
   "metadata": {},
   "source": [
    "## 들여쓰기"
   ]
  },
  {
   "cell_type": "markdown",
   "id": "274e464b-aff5-4d78-aee2-b08c720d4fbb",
   "metadata": {},
   "source": [
    "if 조건:\n",
    "    # 조건이 참일 경우 실행되는 코드 블록\n",
    "    문장1\n",
    "    문장2\n",
    "    문장3\n",
    "# if문 블록 종료\n",
    "다음 코드..."
   ]
  }
 ],
 "metadata": {
  "kernelspec": {
   "display_name": "Python 3 (ipykernel)",
   "language": "python",
   "name": "python3"
  },
  "language_info": {
   "codemirror_mode": {
    "name": "ipython",
    "version": 3
   },
   "file_extension": ".py",
   "mimetype": "text/x-python",
   "name": "python",
   "nbconvert_exporter": "python",
   "pygments_lexer": "ipython3",
   "version": "3.11.7"
  }
 },
 "nbformat": 4,
 "nbformat_minor": 5
}
