{
 "cells": [
  {
   "cell_type": "markdown",
   "id": "6035c914-2427-4e6a-a60d-f84c64ca8ab9",
   "metadata": {},
   "source": [
    "# 02.5 모듈, 패키지, 라이브러리\n",
    "### 모듈"
   ]
  },
  {
   "cell_type": "markdown",
   "id": "1819bd34-6815-4062-8572-456c7c5af1b2",
   "metadata": {},
   "source": [
    "함수 정의하기"
   ]
  },
  {
   "cell_type": "markdown",
   "id": "7082f3f7-a72c-49ae-a5f1-0a0cf4de10f9",
   "metadata": {},
   "source": [
    "def 함수이름(매개변수1, 매개변수2, ...):\n",
    "  코드 블록\n",
    "  return 반환값"
   ]
  },
  {
   "cell_type": "markdown",
   "id": "b856b08e-a22d-4ac0-ae03-da49309bc26c",
   "metadata": {},
   "source": [
    "함수 호출하기"
   ]
  },
  {
   "cell_type": "markdown",
   "id": "5c49ac42-c0c1-4f41-be6e-cad0c8937f57",
   "metadata": {},
   "source": [
    "함수명(인자1, 인자2, 인자3, ...)"
   ]
  },
  {
   "cell_type": "code",
   "execution_count": null,
   "id": "824219fb-0768-49fe-a365-9e7ed3446a6e",
   "metadata": {},
   "outputs": [],
   "source": [
    "def add(a, b):\n",
    "    result = a + b\n",
    "    return result\n",
    "\n",
    "sum_result = add(10, 20)  # 함수 호출\n",
    "print(sum_result)  "
   ]
  },
  {
   "cell_type": "code",
   "execution_count": null,
   "id": "b65638fc-802f-45f4-a020-cfeff5ad5d24",
   "metadata": {},
   "outputs": [],
   "source": [
    "def calculate(x, y):\n",
    "    sum_val = x + y\n",
    "    diff_val = x - y\n",
    "    return sum_val, diff_val\n",
    "\n",
    "result = calculate(10, 5)\n",
    "print(result)"
   ]
  },
  {
   "cell_type": "code",
   "execution_count": null,
   "id": "2288897d-4b7c-4d68-ba1d-fad804958830",
   "metadata": {},
   "outputs": [],
   "source": [
    "sum_val, diff_val = calculate(10, 5)\n",
    "print(sum_val)  \n",
    "print(diff_val)  "
   ]
  },
  {
   "cell_type": "markdown",
   "id": "bc451ed4-a22b-4e08-aa56-ceb9e90aced8",
   "metadata": {},
   "source": [
    "#### 기본 매개변수"
   ]
  },
  {
   "cell_type": "markdown",
   "id": "3586f7b0-7f8a-42fe-84b9-631a8f8188d8",
   "metadata": {},
   "source": [
    "def 함수이름(매개변수1=기본값1, 매개변수2=기본값2, ...):  \n",
    "　코드 블록  \n",
    "　return 반환값"
   ]
  },
  {
   "cell_type": "code",
   "execution_count": null,
   "id": "b3b4594e-1c94-4555-ba33-7fa0810d9ff3",
   "metadata": {},
   "outputs": [],
   "source": [
    "def example(x, y=5, z=7):\n",
    "    print(x, y, z)\n",
    "\n",
    "example(10, z=6) "
   ]
  },
  {
   "cell_type": "markdown",
   "id": "7b8bb26c-a462-4b6f-aac8-4af7e787274e",
   "metadata": {},
   "source": [
    "#### 지역변수와 전역변수"
   ]
  },
  {
   "cell_type": "code",
   "execution_count": null,
   "id": "fc633e2c-366a-4332-8471-0a5f5fc56a4c",
   "metadata": {},
   "outputs": [],
   "source": [
    "x = 10  # 전역변수\n",
    "\n",
    "def my_function():  \n",
    "    y = 5   # 지역변수\n",
    "    print(\"지역변수 y =\", y)\n",
    "    print(\"전역변수 x =\", x)\n",
    "\n",
    "my_function()\n",
    "print(y) "
   ]
  },
  {
   "cell_type": "code",
   "execution_count": null,
   "id": "e1eb1520-4940-4b85-8891-92af1eb622f6",
   "metadata": {},
   "outputs": [],
   "source": [
    "x = 10\n",
    "y = 5\n",
    "\n",
    "def update_x():\n",
    "    global x\n",
    "    x = 20\n",
    "    y = 20\n",
    "    print(\"함수 안에서 호출한 x와 y값:\", x , y)\n",
    "\n",
    "update_x()\n",
    "print(\"함수 밖에서 호출한 x와 y값:\", x , y)"
   ]
  },
  {
   "cell_type": "markdown",
   "id": "4f25ab48-db22-4775-a4b6-f35d886595c1",
   "metadata": {},
   "source": [
    "#### 내장함수"
   ]
  },
  {
   "cell_type": "code",
   "execution_count": null,
   "id": "e75efcc6-0ef9-497b-945b-72fcd07c4ec5",
   "metadata": {},
   "outputs": [],
   "source": [
    "# list()\n",
    "lst = list(\"hello\") \n",
    "print(lst)"
   ]
  },
  {
   "cell_type": "code",
   "execution_count": null,
   "id": "d3e04507-0926-4a04-85eb-57a3ba3af602",
   "metadata": {},
   "outputs": [],
   "source": [
    "# set()\n",
    "set([4, 1, 2, 2, 3, 1])"
   ]
  },
  {
   "cell_type": "code",
   "execution_count": null,
   "id": "e79859d0-177a-4e8c-a539-988989fcdaee",
   "metadata": {},
   "outputs": [],
   "source": [
    "# sum()\n",
    "numbers = [1, 2, 3, 4, 5]\n",
    "total_num = sum(numbers, 10)\n",
    "print(total_num)"
   ]
  },
  {
   "cell_type": "code",
   "execution_count": null,
   "id": "1ab5248b-9fea-437f-8076-23fc8f07e88e",
   "metadata": {},
   "outputs": [],
   "source": [
    "# input()\n",
    "word = input()\n",
    "print(f\"입력한 문자는 {word}입니다.\")"
   ]
  },
  {
   "cell_type": "code",
   "execution_count": null,
   "id": "7221e8dd-a4d1-4948-9aca-28580a101094",
   "metadata": {},
   "outputs": [],
   "source": [
    "word = input(\"원하는 단어를 입력하세요: \")\n",
    "print(f\"입력한 문자는 {word}입니다.\")"
   ]
  },
  {
   "cell_type": "code",
   "execution_count": null,
   "id": "508ab64c-08ea-4027-a8cf-6973d567d2a7",
   "metadata": {},
   "outputs": [],
   "source": [
    "age = input(\"현재 나이를 입력하세요: \")\n",
    "age = int(age)\n",
    "print(f\"내년 당신의 나이는 {age + 1}세 입니다.\")"
   ]
  },
  {
   "cell_type": "markdown",
   "id": "62d09e76-f824-418a-a013-844a4f3c8ac1",
   "metadata": {},
   "source": [
    "### 클래스"
   ]
  },
  {
   "cell_type": "markdown",
   "id": "74eaf4f8-4467-4c5a-849e-57af2948c2c9",
   "metadata": {},
   "source": [
    "#### 1) 클래스 선언하기"
   ]
  },
  {
   "cell_type": "markdown",
   "id": "d9184b31-f803-40e7-9ff7-d23da7f18414",
   "metadata": {},
   "source": [
    "class 클래스명():  \n",
    "　　# 클래스 변수 (선택적)  \n",
    "　　변수명 = 값  \n",
    "  \n",
    "　　# 초기화 메서드 (생성자, 선택적)  \n",
    "　　def __init__(self, 매개변수1, 매개변수2, ...):  \n",
    "　　　　코드 블록  \n",
    "  \n",
    "　　# 메서드 (선택적)  \n",
    "　　def 메서드명(self, 매개변수1, 매개변수2, ...):  \n",
    "　　　　코드 블록\n",
    "  \n",
    "　　..."
   ]
  },
  {
   "cell_type": "code",
   "execution_count": null,
   "id": "6fdc0c56-410b-49e8-85e8-5c8ba8d0897d",
   "metadata": {},
   "outputs": [],
   "source": [
    "class Car:\n",
    "    # 클래스 변수\n",
    "    total_cars = 0  # 전체 생성된 자동차의 수를 저장하는 클래스 변수\n",
    "\n",
    "    def __init__(self, brand, model):  # 초기화 함수\n",
    "        # 인스턴스 변수\n",
    "        self.brand = brand  # 자동차의 브랜드 초기화\n",
    "        self.model = model  # 자동차의 모델명 초기화\n",
    "\n",
    "        # 새로운 자동차 객체가 생성될 때마다 전체_자동차_수를 1씩 증가\n",
    "        Car.total_cars = Car.total_cars + 1\n",
    "\n",
    "    # 메서드\n",
    "    def display_info(self):\n",
    "        \"\"\"자동차의 정보를 출력하는 메서드\"\"\"\n",
    "        return f\"이 자동차는 {self.brand} {self.model}입니다.\"\n"
   ]
  },
  {
   "cell_type": "markdown",
   "id": "33c9e2c2-9446-40a4-8ec0-c2b1f3b6f670",
   "metadata": {},
   "source": [
    "#### 2) 객체 생성 및 활용하기"
   ]
  },
  {
   "cell_type": "markdown",
   "id": "87fc85c1-d0c3-47f8-b98a-3a7109fc817f",
   "metadata": {},
   "source": [
    "객체명 = 클래스명(인자1, 인자2, ...)"
   ]
  },
  {
   "cell_type": "code",
   "execution_count": null,
   "id": "577c0bd9-c8dc-4f49-a834-2a1cf9212fd4",
   "metadata": {},
   "outputs": [],
   "source": [
    "# 클래스를 사용하여 객체 생성\n",
    "car1 = Car(\"현대\", \"소나타\")\n",
    "car2 = Car(\"기아\", \"K5\")\n",
    "\n",
    "# 객체의 메서드 호출\n",
    "print(car1.display_info()) \n",
    "print(car2.display_info())  \n",
    "\n",
    "# 클래스 변수에 접근\n",
    "print(Car.total_cars)"
   ]
  },
  {
   "cell_type": "markdown",
   "id": "ee54051f-e969-402b-8f41-0262ba685e99",
   "metadata": {},
   "source": [
    "#### 3) 클래스 상속"
   ]
  },
  {
   "cell_type": "markdown",
   "id": "2d8ed62d-5647-46d5-9d0c-6929cf0d0645",
   "metadata": {},
   "source": [
    "class 부모클래스:  \n",
    "　　...  \n",
    "  \n",
    "class 자식클래스(부모클래스):  \n",
    "　　...  "
   ]
  },
  {
   "cell_type": "code",
   "execution_count": null,
   "id": "f036b764-a6f9-4192-9adb-e89a3348f647",
   "metadata": {},
   "outputs": [],
   "source": [
    "# 부모 클래스로 사용할 Animal 클래스\n",
    "class Animal:\n",
    "    def __init__(self, name):\n",
    "        self.name = name\n",
    "\n",
    "    def make_sound(self):\n",
    "        print(\"동물의 소리\")\n",
    "\n",
    "# Animal 클래스를 상속받는 Dog 클래스\n",
    "class Dog(Animal):\n",
    "    def make_sound(self):  # Animal 클래스의 make_sound 메서드를 재정의\n",
    "        print(f\"{self.name}가 멍멍!\")\n",
    "\n",
    "# Animal 클래스를 상속받는 Cat 클래스\n",
    "class Cat(Animal):\n",
    "    pass  # 고양이 클래스는 Animal 클래스의 모든 메서드를 그대로 상속\n",
    "\n",
    "# 객체 생성 및 활용\n",
    "dog1 = Dog(\"맥스\")\n",
    "dog1.make_sound()\n",
    "\n",
    "cat1 = Cat(\"피치\")\n",
    "cat1.make_sound()\n"
   ]
  },
  {
   "cell_type": "markdown",
   "id": "fb099a0e-5740-48f0-aa44-3916c82de10b",
   "metadata": {},
   "source": [
    "#### object 클래스"
   ]
  },
  {
   "cell_type": "code",
   "execution_count": null,
   "id": "7c00e2af-375a-4fc2-bf24-6a48106b6f6b",
   "metadata": {},
   "outputs": [],
   "source": [
    "class Person:  # 암시적으로 object 클래스를 상속\n",
    "    def __init__(self, name):\n",
    "        self.name = name"
   ]
  },
  {
   "cell_type": "code",
   "execution_count": null,
   "id": "df70823c-7c75-4b75-9ac1-764848e97900",
   "metadata": {},
   "outputs": [],
   "source": [
    "class Person(object):  # 명시적으로 object 클래스를 상속\n",
    "    def __init__(self, name):\n",
    "        self.name = name"
   ]
  }
 ],
 "metadata": {
  "kernelspec": {
   "display_name": "Python 3 (ipykernel)",
   "language": "python",
   "name": "python3"
  },
  "language_info": {
   "codemirror_mode": {
    "name": "ipython",
    "version": 3
   },
   "file_extension": ".py",
   "mimetype": "text/x-python",
   "name": "python",
   "nbconvert_exporter": "python",
   "pygments_lexer": "ipython3",
   "version": "3.11.7"
  }
 },
 "nbformat": 4,
 "nbformat_minor": 5
}
