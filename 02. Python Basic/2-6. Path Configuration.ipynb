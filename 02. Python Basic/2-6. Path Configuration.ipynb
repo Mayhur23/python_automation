{
 "cells": [
  {
   "cell_type": "markdown",
   "id": "6035c914-2427-4e6a-a60d-f84c64ca8ab9",
   "metadata": {},
   "source": [
    "# 02.6 경로설정\n",
    "### 절대경로와 상대경로"
   ]
  },
  {
   "cell_type": "markdown",
   "id": "1819bd34-6815-4062-8572-456c7c5af1b2",
   "metadata": {},
   "source": [
    "#### 경로 문자열 처리"
   ]
  },
  {
   "cell_type": "markdown",
   "id": "2d57aefd-e20a-486a-b4f8-b8efdaac2120",
   "metadata": {},
   "source": [
    "Raw 문자열 사용"
   ]
  },
  {
   "cell_type": "code",
   "execution_count": null,
   "id": "824219fb-0768-49fe-a365-9e7ed3446a6e",
   "metadata": {},
   "outputs": [],
   "source": [
    "path = r'C:\\Users\\UserName\\Documents\\example.txt'"
   ]
  },
  {
   "cell_type": "markdown",
   "id": "6f570469-6864-4ca3-a358-0e4774541bc5",
   "metadata": {},
   "source": [
    "백슬래시 두 번 사용"
   ]
  },
  {
   "cell_type": "code",
   "execution_count": null,
   "id": "2288897d-4b7c-4d68-ba1d-fad804958830",
   "metadata": {},
   "outputs": [],
   "source": [
    "path = 'C:\\\\Users\\\\UserName\\\\Documents\\\\example.txt'"
   ]
  },
  {
   "cell_type": "markdown",
   "id": "3586f7b0-7f8a-42fe-84b9-631a8f8188d8",
   "metadata": {},
   "source": [
    "슬래시 사용"
   ]
  },
  {
   "cell_type": "code",
   "execution_count": null,
   "id": "b3b4594e-1c94-4555-ba33-7fa0810d9ff3",
   "metadata": {},
   "outputs": [],
   "source": [
    "path = 'C:/Users/UserName/Documents/example.txt'"
   ]
  },
  {
   "cell_type": "markdown",
   "id": "7b8bb26c-a462-4b6f-aac8-4af7e787274e",
   "metadata": {},
   "source": [
    "#### 1) os 모듈 사용"
   ]
  },
  {
   "cell_type": "code",
   "execution_count": null,
   "id": "fc633e2c-366a-4332-8471-0a5f5fc56a4c",
   "metadata": {},
   "outputs": [],
   "source": [
    "import os\n",
    "\n",
    "path1 = \"mydir\"\n",
    "path2 = \"myfile.txt\"\n",
    "\n",
    "# 디렉터리 구분 문자(\\)를 사용하여 경로 결합\n",
    "# 이스케이프 처리를 피하기 위해 역슬래시를 두 번 사용(\\\\)\n",
    "full_path = path1 + \"\\\\\" + path2\n",
    "\n",
    "print(full_path)"
   ]
  },
  {
   "cell_type": "code",
   "execution_count": null,
   "id": "e1eb1520-4940-4b85-8891-92af1eb622f6",
   "metadata": {},
   "outputs": [],
   "source": [
    "import os\n",
    "\n",
    "path1 = \"mydir\"\n",
    "path2 = \"myfile.txt\"\n",
    "\n",
    "# os.path.join()을 사용하여 경로 결합\n",
    "full_path = os.path.join(path1, path2)\n",
    "\n",
    "print(full_path)"
   ]
  },
  {
   "cell_type": "code",
   "execution_count": null,
   "id": "e75efcc6-0ef9-497b-945b-72fcd07c4ec5",
   "metadata": {},
   "outputs": [],
   "source": [
    "import os\n",
    "\n",
    "path = \"C:/Users/UserName/Documents/example.txt\"\n",
    "directory, filename = os.path.split(path)\n",
    "\n",
    "print(\"디렉터리:\", directory)\n",
    "print(\"파일명:\", filename)  "
   ]
  },
  {
   "cell_type": "markdown",
   "id": "20eca900-510a-463e-9bcd-1ae92e0b2c56",
   "metadata": {},
   "source": [
    "#### 2) pathlib 모듈"
   ]
  },
  {
   "cell_type": "code",
   "execution_count": null,
   "id": "e79859d0-177a-4e8c-a539-988989fcdaee",
   "metadata": {},
   "outputs": [],
   "source": [
    "from pathlib import Path\n",
    "\n",
    "p = Path('C:/Users/UserName/Documents/example.txt')"
   ]
  },
  {
   "cell_type": "code",
   "execution_count": null,
   "id": "1ab5248b-9fea-437f-8076-23fc8f07e88e",
   "metadata": {},
   "outputs": [],
   "source": [
    "from pathlib import Path\n",
    "\n",
    "# 기본 경로 설정\n",
    "base_path = Path('C:/Users/UserName/')\n",
    "\n",
    "# joinpath를 사용해 서브 디렉토리와 파일을 추가\n",
    "full_path = base_path.joinpath('Documents', 'example.txt')\n",
    "\n",
    "print(full_path)"
   ]
  }
 ],
 "metadata": {
  "kernelspec": {
   "display_name": "Python 3 (ipykernel)",
   "language": "python",
   "name": "python3"
  },
  "language_info": {
   "codemirror_mode": {
    "name": "ipython",
    "version": 3
   },
   "file_extension": ".py",
   "mimetype": "text/x-python",
   "name": "python",
   "nbconvert_exporter": "python",
   "pygments_lexer": "ipython3",
   "version": "3.11.7"
  }
 },
 "nbformat": 4,
 "nbformat_minor": 5
}
