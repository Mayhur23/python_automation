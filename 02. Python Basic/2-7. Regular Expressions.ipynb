{
 "cells": [
  {
   "cell_type": "markdown",
   "id": "6035c914-2427-4e6a-a60d-f84c64ca8ab9",
   "metadata": {},
   "source": [
    "# 02.7 정규식(정규표현식)\n",
    "### 절대경로와 상대경로"
   ]
  },
  {
   "cell_type": "markdown",
   "id": "1819bd34-6815-4062-8572-456c7c5af1b2",
   "metadata": {},
   "source": [
    "'re'모듈을 활용한 정규식 작업"
   ]
  },
  {
   "cell_type": "code",
   "execution_count": null,
   "id": "824219fb-0768-49fe-a365-9e7ed3446a6e",
   "metadata": {},
   "outputs": [],
   "source": [
    "import re"
   ]
  },
  {
   "cell_type": "code",
   "execution_count": null,
   "id": "2288897d-4b7c-4d68-ba1d-fad804958830",
   "metadata": {},
   "outputs": [],
   "source": [
    "import re\n",
    "\n",
    "# 패턴 정의: 하나 이상의 숫자에 일치\n",
    "pattern = r\"\\d+\"\n",
    "# 검사할 문자열\n",
    "string = \"123abc\"\n",
    "\n",
    "# 문자열의 시작부터 패턴과 일치하는 부분을 찾기\n",
    "result = re.match(pattern, string)\n",
    "\n",
    "# 결과가 있으면 일치하는 문자열을 출력\n",
    "if result:\n",
    "    print(\"일치: \", result.group())\n",
    "else:\n",
    "    print(\"불일치\")"
   ]
  },
  {
   "cell_type": "markdown",
   "id": "3586f7b0-7f8a-42fe-84b9-631a8f8188d8",
   "metadata": {},
   "source": [
    "re.search()"
   ]
  },
  {
   "cell_type": "code",
   "execution_count": null,
   "id": "b3b4594e-1c94-4555-ba33-7fa0810d9ff3",
   "metadata": {},
   "outputs": [],
   "source": [
    "import re\n",
    "\n",
    "# 패턴 정의: 하나 이상의 숫자에 일치\n",
    "pattern = r\"\\d+\"\n",
    "# 검사할 문자열\n",
    "string = \"abc123def456\"\n",
    "\n",
    "# 문자열에서 패턴과 일치하는 첫 번째 부분을 찾기\n",
    "result = re.search(pattern, string)\n",
    "\n",
    "# 결과가 있으면 일치하는 문자열을 출력\n",
    "if result:\n",
    "    print(\"일치: \", result.group())\n",
    "else:\n",
    "    print(\"불일치\")"
   ]
  },
  {
   "cell_type": "markdown",
   "id": "7b8bb26c-a462-4b6f-aac8-4af7e787274e",
   "metadata": {},
   "source": [
    "re.findall()"
   ]
  },
  {
   "cell_type": "code",
   "execution_count": null,
   "id": "fc633e2c-366a-4332-8471-0a5f5fc56a4c",
   "metadata": {},
   "outputs": [],
   "source": [
    "import re\n",
    "\n",
    "# 패턴 정의: 하나 이상의 숫자에 일치\n",
    "pattern = r\"\\d+\"\n",
    "# 검사할 문자열\n",
    "string = \"abc123def456\"\n",
    "\n",
    "# 문자열에서 패턴과 일치하는 모든 부분을 찾아 리스트로 반환\n",
    "result = re.findall(pattern, string)\n",
    "print(\"일치: \", result)"
   ]
  },
  {
   "cell_type": "markdown",
   "id": "3b2aeac3-1530-43d0-b7d2-4e55a0b7a259",
   "metadata": {},
   "source": [
    "re.sub()"
   ]
  },
  {
   "cell_type": "code",
   "execution_count": null,
   "id": "e75efcc6-0ef9-497b-945b-72fcd07c4ec5",
   "metadata": {},
   "outputs": [],
   "source": [
    "import re\n",
    "\n",
    "# 패턴 정의: 하나 이상의 숫자에 일치\n",
    "pattern = r\"\\d+\"\n",
    "# 검사할 문자열\n",
    "string = \"abc123def456\"\n",
    "# 대체할 문자열\n",
    "replacement = \"000\"\n",
    "\n",
    "# 문자열에서 패턴과 일치하는 부분을 다른 문자열로 대체\n",
    "result = re.sub(pattern, replacement, string)\n",
    "print(\"결과: \", result)"
   ]
  },
  {
   "cell_type": "markdown",
   "id": "20eca900-510a-463e-9bcd-1ae92e0b2c56",
   "metadata": {},
   "source": [
    "re.compile"
   ]
  },
  {
   "cell_type": "code",
   "execution_count": null,
   "id": "e79859d0-177a-4e8c-a539-988989fcdaee",
   "metadata": {},
   "outputs": [],
   "source": [
    "import re\n",
    "\n",
    "# 패턴 정의: 하나 이상의 숫자에 일치\n",
    "pattern = re.compile(r\"\\d+\")\n",
    "# 검사할 문자열\n",
    "string = \"abc123def456\"\n",
    "\n",
    "# 컴파일된 정규식 객체를 사용하여 search 메서드 호출\n",
    "result = pattern.search(string)\n",
    "\n",
    "# 결과가 있으면 일치하는 문자열을 출력\n",
    "if result:\n",
    "    print(\"일치: \", result.group())\n",
    "else:\n",
    "    print(\"불일치\")"
   ]
  }
 ],
 "metadata": {
  "kernelspec": {
   "display_name": "Python 3 (ipykernel)",
   "language": "python",
   "name": "python3"
  },
  "language_info": {
   "codemirror_mode": {
    "name": "ipython",
    "version": 3
   },
   "file_extension": ".py",
   "mimetype": "text/x-python",
   "name": "python",
   "nbconvert_exporter": "python",
   "pygments_lexer": "ipython3",
   "version": "3.11.7"
  }
 },
 "nbformat": 4,
 "nbformat_minor": 5
}
