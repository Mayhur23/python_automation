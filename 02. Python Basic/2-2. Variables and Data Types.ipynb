{
 "cells": [
  {
   "cell_type": "markdown",
   "id": "6035c914-2427-4e6a-a60d-f84c64ca8ab9",
   "metadata": {},
   "source": [
    "# 02.1 변수와 자료형\n",
    "## 변수"
   ]
  },
  {
   "cell_type": "code",
   "execution_count": null,
   "id": "c37dba3a-f436-4bc8-bb54-8c686f640b04",
   "metadata": {},
   "outputs": [],
   "source": [
    "# number_box라는 변수에 숫자 10을 할당\n",
    "number_box = 10"
   ]
  },
  {
   "cell_type": "code",
   "execution_count": null,
   "id": "783720ab-c428-4207-8377-e0ecebff1df6",
   "metadata": {},
   "outputs": [],
   "source": [
    "# 변수 여러개 만들기\n",
    "age = 25\n",
    "name = \"유재석\"\n",
    "is_student = True"
   ]
  },
  {
   "cell_type": "code",
   "execution_count": null,
   "id": "cdf984c4-3a87-46b4-8c6e-dc5cc260545d",
   "metadata": {},
   "outputs": [],
   "source": [
    "# 변수 출력하기\n",
    "print(\"이름:\", name)\n",
    "print(\"나이:\", age)\n",
    "print(\"학생 여부:\", is_student)"
   ]
  },
  {
   "cell_type": "code",
   "execution_count": null,
   "id": "1d5f74f2-35a3-496b-91c0-b8a26acfa840",
   "metadata": {},
   "outputs": [],
   "source": [
    "# 변수 age의 값 변경하기\n",
    "age = 30\n",
    "print(\"나이:\", age)"
   ]
  },
  {
   "cell_type": "markdown",
   "id": "fb099a0e-5740-48f0-aa44-3916c82de10b",
   "metadata": {},
   "source": [
    "## 자료형\n",
    "### 1. 숫자\n",
    "#### 1) 정수 (int)"
   ]
  },
  {
   "cell_type": "code",
   "execution_count": null,
   "id": "df70823c-7c75-4b75-9ac1-764848e97900",
   "metadata": {},
   "outputs": [],
   "source": [
    "x = 10  # x 변수에 정수 값 10을 할당"
   ]
  },
  {
   "cell_type": "code",
   "execution_count": null,
   "id": "a2999e87-011e-496b-9f67-ce1089f30953",
   "metadata": {},
   "outputs": [],
   "source": [
    "# 자료형 확\n",
    "type(x)"
   ]
  },
  {
   "cell_type": "markdown",
   "id": "db0c9b7a-c51c-4c16-a62c-8ac677d5d93a",
   "metadata": {},
   "source": [
    "#### 2) 실수(float)"
   ]
  },
  {
   "cell_type": "code",
   "execution_count": null,
   "id": "b2422e72-32c6-4aef-8497-7c3f68209bfc",
   "metadata": {},
   "outputs": [],
   "source": [
    "y = 3.14  # y 변수에 실수 값 3.14를 할당\n",
    "\n",
    "type(y)"
   ]
  },
  {
   "cell_type": "markdown",
   "id": "7f7a4841-f566-410d-9c86-e1e2471438cc",
   "metadata": {},
   "source": [
    "### 2. 문자열(str)"
   ]
  },
  {
   "cell_type": "code",
   "execution_count": null,
   "id": "4cc8ada5-26a9-4798-b922-2908818dae54",
   "metadata": {},
   "outputs": [],
   "source": [
    "name = \"유재석\"  # name 변수에 문자열 \"유재석\"을 할당\n",
    "\n",
    "type(name)"
   ]
  },
  {
   "cell_type": "code",
   "execution_count": null,
   "id": "a6463d45-4c12-40ed-9b4d-d1f70548fca6",
   "metadata": {},
   "outputs": [],
   "source": [
    "# 문자열에 따옴표가 포함되어 있는 경우\n",
    "print('\"안녕\"이라고 소녀가 말했다.')\n",
    "print(\"What's it?\")"
   ]
  },
  {
   "cell_type": "code",
   "execution_count": null,
   "id": "139813f2-cafb-4285-8a9f-e41b5ead6451",
   "metadata": {},
   "outputs": [],
   "source": [
    "# 이스케이프 코드(\\)로 문자열 안에 따옴표 표시하기\n",
    "print(\"\\\"안녕\\\"이라고 소녀가 말했다.\")"
   ]
  },
  {
   "cell_type": "code",
   "execution_count": null,
   "id": "e5a7fe41-2185-4fdc-87db-d4971c1374c7",
   "metadata": {},
   "outputs": [],
   "source": [
    "# 삼중따옴표 사용하\n",
    "string = '''\n",
    "\"안녕\"이라고 소녀가 말했다.\n",
    "'무슨 뜻이지?'\n",
    "소년은 마음 속으로 생각했다.\n",
    "'''\n",
    "\n",
    "print(string)"
   ]
  },
  {
   "cell_type": "markdown",
   "id": "f704282d-6713-449f-93a8-57f2a97ec673",
   "metadata": {},
   "source": [
    "#### 3. 불리언(Boolean) 또는 부울(Bool)"
   ]
  },
  {
   "cell_type": "code",
   "execution_count": null,
   "id": "cb880a82-abb5-4bda-bf23-cb677259353d",
   "metadata": {},
   "outputs": [],
   "source": [
    "is_valid = True  \n",
    "\n",
    "type(is_valid)"
   ]
  },
  {
   "cell_type": "code",
   "execution_count": null,
   "id": "00e1f74f-f30a-42c1-9419-a5b3bc0756a0",
   "metadata": {},
   "outputs": [],
   "source": [
    "x = 5\n",
    "y = 10\n",
    "z = 20\n",
    "\n",
    "result = (x < y or x > z) and (y == 10)\n",
    "print(result) "
   ]
  }
 ],
 "metadata": {
  "kernelspec": {
   "display_name": "Python 3 (ipykernel)",
   "language": "python",
   "name": "python3"
  },
  "language_info": {
   "codemirror_mode": {
    "name": "ipython",
    "version": 3
   },
   "file_extension": ".py",
   "mimetype": "text/x-python",
   "name": "python",
   "nbconvert_exporter": "python",
   "pygments_lexer": "ipython3",
   "version": "3.11.7"
  }
 },
 "nbformat": 4,
 "nbformat_minor": 5
}
