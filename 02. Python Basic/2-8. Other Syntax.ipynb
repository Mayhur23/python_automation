{
 "cells": [
  {
   "cell_type": "markdown",
   "id": "6035c914-2427-4e6a-a60d-f84c64ca8ab9",
   "metadata": {},
   "source": [
    "# 02.8 기타문법\n",
    "## 예외처리"
   ]
  },
  {
   "cell_type": "markdown",
   "id": "6a257c75-b756-4118-b7fa-a94ccc858329",
   "metadata": {},
   "source": [
    "try:  \n",
    "　원래 실행하려는 코드 블록\n",
    " \n",
    "except:  \n",
    "　예외 처리 코드 블록"
   ]
  },
  {
   "cell_type": "code",
   "execution_count": null,
   "id": "2288897d-4b7c-4d68-ba1d-fad804958830",
   "metadata": {},
   "outputs": [],
   "source": [
    "numbers = [1, 2, 3]\n",
    "\n",
    "try:\n",
    "    print(numbers[3])\n",
    "except:\n",
    "    print(\"해당 인덱스에 대한 요소가 리스트에 없습니다.\")"
   ]
  },
  {
   "cell_type": "code",
   "execution_count": null,
   "id": "b3b4594e-1c94-4555-ba33-7fa0810d9ff3",
   "metadata": {},
   "outputs": [],
   "source": [
    "try:\n",
    "    result = 10 / 0\n",
    "    print(result)\n",
    "except ZeroDivisionError:\n",
    "    print(\"0으로 나눌 수 없습니다.\")"
   ]
  },
  {
   "cell_type": "markdown",
   "id": "5cd1fd06-cbea-435b-8427-f733e1ce1747",
   "metadata": {},
   "source": [
    "try:  \n",
    "　원래 실행하려는 코드 블록\n",
    " \n",
    "except:  \n",
    "　예외 처리 코드 블록  \n",
    " \n",
    "finally:  \n",
    "　마지막으로 항상 수행하는 코드 블록"
   ]
  },
  {
   "cell_type": "code",
   "execution_count": null,
   "id": "e1eb1520-4940-4b85-8891-92af1eb622f6",
   "metadata": {},
   "outputs": [],
   "source": [
    "my_list = [1, 2, 3, 4, 5]\n",
    "\n",
    "try:\n",
    "    print(my_list[10])\n",
    "except IndexError:\n",
    "    print(\"해당 인덱스는 리스트 범위를 벗어났습니다.\")\n",
    "finally:\n",
    "    print(\"이 코드는 항상 실행됩니다.\")"
   ]
  },
  {
   "cell_type": "markdown",
   "id": "91d37475-47ee-418c-ab90-4baec6172b39",
   "metadata": {},
   "source": [
    "## 복합 대입 연산자"
   ]
  },
  {
   "cell_type": "code",
   "execution_count": null,
   "id": "c9a342f2-eb47-401c-ad7e-d43f73d0455c",
   "metadata": {},
   "outputs": [],
   "source": [
    "# 덧셈 복합 대입 연산자 (+=)\n",
    "x = 10\n",
    "x += 5  # x = x + 5와 동일\n",
    "print(x)  # 출력 결과: 15"
   ]
  },
  {
   "cell_type": "code",
   "execution_count": null,
   "id": "e79859d0-177a-4e8c-a539-988989fcdaee",
   "metadata": {},
   "outputs": [],
   "source": [
    "# 뺄셈 복합 대입 연산자 (-=)\n",
    "x = 10\n",
    "x -= 3  # x = x - 3과 동일\n",
    "print(x)  # 출력 결과: 7"
   ]
  },
  {
   "cell_type": "code",
   "execution_count": null,
   "id": "1ab5248b-9fea-437f-8076-23fc8f07e88e",
   "metadata": {},
   "outputs": [],
   "source": [
    "# 곱셈 복합 대입 연산자 (*=)\n",
    "x = 5\n",
    "x *= 2  # x = x * 2와 동일\n",
    "print(x)  # 출력 결과: 10"
   ]
  },
  {
   "cell_type": "code",
   "execution_count": null,
   "id": "eb45512e-6e93-4e26-83b4-2e00c3518d11",
   "metadata": {},
   "outputs": [],
   "source": [
    "# 나눗셈 복합 대입 연산자 (/=)\n",
    "x = 15\n",
    "x /= 3  # x = x / 3과 동일\n",
    "print(x)  # 출력 결과: 5.0 (나눗셈 결과는 실수로 표현됨)"
   ]
  },
  {
   "cell_type": "code",
   "execution_count": null,
   "id": "5ae75265-2f42-4487-a09e-a2c99f232664",
   "metadata": {},
   "outputs": [],
   "source": [
    "# 나머지 복합 대입 연산자 (%=)\n",
    "x = 10\n",
    "x %= 4  # x = x % 4와 동일\n",
    "print(x)  # 출력 결과: 2"
   ]
  }
 ],
 "metadata": {
  "kernelspec": {
   "display_name": "Python 3 (ipykernel)",
   "language": "python",
   "name": "python3"
  },
  "language_info": {
   "codemirror_mode": {
    "name": "ipython",
    "version": 3
   },
   "file_extension": ".py",
   "mimetype": "text/x-python",
   "name": "python",
   "nbconvert_exporter": "python",
   "pygments_lexer": "ipython3",
   "version": "3.11.7"
  }
 },
 "nbformat": 4,
 "nbformat_minor": 5
}
