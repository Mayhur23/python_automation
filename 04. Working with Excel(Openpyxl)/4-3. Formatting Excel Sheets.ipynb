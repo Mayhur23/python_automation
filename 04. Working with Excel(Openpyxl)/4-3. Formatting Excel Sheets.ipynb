{
 "cells": [
  {
   "cell_type": "markdown",
   "id": "6035c914-2427-4e6a-a60d-f84c64ca8ab9",
   "metadata": {},
   "source": [
    "# 04.3 엑셀 서식 설정하기\n",
    "## 글꼴과 셀 스타일 설정정"
   ]
  },
  {
   "cell_type": "code",
   "execution_count": null,
   "id": "6f93d04d-9f0c-4f51-8b68-5b8331dcfeeb",
   "metadata": {},
   "outputs": [],
   "source": [
    "### 글꼴 설정"
   ]
  },
  {
   "cell_type": "code",
   "execution_count": null,
   "id": "d0500c8a-f738-4092-89ee-b81ea09420df",
   "metadata": {},
   "outputs": [],
   "source": [
    "from openpyxl import Workbook\n",
    "from openpyxl.styles import Font\n",
    "\n",
    "wb = Workbook()\n",
    "ws = wb.active\n",
    "\n",
    "cell = ws['A1']\n",
    "cell.value = \"Hello World\"\n",
    "\n",
    "# 폰트 스타일 설정: 빨간색, 이탤릭체, 볼드체, 20포인트 사이즈로 설정\n",
    "cell.font = Font(color='FF0000', \n",
    "                 italic=True, \n",
    "                 bold=True, \n",
    "                 size=20)\n",
    "\n",
    "wb.save('엑셀 서식.xlsx')"
   ]
  },
  {
   "cell_type": "markdown",
   "id": "27ef160c-b472-41e5-9558-4e78778abb53",
   "metadata": {},
   "source": [
    "### 셀 서식 설정"
   ]
  },
  {
   "cell_type": "markdown",
   "id": "bc0920a5-6fcd-4cd5-a53f-ea464a29a898",
   "metadata": {},
   "source": [
    "### 1) 대괄호 '[ ]'를 사용하여 특정 시트 불러오기"
   ]
  },
  {
   "cell_type": "code",
   "execution_count": null,
   "id": "2d42780b-dd1f-4abe-a5d3-ab0aab8f6848",
   "metadata": {},
   "outputs": [],
   "source": [
    "from openpyxl import Workbook\n",
    "from openpyxl.styles import Font\n",
    "\n",
    "wb = Workbook()\n",
    "ws = wb.active\n",
    "\n",
    "cell = ws['A1']\n",
    "cell.value = \"Hello World\"\n",
    "\n",
    "# 폰트 스타일 설정: 빨간색, 이탤릭체, 볼드체, 20포인트 사이즈로 설정\n",
    "cell.font = Font(color='FF0000', \n",
    "                 italic=True, \n",
    "                 bold=True, \n",
    "                 size=20)\n",
    "\n",
    "\n",
    "# 셀 너비 설정 (A 열의 너비를 50으로 설정)\n",
    "ws.column_dimensions['A'].width = 50\n",
    "\n",
    "# 셀 높이 설정 (1 행의 높이를 50으로 설정)\n",
    "ws.row_dimensions[1].height = 50\n",
    "\n",
    "\n",
    "# 셀 배경값 설정 (노란색, 색상 코드 'FFFF00')\n",
    "from openpyxl.styles import PatternFill\n",
    "\n",
    "yellow_fill = PatternFill(start_color='FFFF00', end_color='FFFF00', fill_type='solid')\n",
    "cell.fill = yellow_fill\n",
    "\n",
    "\n",
    "# 셀 테두리 설정: 모든 사이드에 얇은 테두리 스타일 적용\n",
    "from openpyxl.styles import Border, Side\n",
    "\n",
    "thin_border = Border(left=Side(style='thin'), \n",
    "                     right=Side(style='thin'), \n",
    "                     top=Side(style='thin'), \n",
    "                     bottom=Side(style='thin'))\n",
    "\n",
    "cell.border = thin_border\n",
    "\n",
    "\n",
    "# 셀 정렬 설정: 셀 내용을 수평 및 수직 중앙 정렬\n",
    "from openpyxl.styles import Alignment\n",
    "\n",
    "cell.alignment = Alignment(horizontal='center', vertical='center')\n",
    "\n",
    "\n",
    "wb.save('엑셀 서식.xlsx')\n"
   ]
  },
  {
   "cell_type": "markdown",
   "id": "feefc5e5-16ea-492d-9249-175e8a81c6b3",
   "metadata": {},
   "source": [
    "## 표시 형식 설정"
   ]
  },
  {
   "cell_type": "code",
   "execution_count": null,
   "id": "c9a342f2-eb47-401c-ad7e-d43f73d0455c",
   "metadata": {},
   "outputs": [],
   "source": [
    "# 소수점 자릿수와 천 단위 구분 기호 서식 설정\n",
    "from openpyxl import Workbook\n",
    "from openpyxl.styles import Font\n",
    "\n",
    "wb = Workbook()\n",
    "ws = wb.active\n",
    "\n",
    "ws['A1'] = 1234567.890123\n",
    "\n",
    "# 천 단위 구분 기호와 소수점 자릿수 지정\n",
    "ws['A1'].number_format = '#,##0.00'\n",
    "\n",
    "wb.save('표시 형식 설정.xlsx')"
   ]
  },
  {
   "cell_type": "code",
   "execution_count": null,
   "id": "734f87ed-8e64-4f63-85e8-b99711c11957",
   "metadata": {},
   "outputs": [],
   "source": [
    "# 통화 기호와 퍼센트 서식 설정\n",
    "ws['D1'] = 1234567.89\n",
    "\n",
    "# 통화 기호와 천 단위 구분 단위 표시\n",
    "ws['D1'].number_format = '₩#,##0'\n",
    "\n",
    "wb.save('표시 형식 설정.xlsx')"
   ]
  },
  {
   "cell_type": "code",
   "execution_count": null,
   "id": "eb45512e-6e93-4e26-83b4-2e00c3518d11",
   "metadata": {},
   "outputs": [],
   "source": [
    "ws['B1'] = 0.12345\n",
    "\n",
    "# 퍼센트 형식으로 표시\n",
    "ws['B1'].number_format = '0.00%'\n",
    "\n",
    "wb.save('표시 형식 설정.xlsx')"
   ]
  },
  {
   "cell_type": "code",
   "execution_count": null,
   "id": "e4b99c1c-168f-4962-8ab6-5385ac453dcb",
   "metadata": {},
   "outputs": [],
   "source": [
    "# 날짜와 시간 서식 설정\n",
    "from datetime import datetime\n",
    "\n",
    "ws['C1'] = datetime(2023, 9, 7)\n",
    "\n",
    "# 날짜 서식 설정\n",
    "ws['C1'].number_format = 'MM-DD-YYYY'\n",
    "\n",
    "wb.save('표시 형식 설정.xlsx')"
   ]
  }
 ],
 "metadata": {
  "kernelspec": {
   "display_name": "Python 3 (ipykernel)",
   "language": "python",
   "name": "python3"
  },
  "language_info": {
   "codemirror_mode": {
    "name": "ipython",
    "version": 3
   },
   "file_extension": ".py",
   "mimetype": "text/x-python",
   "name": "python",
   "nbconvert_exporter": "python",
   "pygments_lexer": "ipython3",
   "version": "3.11.7"
  }
 },
 "nbformat": 4,
 "nbformat_minor": 5
}
