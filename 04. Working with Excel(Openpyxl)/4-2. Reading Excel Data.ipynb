{
 "cells": [
  {
   "cell_type": "markdown",
   "id": "6035c914-2427-4e6a-a60d-f84c64ca8ab9",
   "metadata": {},
   "source": [
    "# 04.2 엑셀 데이터 읽기\n",
    "## 생성된 엑셀 파일 불러오기"
   ]
  },
  {
   "cell_type": "code",
   "execution_count": null,
   "id": "d0500c8a-f738-4092-89ee-b81ea09420df",
   "metadata": {},
   "outputs": [],
   "source": [
    "# openpyxl라이브러리에서 load_workbook을 import \n",
    "from openpyxl import load_workbook\n",
    "\n",
    "# '월별구매고객리스트.xlsx' 엑셀 파일 불러오기\n",
    "wb = load_workbook(filename='월별구매고객리스트.xlsx')\n",
    "\n",
    "# 첫 번째 시트 불러오기\n",
    "ws = wb.active"
   ]
  },
  {
   "cell_type": "markdown",
   "id": "27ef160c-b472-41e5-9558-4e78778abb53",
   "metadata": {},
   "source": [
    "## 특정 시트 지정하여 불러오기"
   ]
  },
  {
   "cell_type": "markdown",
   "id": "bc0920a5-6fcd-4cd5-a53f-ea464a29a898",
   "metadata": {},
   "source": [
    "### 1) 대괄호 '[ ]'를 사용하여 특정 시트 불러오기"
   ]
  },
  {
   "cell_type": "code",
   "execution_count": null,
   "id": "2d42780b-dd1f-4abe-a5d3-ab0aab8f6848",
   "metadata": {},
   "outputs": [],
   "source": [
    "from openpyxl import load_workbook\n",
    "\n",
    "# 엑셀 파일 불러오기\n",
    "wb = load_workbook(filename='월별구매고객리스트.xlsx')\n",
    "\n",
    "# '10월' 시트 불러오기\n",
    "ws = wb['10월']\n",
    "\n",
    "# 'A1'셀의 값 가져오기\n",
    "ws['A1'].value"
   ]
  },
  {
   "cell_type": "markdown",
   "id": "feefc5e5-16ea-492d-9249-175e8a81c6b3",
   "metadata": {},
   "source": [
    "### 2) 'get_sheet_by_name()' 메서드로 특정시트 불러오기"
   ]
  },
  {
   "cell_type": "code",
   "execution_count": null,
   "id": "c9a342f2-eb47-401c-ad7e-d43f73d0455c",
   "metadata": {},
   "outputs": [],
   "source": [
    "# OpenPyXL의 유틸리티함수에서 get_column_letter와 column_index_from_string 함수 import\n",
    "from openpyxl.utils.cell import get_column_letter, column_index_from_string\n",
    "\n",
    "# 열 번호 16에 해당하는 엑셀 열 이름 얻기\n",
    "index = 16\n",
    "print('열 번호 16에 해당하는 엑셀 열 이름', get_column_letter(index))\n",
    "\n",
    "# 엑셀 열 이름 'AB'에 해당하는 열 번호 얻기\n",
    "print('열 이름 \"AB\"에 해당하는 열 번호', column_index_from_string('AB'))"
   ]
  },
  {
   "cell_type": "code",
   "execution_count": null,
   "id": "734f87ed-8e64-4f63-85e8-b99711c11957",
   "metadata": {},
   "outputs": [],
   "source": [
    "from openpyxl import load_workbook\n",
    "\n",
    "# 엑셀 파일 불러오기\n",
    "wb = load_workbook(filename='월별구매고객리스트.xlsx')\n",
    "\n",
    "# '10월' 시트 불러오기\n",
    "ws = wb.get_sheet_by_name('10월')\n",
    "\n",
    "# 'A1'셀의 값 가져오기\n",
    "ws['A1'].value"
   ]
  },
  {
   "cell_type": "code",
   "execution_count": null,
   "id": "eb45512e-6e93-4e26-83b4-2e00c3518d11",
   "metadata": {},
   "outputs": [],
   "source": [
    "# 전체 시트 목록 출력\n",
    "from openpyxl import load_workbook\n",
    "\n",
    "# 엑셀 파일 불러오기\n",
    "wb = load_workbook(filename='월별구매고객리스트.xlsx')\n",
    "\n",
    "# 시트 이름들을 가져오기\n",
    "sheet_names = wb.sheetnames\n",
    "\n",
    "# 시트 이름들 출력\n",
    "print(sheet_names)"
   ]
  },
  {
   "cell_type": "markdown",
   "id": "20f5daed-1c16-41fd-977f-d5f8cfd37139",
   "metadata": {},
   "source": [
    "## 시트 전체 데이터 가져오기"
   ]
  },
  {
   "cell_type": "code",
   "execution_count": null,
   "id": "201f61ab-8ea5-490e-8fb6-b682c803cb38",
   "metadata": {},
   "outputs": [],
   "source": [
    "from openpyxl import load_workbook\n",
    "\n",
    "# 엑셀 파일 불러오기\n",
    "wb = load_workbook(filename='월별구매고객리스트.xlsx')\n",
    "\n",
    "# '10월' 시트 불러오기\n",
    "ws = wb['10월']\n",
    "\n",
    "# 전체 데이터를 순회하며 읽기\n",
    "for row in ws.rows:\n",
    "    row_values = [cell.value for cell in row]\n",
    "    print(row_values)"
   ]
  },
  {
   "cell_type": "markdown",
   "id": "dc7747dd-7391-47a6-a538-3d59e791c956",
   "metadata": {},
   "source": [
    "## 특정 행을 기준으로 데이터 가져오기"
   ]
  },
  {
   "cell_type": "code",
   "execution_count": null,
   "id": "85cacdb7-1858-4a29-b443-60e9befdf153",
   "metadata": {},
   "outputs": [],
   "source": [
    "# rows()로 데이터 가져오기\n",
    "from openpyxl import load_workbook\n",
    "\n",
    "# 엑셀 파일 불러오기\n",
    "wb = load_workbook(filename='월별구매고객리스트.xlsx')\n",
    "\n",
    "# '10월' 시트 불러오기\n",
    "ws = wb['10월']\n",
    "\n",
    "# 첫번째와 두번째 행을 제외하고 나머지 행을 리스트로 변환\n",
    "new_rows = list(ws.rows)[2:]\n",
    "\n",
    "# 나머지 행을 순회하며 읽기\n",
    "for row in new_rows:\n",
    "    row_values = [cell.value for cell in row]\n",
    "    print(row_values)"
   ]
  },
  {
   "cell_type": "code",
   "execution_count": null,
   "id": "9401e5c0-5efa-4d1c-954f-47133f21f9e7",
   "metadata": {},
   "outputs": [],
   "source": [
    "# iter_rows로 데이터 가져오기\n",
    "from openpyxl import load_workbook\n",
    "\n",
    "# 엑셀 파일 불러오기\n",
    "wb = load_workbook(filename='월별구매고객리스트.xlsx')\n",
    "\n",
    "# '10월' 시트 불러오기\n",
    "ws = wb['10월']\n",
    "\n",
    "# 3번째 행부터 마지막 행까지를 순회하며 값을 읽기 (min_row =3)\n",
    "for row in ws.iter_rows(min_row=3, values_only=True):\n",
    "    print(row)"
   ]
  },
  {
   "cell_type": "markdown",
   "id": "0d1895e6-aaac-4f49-8d26-00a24e19b803",
   "metadata": {},
   "source": [
    "## 수식을 계산하여 데이터 가져오기"
   ]
  },
  {
   "cell_type": "code",
   "execution_count": null,
   "id": "deacf7c4-ae89-4593-a16d-5631e4dc66cd",
   "metadata": {},
   "outputs": [],
   "source": [
    "from openpyxl import load_workbook\n",
    "\n",
    "# 엑셀 파일 불러오기 (수식이 계산된 결과값을 가져오도록 인수 설정)\n",
    "wb = load_workbook(filename='월별구매고객리스트.xlsx', data_only = True)\n",
    "\n",
    "# '10월' 시트 불러오기\n",
    "ws = wb['10월']\n",
    "\n",
    "# 첫번째와 두번째 행을 제외하고 나머지 행을 리스트로 변환\n",
    "new_rows = list(ws.rows)[2:]\n",
    "\n",
    "# 나머지 행을 순회하며 읽기\n",
    "for row in new_rows:\n",
    "    row_values = [cell.value for cell in row]\n",
    "    print(row_values)"
   ]
  },
  {
   "cell_type": "markdown",
   "id": "ed864961-da1c-4edb-8f29-7aab772a885f",
   "metadata": {},
   "source": [
    "## 열을 지정하여 데이터 가져오기"
   ]
  },
  {
   "cell_type": "code",
   "execution_count": null,
   "id": "f262f912-fb63-4aa3-bcc9-baee7c562361",
   "metadata": {},
   "outputs": [],
   "source": [
    "# rows()로 데이터 가져오기\n",
    "from openpyxl import load_workbook\n",
    "\n",
    "# 엑셀 파일 불러오기\n",
    "wb = load_workbook(filename='월별구매고객리스트.xlsx')\n",
    "\n",
    "# '10월' 시트 불러오기\n",
    "ws = wb['10월']\n",
    "\n",
    "# 첫번째와 두번째 행을 제외하고 나머지 행을 리스트로 변환\n",
    "new_rows = list(ws.rows)[2:]\n",
    "\n",
    "# 나머지 행을 순회하며 B열과 C열의 데이터만 읽기\n",
    "for row in new_rows:\n",
    "    print(row[1].value, row[2].value)"
   ]
  },
  {
   "cell_type": "code",
   "execution_count": null,
   "id": "f1046f77-8d84-48a4-8715-c7e8c8b63759",
   "metadata": {},
   "outputs": [],
   "source": [
    "# iter_cols로 데이터 가져오기\n",
    "from openpyxl import load_workbook\n",
    "\n",
    "# 엑셀 파일 불러오기\n",
    "wb = load_workbook(filename='월별구매고객리스트.xlsx')\n",
    "\n",
    "# '10월' 시트 불러오기\n",
    "ws = wb['10월']\n",
    "\n",
    "# B열과 C열 데이터만 순회하기 (인덱스는 1부터 시작하므로 B열은 2, C열은 3입니다)\n",
    "for col in ws.iter_cols(min_col=2, max_col=3, min_row=3):\n",
    "    for cell in col:\n",
    "        print(cell.value)"
   ]
  },
  {
   "cell_type": "markdown",
   "id": "e921c91e-5624-4794-ac92-2f5655b1267b",
   "metadata": {},
   "source": [
    "## 특정 조건을 기준으로 데이터 가져오기"
   ]
  },
  {
   "cell_type": "code",
   "execution_count": null,
   "id": "31e48cd2-c1c1-4a09-b824-3008740da6cf",
   "metadata": {},
   "outputs": [],
   "source": [
    "from openpyxl import load_workbook\n",
    "\n",
    "# 엑셀 파일 불러오기\n",
    "wb = load_workbook(filename='월별구매고객리스트.xlsx')\n",
    "\n",
    "# '10월' 시트 불러오기\n",
    "ws = wb['10월']\n",
    "\n",
    "# 첫번째와 두번째 행을 제외하고 나머지 행을 리스트로 변환\n",
    "new_rows = list(ws.rows)[2:]\n",
    "\n",
    "# 나머지 행을 순회하며 읽기\n",
    "for row in new_rows:\n",
    "    if row[2].value >= 2:\n",
    "        print(row[1].value, row[2].value)"
   ]
  },
  {
   "cell_type": "markdown",
   "id": "e58037f7-6bf0-45cc-afba-ccb437f2e5f7",
   "metadata": {},
   "source": [
    "## 암호화된 엑셀 파일 다루기"
   ]
  },
  {
   "cell_type": "code",
   "execution_count": null,
   "id": "ad114aeb-4104-4b7f-b2fb-301032834708",
   "metadata": {},
   "outputs": [],
   "source": [
    "# msoffcrypto-tool라이브러리 설치\n",
    "!pip install msoffcrypto-tool openpyxl"
   ]
  },
  {
   "cell_type": "code",
   "execution_count": null,
   "id": "d193eccc-54b8-458b-94f4-99d18378e941",
   "metadata": {},
   "outputs": [],
   "source": [
    "import msoffcrypto\n",
    "from openpyxl import load_workbook\n",
    "\n",
    "# 암호화된 엑셀 파일 지정\n",
    "file = msoffcrypto.OfficeFile(open(\"월별구매고객리스트_잠김.xlsx\", \"rb\"))\n",
    "\n",
    "# 파일 암호 해제\n",
    "file.load_key(password=\"1234\")\n",
    "\n",
    "# 암호 해제된 데이터를 새 파일에 저장\n",
    "with open(\"월별구매고객리스트_잠김해제.xlsx\", \"wb\") as f:\n",
    "    file.decrypt(f)\n",
    "\n",
    "# 암호 해제된 파일 읽기\n",
    "wb = load_workbook(\"월별구매고객리스트_잠김해제.xlsx\")\n",
    "ws = wb.active\n",
    "\n",
    "# 워크시트의 모든 행을 순회하여 출력\n",
    "for row in ws.iter_rows(values_only=True):\n",
    "    print(row)\n",
    "\n",
    "# 암호 해제된 임시 파일 삭제\n",
    "import os\n",
    "os.remove(\"월별구매고객리스트_잠김해제.xlsx\")"
   ]
  }
 ],
 "metadata": {
  "kernelspec": {
   "display_name": "Python 3 (ipykernel)",
   "language": "python",
   "name": "python3"
  },
  "language_info": {
   "codemirror_mode": {
    "name": "ipython",
    "version": 3
   },
   "file_extension": ".py",
   "mimetype": "text/x-python",
   "name": "python",
   "nbconvert_exporter": "python",
   "pygments_lexer": "ipython3",
   "version": "3.11.7"
  }
 },
 "nbformat": 4,
 "nbformat_minor": 5
}
