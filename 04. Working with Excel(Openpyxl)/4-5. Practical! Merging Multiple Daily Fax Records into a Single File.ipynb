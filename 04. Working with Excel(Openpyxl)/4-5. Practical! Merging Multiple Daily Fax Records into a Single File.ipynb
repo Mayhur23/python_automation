{
 "cells": [
  {
   "cell_type": "markdown",
   "id": "6035c914-2427-4e6a-a60d-f84c64ca8ab9",
   "metadata": {},
   "source": [
    "# 04.5 실전! 일자별 팩스 내역 여러개를 하나의 파일로 합치기\n",
    "## 동일한 형식의 엑셀 파일 여러개를 하나의 파일로 합치기"
   ]
  },
  {
   "cell_type": "code",
   "execution_count": null,
   "id": "d0500c8a-f738-4092-89ee-b81ea09420df",
   "metadata": {},
   "outputs": [],
   "source": [
    "from openpyxl import Workbook, load_workbook\n",
    "import os\n",
    "import re\n",
    "\n",
    "# 새로운 엑셀 파일 생성\n",
    "new_wb = Workbook()\n",
    "new_ws = new_wb.active\n",
    "new_ws.title = \"수신내역\"\n",
    "\n",
    "# 헤더 행 추가\n",
    "new_ws.append(['수신시간', '발신번호', '페이지수', '용량'])\n",
    "\n",
    "# 파일 명에 맞는 정규 표현식 패턴\n",
    "pattern = re.compile(r'\\d{4}-\\d{2}-\\d{2} \\d{4}\\.xlsx')\n",
    "\n",
    "# 현재 디렉토리의 모든 파일을 순회\n",
    "for filename in os.listdir('.'):\n",
    "    if pattern.match(filename):\n",
    "        # 엑셀 파일 불러오기\n",
    "        wb = load_workbook(filename)\n",
    "        ws = wb.active\n",
    "\n",
    "        # 첫 번째 행 (헤더)은 제외하고 데이터를 새로운 엑셀 파일에 추가\n",
    "        for row in ws.iter_rows(min_row=2, values_only=True):\n",
    "            new_ws.append(row)\n",
    "\n",
    "# 새로운 엑셀 파일 저장\n",
    "new_wb.save('10월 팩스 수신 내역.xlsx')"
   ]
  }
 ],
 "metadata": {
  "kernelspec": {
   "display_name": "Python 3 (ipykernel)",
   "language": "python",
   "name": "python3"
  },
  "language_info": {
   "codemirror_mode": {
    "name": "ipython",
    "version": 3
   },
   "file_extension": ".py",
   "mimetype": "text/x-python",
   "name": "python",
   "nbconvert_exporter": "python",
   "pygments_lexer": "ipython3",
   "version": "3.11.7"
  }
 },
 "nbformat": 4,
 "nbformat_minor": 5
}
