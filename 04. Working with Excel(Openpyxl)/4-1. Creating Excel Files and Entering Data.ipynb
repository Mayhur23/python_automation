{
 "cells": [
  {
   "cell_type": "markdown",
   "id": "6035c914-2427-4e6a-a60d-f84c64ca8ab9",
   "metadata": {},
   "source": [
    "# 04.1 엑셀 파일 생성 및 데이터 입력\n",
    "## 엑셀 파일 생성 및 셀 단위로 데이터 입력하기"
   ]
  },
  {
   "cell_type": "code",
   "execution_count": null,
   "id": "d0500c8a-f738-4092-89ee-b81ea09420df",
   "metadata": {},
   "outputs": [],
   "source": [
    "# OpenPyxl 라이브러리 설치\n",
    "!pip install openpyxl"
   ]
  },
  {
   "cell_type": "code",
   "execution_count": null,
   "id": "c3c43c60-d930-445c-8bae-3f29e3763207",
   "metadata": {},
   "outputs": [],
   "source": [
    "# openpyxl 라이브러리에서 Workbook을 import\n",
    "from openpyxl import Workbook\n",
    "\n",
    "# Workbook 객체 생성\n",
    "wb= Workbook()\n",
    "\n",
    "# 현재 활성화된 워크시트 선택 후 ws 변수에 할당\n",
    "ws = wb.active\n",
    "\n",
    "#시트 제목을 '수강생_정보'로 변경\n",
    "ws.title = \"수강생_정보\"\n",
    "\n",
    "#시트의 A1셀에 '이철수'라는 데이터를 입력\n",
    "ws['A1'] = '이철수'\n",
    "\n",
    "# 워크북을 '수강생_리스트.xlsx' 엑셀 파일을 저장합니다\n",
    "wb.save(\"수강생_리스트.xlsx\")\n",
    "\n",
    "#워크북 닫기\n",
    "wb.close()"
   ]
  },
  {
   "cell_type": "markdown",
   "id": "bc0920a5-6fcd-4cd5-a53f-ea464a29a898",
   "metadata": {},
   "source": [
    "## 행 단위로 데이터 입력하기"
   ]
  },
  {
   "cell_type": "code",
   "execution_count": null,
   "id": "2d42780b-dd1f-4abe-a5d3-ab0aab8f6848",
   "metadata": {},
   "outputs": [],
   "source": [
    "from openpyxl import Workbook\n",
    "\n",
    "wb = Workbook()\n",
    "ws = wb.active\n",
    "\n",
    "ws.title = \"수강생_정보\"\n",
    "\n",
    "# 시트에 추가할 칼럼의 목록을 리스트형으로 'column'이라는 변수에 지정\n",
    "column = ['번호', '이름', '과목']\n",
    "\n",
    "# column리스트 목록을 시트 첫 행에 입력\n",
    "ws.append(column)\n",
    "\n",
    "# 시트에 추가할 데이터를 리스트형으로 'row'라는 변수에 지정\n",
    "row = [1, '이철수', '수학']\n",
    "\n",
    "# append로 row의 목록을 column 아래 행에 입력\n",
    "ws.append(row)\n",
    "\n",
    "# '중간평가', '기말평가' 두 개의 시트 추가\n",
    "wb.create_sheet('중간평가')\n",
    "wb.create_sheet('기말평가')\n",
    "\n",
    "wb.save(\"수강생_리스트.xlsx\")\n",
    "wb.close()"
   ]
  },
  {
   "cell_type": "code",
   "execution_count": null,
   "id": "b561bfaf-cfc7-43c5-90b3-d0a9e880d284",
   "metadata": {},
   "outputs": [],
   "source": [
    "from openpyxl import Workbook\n",
    "from operator import itemgetter \n",
    "\n",
    "wb = Workbook()\n",
    "ws = wb.active\n",
    "ws.title = '수강생_정보'\n",
    "\n",
    "column = ['번호', '이름', '과목']\n",
    "ws.append(column)\n",
    "\n",
    "# 행 단위로 추가할 데이터 리스트 생성\n",
    "row = [[1, '이철수', '수학'], [3, '김미소', '영어'], [2, '최학준', '컴퓨터']]\n",
    "\n",
    "# 첫번째 키를 기준으로 정렬\n",
    "row = sorted(row, key = itemgetter(0))\n",
    "\n",
    "# 리스트를 순회하며 행 별로 데이터 입력\n",
    "for data in row:\n",
    "  ws.append(data)\n",
    "\n",
    "wb.save('수강생_리스트.xlsx')\n",
    "wb.close()"
   ]
  },
  {
   "cell_type": "markdown",
   "id": "bd772847-6c38-43dc-98c9-22ddd253d3f3",
   "metadata": {},
   "source": [
    "## 엑셀 열 이름 - 열 번호 변환"
   ]
  },
  {
   "cell_type": "code",
   "execution_count": null,
   "id": "c9a342f2-eb47-401c-ad7e-d43f73d0455c",
   "metadata": {},
   "outputs": [],
   "source": [
    "# OpenPyXL의 유틸리티함수에서 get_column_letter와 column_index_from_string 함수 import\n",
    "from openpyxl.utils.cell import get_column_letter, column_index_from_string\n",
    "\n",
    "# 열 번호 16에 해당하는 엑셀 열 이름 얻기\n",
    "index = 16\n",
    "print('열 번호 16에 해당하는 엑셀 열 이름', get_column_letter(index))\n",
    "\n",
    "# 엑셀 열 이름 'AB'에 해당하는 열 번호 얻기\n",
    "print('열 이름 \"AB\"에 해당하는 열 번호', column_index_from_string('AB'))"
   ]
  },
  {
   "cell_type": "markdown",
   "id": "743ff508-1fce-4d07-bd1b-8481fca09622",
   "metadata": {},
   "source": [
    "## 열 단위로 데이터 입력하기"
   ]
  },
  {
   "cell_type": "markdown",
   "id": "1740ce97-bc97-4738-a5aa-4002c29b16b2",
   "metadata": {},
   "source": [
    "### 1) 'cell' 메서드 사용"
   ]
  },
  {
   "cell_type": "code",
   "execution_count": null,
   "id": "734f87ed-8e64-4f63-85e8-b99711c11957",
   "metadata": {},
   "outputs": [],
   "source": [
    "from openpyxl import Workbook\n",
    "\n",
    "wb = Workbook()\n",
    "ws = wb.active\n",
    "ws.title = \"수강생_정보\"\n",
    "\n",
    "# 열로 입력할 데이터를 리스트로 만들어 'data'에 저장\n",
    "data = [ '이철수', '김미소', '최학준' ]\n",
    "\n",
    "# for문으로 'A'열의 각 셀에 순서대로 접근하여 데이터를 입력\n",
    "for i, value in enumerate(data):\n",
    "    ws.cell(row=i+1, column=1, value=value)\n",
    "\n",
    "wb.save(\"수강생_리스트.xlsx\")"
   ]
  },
  {
   "cell_type": "markdown",
   "id": "21ff318c-da67-45be-a423-e13723685495",
   "metadata": {},
   "source": [
    "### 2) 열 이름 활용"
   ]
  },
  {
   "cell_type": "code",
   "execution_count": null,
   "id": "eb45512e-6e93-4e26-83b4-2e00c3518d11",
   "metadata": {},
   "outputs": [],
   "source": [
    "from openpyxl import Workbook\n",
    "from openpyxl.utils import get_column_letter\n",
    "\n",
    "wb = Workbook()\n",
    "ws = wb.active\n",
    "ws.title = \"수강생_정보\"\n",
    "\n",
    "# 열로 입력할 데이터를 리스트로 만들어 'data'에 저장\n",
    "data = [ '이철수', '김미소', '최학준' ]\n",
    "\n",
    "# 입력할 열의 인덱스 번호를 열이름으로 변환하여 'column_name'에 저장\n",
    "column_name = get_column_letter(2)\n",
    "\n",
    "# 데이터를 입력할 열의 각 셀의 위치를 for문으로 생성한후 'data'의 값을 하나씩 입력\n",
    "for i, value in enumerate(data):\n",
    "    ws[f\"{column_name}{i+1}\"] = value\n",
    "\n",
    "wb.save(\"수강생_리스트.xlsx\")"
   ]
  },
  {
   "cell_type": "markdown",
   "id": "20f5daed-1c16-41fd-977f-d5f8cfd37139",
   "metadata": {},
   "source": [
    "### 3) iter_cols() 함수 사용"
   ]
  },
  {
   "cell_type": "code",
   "execution_count": null,
   "id": "201f61ab-8ea5-490e-8fb6-b682c803cb38",
   "metadata": {},
   "outputs": [],
   "source": [
    "from openpyxl import Workbook\n",
    "\n",
    "wb = Workbook()\n",
    "ws = wb.active\n",
    "ws.title = \"수강생_정보\"\n",
    "\n",
    "# 열로 입력할 데이터를 리스트로 만들어 'data'에 저장\n",
    "data = [ '이철수', '김미소', '최학준' ]\n",
    "\n",
    "# C열의 셀을 순회할 수 있는 iterator를 가져오는데, 여기서 최대 행을 'data'의 원소 갯수로 지정\n",
    "col_cells = ws.iter_cols(min_col=3, max_col=3, max_row=len(data))\n",
    "\n",
    "# 이중for문으로 C열의 각 셀을 순환하며 'data' 리스트의 원소를 차례대로 입력\n",
    "for col in col_cells:\n",
    "    for i, cell in enumerate(col):\n",
    "        cell.value = data[i]\n",
    "\n",
    "wb.save(\"수강생_리스트.xlsx\")"
   ]
  },
  {
   "cell_type": "markdown",
   "id": "dc7747dd-7391-47a6-a538-3d59e791c956",
   "metadata": {},
   "source": [
    "### 4) 행과 열의 인덱스 번호로 데이터 입력"
   ]
  },
  {
   "cell_type": "code",
   "execution_count": null,
   "id": "85cacdb7-1858-4a29-b443-60e9befdf153",
   "metadata": {},
   "outputs": [],
   "source": [
    "from openpyxl import Workbook\n",
    "\n",
    "wb = Workbook()\n",
    "ws = wb.active\n",
    "ws.title = \"수강생_정보\"\n",
    "\n",
    "# A열과 B열에 입력할 데이터를 이중리스트로 만들어 'data'에 저장\n",
    "data = [\n",
    "    [ '이철수', '김미소', '최학준' ], [ '수학', '영어', '컴퓨터' ]\n",
    "]\n",
    "\n",
    "# 이중for문으로 열의 인덱스 번호와 행의 인덱스 번호로 셀에 데이터를 입력\n",
    "for col_idx, col_data in enumerate(data, start=1): \n",
    "    for row_idx, row_data in enumerate(col_data):\n",
    "        ws.cell(row=row_idx+1, column=col_idx, value=row_data)\n",
    "\n",
    "wb.save(\"수강생_리스트.xlsx\")"
   ]
  }
 ],
 "metadata": {
  "kernelspec": {
   "display_name": "Python 3 (ipykernel)",
   "language": "python",
   "name": "python3"
  },
  "language_info": {
   "codemirror_mode": {
    "name": "ipython",
    "version": 3
   },
   "file_extension": ".py",
   "mimetype": "text/x-python",
   "name": "python",
   "nbconvert_exporter": "python",
   "pygments_lexer": "ipython3",
   "version": "3.11.7"
  }
 },
 "nbformat": 4,
 "nbformat_minor": 5
}
