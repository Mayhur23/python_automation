{
 "cells": [
  {
   "cell_type": "markdown",
   "id": "6035c914-2427-4e6a-a60d-f84c64ca8ab9",
   "metadata": {},
   "source": [
    "# 04.4.실전! 조건에 맞는 데이터만 추출하여 새 파일로 저장하기\n",
    "## 하나의 문서에서 데이터 복사하여 새 파일로 저장하기"
   ]
  },
  {
   "cell_type": "code",
   "execution_count": null,
   "id": "d0500c8a-f738-4092-89ee-b81ea09420df",
   "metadata": {},
   "outputs": [],
   "source": [
    "# '10월'시트에서 신규 고객 리스트 추출하기\n",
    "from openpyxl import load_workbook\n",
    "\n",
    "# 엑셀 파일 불러오기\n",
    "wb = load_workbook(filename='월별구매고객리스트.xlsx', data_only=True)\n",
    "\n",
    "# '10월' 시트 불러오기\n",
    "ws = wb['10월']\n",
    "\n",
    "# 첫번째와 두번째 행을 제외하고 나머지 행을 리스트로 변환\n",
    "new_rows = list(ws.rows)[2:]\n",
    "\n",
    "# F열(인덱스 5)이 '신규'인 데이터만 추출\n",
    "for row in new_rows:\n",
    "    if row[5].value == '신규':  \n",
    "        row_values = [cell.value for cell in row]\n",
    "        print(row_values)\n",
    "\n",
    "wb.save(filename='제품별 신규 고객 리스트.xlsx')"
   ]
  },
  {
   "cell_type": "code",
   "execution_count": null,
   "id": "90f2db6a-7dae-49a7-95ae-a40aa6aa7178",
   "metadata": {},
   "outputs": [],
   "source": [
    "# 전체 시트에서 신규 고객 리스트 추출하기\n",
    "from openpyxl import load_workbook\n",
    "\n",
    "# 엑셀 파일 불러오기\n",
    "wb = load_workbook(filename='월별구매고객리스트.xlsx', data_only=True)\n",
    "\n",
    "# 처리할 월별 시트를 목록을 리스트 형태로 저장\n",
    "months = ['10월', '11월', '12월']\n",
    "\n",
    "# 각 월별로 반복\n",
    "for month in months:\n",
    "    ws = wb[month]  # 해당 월의 시트 불러오기\n",
    "    new_rows = list(ws.rows)[2:]  # 첫번째와 두번째 행을 제외하고 나머지 행을 리스트로 변환\n",
    "\n",
    "    # F열(인덱스 5)이 '신규'인 데이터만 추출\n",
    "    for row in new_rows:\n",
    "        if row[5].value == '신규':  \n",
    "            row_values = [cell.value for cell in row]\n",
    "            print(row_values)\n",
    "\n",
    "wb.save(filename='제품별 신규 고객 리스트.xlsx')"
   ]
  },
  {
   "cell_type": "code",
   "execution_count": null,
   "id": "27874e71-5132-4ab6-b34c-5badf0d5b40c",
   "metadata": {},
   "outputs": [],
   "source": [
    "# 제품별로 시트 구분하여 저장하기\n",
    "from openpyxl import load_workbook\n",
    "from openpyxl import Workbook\n",
    "\n",
    "# 원본 엑셀 파일 불러오기\n",
    "wb = load_workbook(filename='월별구매고객리스트.xlsx', data_only=True)\n",
    "\n",
    "# 새로운 엑셀 파일 생성\n",
    "new_wb = Workbook()\n",
    "new_ws = new_wb.active\n",
    "\n",
    "# 처리할 월별 시트를 목록을 리스트 형태로 저장\n",
    "months = ['10월', '11월', '12월']\n",
    "\n",
    "# 각 월별로 반복\n",
    "for month in months:\n",
    "    ws = wb[month]\n",
    "    index_row = [cell.value for cell in list(ws.rows)[1]]  # 원본 파일의 두 번째 행(인덱스)\n",
    "    new_rows = list(ws.rows)[2:] # 첫번째와 두번째 행을 제외하고 나머지 행을 리스트로 변환\n",
    "\n",
    "    # 데이터 분류 및 저장\n",
    "    for row in new_rows:\n",
    "        if row[5].value == '신규':  # F열(인덱스 5)이 '신규'인 경우\n",
    "            product = row[1].value  # B열(인덱스 1)의 제품 이름\n",
    "\n",
    "            # 해당 제품 시트가 없으면 새로 생성\n",
    "            if product not in new_wb.sheetnames:\n",
    "                new_wb.create_sheet(title=product)\n",
    "                product_ws = new_wb[product]\n",
    "                product_ws.append(index_row)  # 인덱스 행을 새 시트의 첫 번째 행에 추가\n",
    "\n",
    "            # 해당 시트를 선택\n",
    "            product_ws = new_wb[product]\n",
    "\n",
    "            # 데이터 추가\n",
    "            product_ws.append([cell.value for cell in row])\n",
    "\n",
    "# 임시로 만든 시트 삭제\n",
    "del new_wb['Sheet']\n",
    "\n",
    "# 새로운 엑셀 파일 저장\n",
    "new_wb.save(filename='제품별 신규 고객 리스트.xlsx')"
   ]
  }
 ],
 "metadata": {
  "kernelspec": {
   "display_name": "Python 3 (ipykernel)",
   "language": "python",
   "name": "python3"
  },
  "language_info": {
   "codemirror_mode": {
    "name": "ipython",
    "version": 3
   },
   "file_extension": ".py",
   "mimetype": "text/x-python",
   "name": "python",
   "nbconvert_exporter": "python",
   "pygments_lexer": "ipython3",
   "version": "3.11.7"
  }
 },
 "nbformat": 4,
 "nbformat_minor": 5
}
