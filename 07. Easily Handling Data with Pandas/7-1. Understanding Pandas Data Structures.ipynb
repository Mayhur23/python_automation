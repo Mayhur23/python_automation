{
 "cells": [
  {
   "cell_type": "markdown",
   "id": "6035c914-2427-4e6a-a60d-f84c64ca8ab9",
   "metadata": {},
   "source": [
    "# 07.1 판다스(Pandas) 데이터 구조 이해하기\n",
    "## 데이터 구조의 이해\n",
    "### 시리즈(Series)"
   ]
  },
  {
   "cell_type": "markdown",
   "id": "d2d45d74-facd-4e38-a902-702e066653c8",
   "metadata": {},
   "source": [
    "시리즈 생성 기본 형식  \n",
    "s = pd.Series(data, index=index_data)"
   ]
  },
  {
   "cell_type": "code",
   "execution_count": null,
   "id": "d0500c8a-f738-4092-89ee-b81ea09420df",
   "metadata": {},
   "outputs": [],
   "source": [
    "s = pd.Series([1, 2, 3, 4], index=['a', 'b', 'c', 'd'])\n",
    "print(s)"
   ]
  },
  {
   "cell_type": "code",
   "execution_count": null,
   "id": "e02cbab4-adb3-44ea-ad39-b3d6f30dc812",
   "metadata": {},
   "outputs": [],
   "source": [
    "import pandas as pd\n",
    "\n",
    "s = pd.Series([1, 2, 3, 4], index=['a', 'b', 'c', 'd'])\n",
    "print(s)"
   ]
  },
  {
   "cell_type": "code",
   "execution_count": null,
   "id": "a866dc2c-f2f7-4fe6-9677-974d8d0eddbc",
   "metadata": {},
   "outputs": [],
   "source": [
    "print(s.index)\n",
    "print(s.values)\n",
    "print(s.dtype)\n"
   ]
  },
  {
   "cell_type": "code",
   "execution_count": null,
   "id": "3f9d03df-7188-4c08-8f8a-96d7503d2785",
   "metadata": {},
   "outputs": [],
   "source": [
    "# 정수 인덱스를 자동 생성했을 경우 인덱스 출력\n",
    "s2 = pd.Series([1, 2, 3, 4])\n",
    "print(s2.index)"
   ]
  },
  {
   "cell_type": "code",
   "execution_count": null,
   "id": "f6861efb-5e24-4eb5-8b76-a12612f6adfd",
   "metadata": {},
   "outputs": [],
   "source": [
    "# 시리즈의 인덱스를 활용하여 특정 위치의 값을 가져오기\n",
    "s = pd.Series([1, 2, 3, 4], index=['a', 'b', 'c', 'd'])\n",
    "print(s['c'])\n",
    "print(s[['b', 'c']])\n"
   ]
  },
  {
   "cell_type": "code",
   "execution_count": null,
   "id": "54dc3b5e-61f9-4f0c-b509-e09aea4bc609",
   "metadata": {},
   "outputs": [],
   "source": [
    "# 조건을 사용해 데이터 필터링\n",
    "s = pd.Series([1, 2, 3, 4], index=['a', 'b', 'c', 'd'])\n",
    "print(s[s > 2])\n"
   ]
  },
  {
   "cell_type": "markdown",
   "id": "03d1f9c5-b53e-4867-a0ce-92e1024b2f9d",
   "metadata": {},
   "source": [
    "### 데이터프레임(DataFrame)\n",
    "#### 데이터프레임 생성하기"
   ]
  },
  {
   "cell_type": "markdown",
   "id": "4db57699-2eb4-4c92-a032-21176aca3810",
   "metadata": {},
   "source": [
    "데이터프레임 생성 기본 형식  \n",
    "df = pd.DataFrame(data, index = index_data, columns = columns_data)"
   ]
  },
  {
   "cell_type": "code",
   "execution_count": null,
   "id": "fcebade2-3980-4fdd-9f31-4c57a8352ba0",
   "metadata": {},
   "outputs": [],
   "source": [
    "# 딕셔너리로 데이터프레임 생성하기\n",
    "import pandas as pd\n",
    "\n",
    "# 딕셔너리 생성\n",
    "data_dict = {\n",
    "    '이름': ['소라', '창훈', '영미'],\n",
    "    '나이': [25, 30, 35],\n",
    "    '거주지': ['인천', '순천', '동해']\n",
    "}\n",
    "\n",
    "# 딕셔너리를 사용하여 데이터프레임 생성\n",
    "df_dict = pd.DataFrame(data_dict)\n",
    "\n",
    "print(df_dict)\n"
   ]
  },
  {
   "cell_type": "code",
   "execution_count": null,
   "id": "eeec81c5-81ec-4c5b-b5f3-5e2e7e9e1919",
   "metadata": {},
   "outputs": [],
   "source": [
    "# 리스트로 데이터프레임 생성하기\n",
    "import pandas as pd\n",
    "\n",
    "# 리스트 생성\n",
    "data_list = [\n",
    "    ['소라', 25, '인천'],\n",
    "    ['창훈', 30, '순천'],\n",
    "    ['영미', 35, '동해']\n",
    "]\n",
    "\n",
    "# 열 이름을 별도로 지정\n",
    "columns = ['이름', '나이', '거주지']\n",
    "\n",
    "# 리스트를 사용하여 데이터프레임 생성\n",
    "df_list = pd.DataFrame(data_list, columns=columns)\n",
    "\n",
    "print(df_list)\n"
   ]
  },
  {
   "cell_type": "code",
   "execution_count": null,
   "id": "950aea3c-67e5-4e87-928d-39c8e328f44b",
   "metadata": {},
   "outputs": [],
   "source": [
    "# 인덱스, 열이름, 값 출력하기\n",
    "print(df_list.index)\n",
    "print(df_list.columns)\n",
    "print(df_list.values)\n"
   ]
  },
  {
   "cell_type": "code",
   "execution_count": null,
   "id": "bdf7c187-44bd-45c6-b1ec-4b1e772585b7",
   "metadata": {},
   "outputs": [],
   "source": [
    "# 데이터타입 출력하기\n",
    "print(df_list.dtypes)\n"
   ]
  },
  {
   "cell_type": "markdown",
   "id": "bfb65f74-4ddc-4b52-8533-71b8a75fe2ce",
   "metadata": {},
   "source": [
    "#### 데이터 파일을 데이터프레임으로 가져오기\n",
    "##### 1) CSV 파일 읽기와 쓰기\n",
    "###### CSV 파일 읽기"
   ]
  },
  {
   "cell_type": "markdown",
   "id": "dd7672c3-a6d4-4cbb-84ac-41dd6e3fc9de",
   "metadata": {},
   "source": [
    "csv 파일 읽기 기본 형식  \n",
    "  \n",
    "df = pd.read_csv(filepath,  \n",
    "　　　　　　　　　sep=',',  \n",
    "　　　　　　　　　header='infer',  \n",
    "　　　　　　　　　names=None,  \n",
    "　　　　　　　　　index_col=None,  \n",
    "　　　　　　　　　usecols=None,  \n",
    "　　　　　　　　　dtype=None,  \n",
    "　　　　　　　　　skiprows=None,  \n",
    "　　　　　　　　　nrows=None,  \n",
    "　　　　　　　　　encoding=None, ...)"
   ]
  },
  {
   "cell_type": "code",
   "execution_count": null,
   "id": "6ae86ea5-3ccf-4d44-84f3-626b2c721b29",
   "metadata": {
    "scrolled": true
   },
   "outputs": [],
   "source": [
    "import pandas as pd\n",
    "\n",
    "# 파일 경로 지정\n",
    "excel_file = 'school_records.csv'\n",
    "\n",
    "# CSV 파일을 데이터프레임으로 불러오기\n",
    "df_school_loaded = pd.read_csv(excel_file)\n",
    "df_school_loaded\n"
   ]
  },
  {
   "cell_type": "markdown",
   "id": "eff9b314-f82a-4056-87e4-38f0ca51552c",
   "metadata": {},
   "source": [
    "###### CSV 파일 쓰기"
   ]
  },
  {
   "cell_type": "markdown",
   "id": "5bf4dd75-303e-4507-ad8a-3fb44a90daf1",
   "metadata": {},
   "source": [
    "csv 파일 쓰기 기본 형식  \n",
    "df.to_csv(file_name,  \n",
    "　　　　　sep=',',  \n",
    "　　　　　na_rep='',   \n",
    "　　　　　columns=None,  \n",
    "　　　　　header=True,  \n",
    "　　　　　index=True,  \n",
    "　　　　　encoding=None, ...)"
   ]
  },
  {
   "cell_type": "code",
   "execution_count": null,
   "id": "a08795da-16d5-4131-8ce5-7bb5e185d3cc",
   "metadata": {},
   "outputs": [],
   "source": [
    "# csv 파일로 저장할 데이터프레임 생성하기\n",
    "import pandas as pd\n",
    "\n",
    "data = {'연도': [2010, 2011, 2012, 2013, 2014],\n",
    "    '인구(만명)': [5000, 5050, 5100, 5150, 5200],\n",
    "    'GDP(억달러)': [1000, 1050, 1100, 1150, 1200]}\n",
    "\n",
    "df_years = pd.DataFrame(data)\n",
    "df_years\n"
   ]
  },
  {
   "cell_type": "code",
   "execution_count": null,
   "id": "60c642ed-3f90-4244-a1fb-efe64a2df858",
   "metadata": {},
   "outputs": [],
   "source": [
    "# 파일 저장하기\n",
    "\n",
    "# 파일 경로 지정\n",
    "csv_file = 'years_data.csv'\n",
    "\n",
    "# df_years를 CSV파일로 저장\n",
    "df_years.to_csv(csv_file)\n",
    "print('저장된 파일 경로:', csv_file)\n"
   ]
  },
  {
   "cell_type": "code",
   "execution_count": null,
   "id": "2915dd9c-40f7-40dc-9830-8f78d7221da0",
   "metadata": {},
   "outputs": [],
   "source": [
    "# 인코딩 옵션 추가, 인덱스 설정 옵션 제외한 경우\n",
    "\n",
    "# 파일 경로 지정\n",
    "csv_file = 'years_data_cp949.csv'\n",
    "\n",
    "# df_years를 CSV파일로 저장\n",
    "df_years.to_csv(csv_file, encoding=\"cp949\", index=False)\n",
    "print('저장된 파일 경로:', csv_file)\n"
   ]
  },
  {
   "cell_type": "markdown",
   "id": "bf4bcf33-1f01-41cd-a8f0-b29be5c69e22",
   "metadata": {},
   "source": [
    "##### 2) Excel 파일 읽기와 쓰기\n",
    "###### 엑셀 파일 읽기"
   ]
  },
  {
   "cell_type": "markdown",
   "id": "2b7cc302-b0b8-4040-9d6a-b9dbad83bffa",
   "metadata": {},
   "source": [
    "엑셀 파일 읽기 기본 형식  \n",
    "df = pd.read_excel(excel_file,  \n",
    "　　　　　　　　　　sheet_name='Sheet1',  \n",
    "　　　　　　　　　　header=None,  \n",
    "　　　　　　　　　　names=None,  \n",
    "　　　　　　　　　　index_col=None,  \n",
    "　　　　　　　　　　usecols=None,  \n",
    "　　　　　　　　　　skiprows=None,  \n",
    "　　　　　　　　　　nrows=None, ...)"
   ]
  },
  {
   "cell_type": "code",
   "execution_count": null,
   "id": "acc1ad1a-7c90-42f9-bea1-5929d718b8a5",
   "metadata": {},
   "outputs": [],
   "source": [
    "import pandas as pd\n",
    "\n",
    "# 읽어올 엑셀 파일\n",
    "excelfile = 'sales_data.xlsx'\n",
    "\n",
    "# 데이터프레임 생성\n",
    "df = pd.read_excel(excelfile)\n",
    "df\n"
   ]
  },
  {
   "cell_type": "markdown",
   "id": "3ae9f5a2-5afe-4907-a5d9-ab5986b4d0e4",
   "metadata": {},
   "source": [
    "###### 엑셀 파일 쓰기"
   ]
  },
  {
   "cell_type": "markdown",
   "id": "b3cb51b6-cb35-498f-8984-2a0ac44553ee",
   "metadata": {},
   "source": [
    "엑셀 파일 쓰기 기본 형식  \n",
    "df.to_excel(excel_file,  \n",
    "　　　　　　index=True,  \n",
    "　　　　　　header=True,  \n",
    "　　　　　　sheet_name='Sheet1',  \n",
    "　　　　　　startrow=0,  \n",
    "　　　　　　startcol=0,...)"
   ]
  },
  {
   "cell_type": "code",
   "execution_count": null,
   "id": "80756493-520f-4e2f-bfea-2683e59ff4a0",
   "metadata": {},
   "outputs": [],
   "source": [
    "# 저장할 데이터프레임 생성하기\n",
    "import pandas as pd\n",
    "\n",
    "# 도서 목록 데이터프레임 생성\n",
    "books_df = pd.DataFrame({\n",
    "    '도서ID': [1, 2, 3, 4],\n",
    "    '도서명': ['파이썬 프로그래밍', '데이터 분석', '머신러닝 입문', '인공지능의 이해'],\n",
    "    '저자': ['김파이썬', '이데이터', '박머신', '최인공'],\n",
    "    '출판년도': [2019, 2020, 2018, 2021]\n",
    "})\n",
    "\n",
    "books_df\n"
   ]
  },
  {
   "cell_type": "code",
   "execution_count": null,
   "id": "a4b599a3-c3d6-4038-b4af-c7dd588f2e0e",
   "metadata": {},
   "outputs": [],
   "source": [
    "# 엑셀 파일로 저장하기\n",
    "\n",
    "# 파일 경로 지정\n",
    "excel_file = '도서_데이터.xlsx'\n",
    "\n",
    "# books_df를 엑셀 파일로 저장\n",
    "books_df.to_excel(excel_file)\n",
    "print('저장된 파일 경로:', excel_file)\n"
   ]
  },
  {
   "cell_type": "markdown",
   "id": "775c1650-965e-4310-aab2-bf4398ceb5d5",
   "metadata": {},
   "source": [
    "여러 시트에 각각 데이터프레임 저장하는 기본 형식  \n",
    "with pd.ExcelWriter(excel_file) as writer:  \n",
    "　　df1.to_excel(writer, sheet_name='Sheet1')  \n",
    "　　df2.to_excel(writer, sheet_name='Sheet2')  \n",
    "　　df3.to_excel(writer, sheet_name='Sheet3')"
   ]
  },
  {
   "cell_type": "code",
   "execution_count": null,
   "id": "ad2e9b40-fae7-41e5-afd9-3ebb71564cbe",
   "metadata": {},
   "outputs": [],
   "source": [
    "# 여러개의 데이터 프레임 생성하기\n",
    "# 도서 목록 데이터프레임 생성\n",
    "books_df = pd.DataFrame({\n",
    "    '도서ID': [1, 2, 3, 4],\n",
    "    '도서명': ['파이썬 프로그래밍', '데이터 분석', '머신러닝 입문', '인공지능의 이해'],\n",
    "    '저자': ['김파이썬', '이데이터', '박머신', '최인공'],\n",
    "    '출판년도': [2019, 2020, 2018, 2021]\n",
    "})\n",
    "\n",
    "\n",
    "# 회원 목록 데이터프레임 생성\n",
    "members_df = pd.DataFrame({\n",
    "    '회원ID': [101, 102, 103, 104],\n",
    "    '이름': ['홍길동', '김철수', '이영희', '박영수'],\n",
    "    '가입일': ['2021-01-01', '2021-02-15', '2021-03-22', '2021-04-30'],\n",
    "    '생년월일': ['1990-05-05', '1985-08-11', '1992-12-03', '1988-07-19']\n",
    "})\n",
    "\n",
    "# 대출 기록 데이터프레임 생성\n",
    "borrow_df = pd.DataFrame({\n",
    "    '대출ID': [1001, 1002, 1003, 1004],\n",
    "    '회원ID': [101, 103, 102, 104],\n",
    "    '도서ID': [3, 1, 2, 4],\n",
    "    '대출일': ['2023-03-01', '2023-03-05', '2023-03-07', '2023-03-15'],\n",
    "    '반납예정일': ['2023-03-15', '2023-03-19', '2023-03-21', '2023-03-29']\n",
    "})\n"
   ]
  },
  {
   "cell_type": "code",
   "execution_count": null,
   "id": "72cceab1-1c96-4e45-9928-826d34981a21",
   "metadata": {},
   "outputs": [],
   "source": [
    "# 여러개의 시트에 분리하여 저장하기\n",
    "\n",
    "# 파일 경로 지정\n",
    "excel_file = '도서_데이터_전체.xlsx'\n",
    "\n",
    "# books_df, members_df, borrow_df를 excel파일 각각의 시트에 저장\n",
    "with pd.ExcelWriter(excel_file) as writer:\n",
    "    books_df.to_excel(writer, sheet_name='도서_목록', index=False)\n",
    "    members_df.to_excel(writer, sheet_name='회원_목록', index=False)\n",
    "    borrow_df.to_excel(writer, sheet_name='대출_기록', index=False)\n",
    "\n",
    "print('저장된 파일 경로:', excel_file)\n"
   ]
  },
  {
   "cell_type": "code",
   "execution_count": null,
   "id": "21af66c0-749c-4f52-86c6-03a8c3b1fec1",
   "metadata": {},
   "outputs": [],
   "source": [
    "# 하나의 워크시트에 데이터가 겹치지 않도록 각각 위치 지정하여 저장하기\n",
    "\n",
    "# 파일 경로 지정\n",
    "excel_file = '도서_데이터_onesheet.xlsx'\n",
    "\n",
    "# books_df, members_df, borrow_df를 excel파일 각각의 시트에 저장\n",
    "with pd.ExcelWriter(excel_file) as writer:\n",
    "    books_df.to_excel(writer, sheet_name='도서데이터', index=False)\n",
    "    members_df.to_excel(writer, sheet_name='도서데이터', startrow=0, startcol=5, index=False)\n",
    "    borrow_df.to_excel(writer, sheet_name='도서데이터', startrow=6, startcol=0, index=False)\n",
    "\n",
    "print('저장된 파일 경로:', excel_file)\n"
   ]
  }
 ],
 "metadata": {
  "kernelspec": {
   "display_name": "Python 3 (ipykernel)",
   "language": "python",
   "name": "python3"
  },
  "language_info": {
   "codemirror_mode": {
    "name": "ipython",
    "version": 3
   },
   "file_extension": ".py",
   "mimetype": "text/x-python",
   "name": "python",
   "nbconvert_exporter": "python",
   "pygments_lexer": "ipython3",
   "version": "3.11.7"
  }
 },
 "nbformat": 4,
 "nbformat_minor": 5
}
